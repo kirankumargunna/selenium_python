{
 "cells": [
  {
   "cell_type": "code",
   "execution_count": 1,
   "id": "c777643c-e456-4019-ba25-a2740ccd5382",
   "metadata": {},
   "outputs": [],
   "source": [
    "## comments\n",
    "### Block comment"
   ]
  },
  {
   "cell_type": "code",
   "execution_count": 12,
   "id": "cdd460d0-ea23-441d-a159-cd5379626208",
   "metadata": {},
   "outputs": [
    {
     "name": "stdout",
     "output_type": "stream",
     "text": [
      "105\n"
     ]
    }
   ],
   "source": [
    "# increase price by 5%\n",
    "price=100\n",
    "price = price * 1.05\n",
    "print(int(price))"
   ]
  },
  {
   "cell_type": "code",
   "execution_count": 8,
   "id": "fe0de373-e2a1-4a35-a1ef-efe213a8fde3",
   "metadata": {},
   "outputs": [],
   "source": [
    "### inline comment "
   ]
  },
  {
   "cell_type": "code",
   "execution_count": 11,
   "id": "25828686-fb1c-4762-8bc4-6d8041b208b2",
   "metadata": {},
   "outputs": [
    {
     "name": "stdout",
     "output_type": "stream",
     "text": [
      "10200\n"
     ]
    }
   ],
   "source": [
    "# when you place comment in the same line \n",
    "salary = 10000\n",
    "salary = salary * 1.02   # increase salary by 2%\n",
    "print(int(salary))"
   ]
  },
  {
   "cell_type": "code",
   "execution_count": 13,
   "id": "3ac5b25f-9c9c-420c-af42-e7b50017f348",
   "metadata": {},
   "outputs": [],
   "source": [
    "### multiline comment "
   ]
  },
  {
   "cell_type": "code",
   "execution_count": 14,
   "id": "68658400-b273-413d-a9dd-c953c7d36982",
   "metadata": {},
   "outputs": [
    {
     "data": {
      "text/plain": [
       "'\\nfjsdjflksdaf\\n'"
      ]
     },
     "execution_count": 14,
     "metadata": {},
     "output_type": "execute_result"
    }
   ],
   "source": [
    "\"\"\"\n",
    "fjsdjflksdaf\n",
    "\"\"\"\"\"\n"
   ]
  },
  {
   "cell_type": "code",
   "execution_count": 16,
   "id": "2046cbf1-e013-495a-a05a-40b62998da44",
   "metadata": {},
   "outputs": [],
   "source": [
    "def functionssd():\n",
    "    \"\"\"\n",
    "    This is a block comment.\n",
    "    It can span multiple lines.\n",
    "    \"\"\"\n",
    "    print(\"dfssdlf\")"
   ]
  },
  {
   "cell_type": "code",
   "execution_count": 23,
   "id": "0ef77ddf-7640-4dcc-927f-7a83c75e6992",
   "metadata": {},
   "outputs": [
    {
     "name": "stdout",
     "output_type": "stream",
     "text": [
      "Help on built-in function print in module builtins:\n",
      "\n",
      "print(*args, sep=' ', end='\\n', file=None, flush=False)\n",
      "    Prints the values to a stream, or to sys.stdout by default.\n",
      "\n",
      "    sep\n",
      "      string inserted between values, default a space.\n",
      "    end\n",
      "      string appended after the last value, default a newline.\n",
      "    file\n",
      "      a file-like object (stream); defaults to the current sys.stdout.\n",
      "    flush\n",
      "      whether to forcibly flush the stream.\n",
      "\n"
     ]
    }
   ],
   "source": [
    "help(print)"
   ]
  },
  {
   "cell_type": "code",
   "execution_count": null,
   "id": "f1e823c3-b32e-429b-9cee-5b9f8b2b0ab9",
   "metadata": {},
   "outputs": [],
   "source": []
  }
 ],
 "metadata": {
  "kernelspec": {
   "display_name": "Python 3 (ipykernel)",
   "language": "python",
   "name": "python3"
  },
  "language_info": {
   "codemirror_mode": {
    "name": "ipython",
    "version": 3
   },
   "file_extension": ".py",
   "mimetype": "text/x-python",
   "name": "python",
   "nbconvert_exporter": "python",
   "pygments_lexer": "ipython3",
   "version": "3.12.4"
  }
 },
 "nbformat": 4,
 "nbformat_minor": 5
}
