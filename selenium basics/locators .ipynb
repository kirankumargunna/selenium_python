{
 "cells": [
  {
   "cell_type": "markdown",
   "id": "7f686b4e-538d-48c0-8a7a-6fa69eac76aa",
   "metadata": {},
   "source": [
    "#### Here are all the locators available in Selenium with Python:  \n",
    "\n",
    "**ID**: Locate elements by their unique `id` attribute.  \n",
    "**Name**: Locate elements by their `name` attribute.  \n",
    "**Class Name**: Locate elements by their `class` attribute.  \n",
    "**Tag Name**: Locate elements by their HTML tag (e.g., `div`, `a`).  \n",
    "**CSS Selector**: Locate elements using CSS-style selectors.  \n",
    "**XPath**: Locate elements using XPath expressions.  \n",
    "**Link Text**: Locate links by their full text.  \n",
    "**Partial Link Text**: Locate links by a partial match of their text.  "
   ]
  },
  {
   "cell_type": "code",
   "execution_count": 4,
   "id": "6ba13193-9158-4718-af9d-ca542fa9ff79",
   "metadata": {},
   "outputs": [
    {
     "ename": "NoSuchElementException",
     "evalue": "Message: no such element: Unable to locate element: {\"method\":\"css selector\",\"selector\":\"[id=\"shub60\"]\"}\n  (Session info: chrome=129.0.6668.90); For documentation on this error, please visit: https://www.selenium.dev/documentation/webdriver/troubleshooting/errors#no-such-element-exception\nStacktrace:\n\tGetHandleVerifier [0x002770E3+25587]\n\t(No symbol) [0x0020A284]\n\t(No symbol) [0x00102113]\n\t(No symbol) [0x00146F62]\n\t(No symbol) [0x001471AB]\n\t(No symbol) [0x00187852]\n\t(No symbol) [0x0016ABE4]\n\t(No symbol) [0x00185370]\n\t(No symbol) [0x0016A936]\n\t(No symbol) [0x0013BA73]\n\t(No symbol) [0x0013C4CD]\n\tGetHandleVerifier [0x00554C23+3030835]\n\tGetHandleVerifier [0x005A6B59+3366505]\n\tGetHandleVerifier [0x00309592+624802]\n\tGetHandleVerifier [0x00310E0C+655644]\n\t(No symbol) [0x00212C3D]\n\t(No symbol) [0x0020FD08]\n\t(No symbol) [0x0020FEA5]\n\t(No symbol) [0x002022D6]\n\tBaseThreadInitThunk [0x7670FCC9+25]\n\tRtlGetAppContainerNamedObjectPath [0x77E9809E+286]\n\tRtlGetAppContainerNamedObjectPath [0x77E9806E+238]\n\t(No symbol) [0x00000000]\n",
     "output_type": "error",
     "traceback": [
      "\u001b[1;31m---------------------------------------------------------------------------\u001b[0m",
      "\u001b[1;31mNoSuchElementException\u001b[0m                    Traceback (most recent call last)",
      "Cell \u001b[1;32mIn[4], line 14\u001b[0m\n\u001b[0;32m     12\u001b[0m driver\u001b[38;5;241m.\u001b[39mget(url) \u001b[38;5;66;03m# open selectorshub practice page\u001b[39;00m\n\u001b[0;32m     13\u001b[0m driver\u001b[38;5;241m.\u001b[39mimplicitly_wait(\u001b[38;5;241m3\u001b[39m)\n\u001b[1;32m---> 14\u001b[0m \u001b[43mdriver\u001b[49m\u001b[38;5;241;43m.\u001b[39;49m\u001b[43mfind_element\u001b[49m\u001b[43m(\u001b[49m\u001b[43mBy\u001b[49m\u001b[38;5;241;43m.\u001b[39;49m\u001b[43mID\u001b[49m\u001b[43m,\u001b[49m\u001b[38;5;124;43m'\u001b[39;49m\u001b[38;5;124;43mshub60\u001b[39;49m\u001b[38;5;124;43m'\u001b[39;49m\u001b[43m)\u001b[49m\u001b[38;5;241m.\u001b[39mclick()\u001b[38;5;241m.\u001b[39msendkeys(\u001b[38;5;124m\"\u001b[39m\u001b[38;5;124mxyz@gmail.com\u001b[39m\u001b[38;5;124m\"\u001b[39m)\n\u001b[0;32m     15\u001b[0m driver\u001b[38;5;241m.\u001b[39mquit()\n",
      "File \u001b[1;32m~\\AppData\\Local\\Programs\\Python\\Python312\\Lib\\site-packages\\selenium\\webdriver\\remote\\webdriver.py:748\u001b[0m, in \u001b[0;36mWebDriver.find_element\u001b[1;34m(self, by, value)\u001b[0m\n\u001b[0;32m    745\u001b[0m     by \u001b[38;5;241m=\u001b[39m By\u001b[38;5;241m.\u001b[39mCSS_SELECTOR\n\u001b[0;32m    746\u001b[0m     value \u001b[38;5;241m=\u001b[39m \u001b[38;5;124mf\u001b[39m\u001b[38;5;124m'\u001b[39m\u001b[38;5;124m[name=\u001b[39m\u001b[38;5;124m\"\u001b[39m\u001b[38;5;132;01m{\u001b[39;00mvalue\u001b[38;5;132;01m}\u001b[39;00m\u001b[38;5;124m\"\u001b[39m\u001b[38;5;124m]\u001b[39m\u001b[38;5;124m'\u001b[39m\n\u001b[1;32m--> 748\u001b[0m \u001b[38;5;28;01mreturn\u001b[39;00m \u001b[38;5;28;43mself\u001b[39;49m\u001b[38;5;241;43m.\u001b[39;49m\u001b[43mexecute\u001b[49m\u001b[43m(\u001b[49m\u001b[43mCommand\u001b[49m\u001b[38;5;241;43m.\u001b[39;49m\u001b[43mFIND_ELEMENT\u001b[49m\u001b[43m,\u001b[49m\u001b[43m \u001b[49m\u001b[43m{\u001b[49m\u001b[38;5;124;43m\"\u001b[39;49m\u001b[38;5;124;43musing\u001b[39;49m\u001b[38;5;124;43m\"\u001b[39;49m\u001b[43m:\u001b[49m\u001b[43m \u001b[49m\u001b[43mby\u001b[49m\u001b[43m,\u001b[49m\u001b[43m \u001b[49m\u001b[38;5;124;43m\"\u001b[39;49m\u001b[38;5;124;43mvalue\u001b[39;49m\u001b[38;5;124;43m\"\u001b[39;49m\u001b[43m:\u001b[49m\u001b[43m \u001b[49m\u001b[43mvalue\u001b[49m\u001b[43m}\u001b[49m\u001b[43m)\u001b[49m[\u001b[38;5;124m\"\u001b[39m\u001b[38;5;124mvalue\u001b[39m\u001b[38;5;124m\"\u001b[39m]\n",
      "File \u001b[1;32m~\\AppData\\Local\\Programs\\Python\\Python312\\Lib\\site-packages\\selenium\\webdriver\\remote\\webdriver.py:354\u001b[0m, in \u001b[0;36mWebDriver.execute\u001b[1;34m(self, driver_command, params)\u001b[0m\n\u001b[0;32m    352\u001b[0m response \u001b[38;5;241m=\u001b[39m \u001b[38;5;28mself\u001b[39m\u001b[38;5;241m.\u001b[39mcommand_executor\u001b[38;5;241m.\u001b[39mexecute(driver_command, params)\n\u001b[0;32m    353\u001b[0m \u001b[38;5;28;01mif\u001b[39;00m response:\n\u001b[1;32m--> 354\u001b[0m     \u001b[38;5;28;43mself\u001b[39;49m\u001b[38;5;241;43m.\u001b[39;49m\u001b[43merror_handler\u001b[49m\u001b[38;5;241;43m.\u001b[39;49m\u001b[43mcheck_response\u001b[49m\u001b[43m(\u001b[49m\u001b[43mresponse\u001b[49m\u001b[43m)\u001b[49m\n\u001b[0;32m    355\u001b[0m     response[\u001b[38;5;124m\"\u001b[39m\u001b[38;5;124mvalue\u001b[39m\u001b[38;5;124m\"\u001b[39m] \u001b[38;5;241m=\u001b[39m \u001b[38;5;28mself\u001b[39m\u001b[38;5;241m.\u001b[39m_unwrap_value(response\u001b[38;5;241m.\u001b[39mget(\u001b[38;5;124m\"\u001b[39m\u001b[38;5;124mvalue\u001b[39m\u001b[38;5;124m\"\u001b[39m, \u001b[38;5;28;01mNone\u001b[39;00m))\n\u001b[0;32m    356\u001b[0m     \u001b[38;5;28;01mreturn\u001b[39;00m response\n",
      "File \u001b[1;32m~\\AppData\\Local\\Programs\\Python\\Python312\\Lib\\site-packages\\selenium\\webdriver\\remote\\errorhandler.py:229\u001b[0m, in \u001b[0;36mErrorHandler.check_response\u001b[1;34m(self, response)\u001b[0m\n\u001b[0;32m    227\u001b[0m         alert_text \u001b[38;5;241m=\u001b[39m value[\u001b[38;5;124m\"\u001b[39m\u001b[38;5;124malert\u001b[39m\u001b[38;5;124m\"\u001b[39m]\u001b[38;5;241m.\u001b[39mget(\u001b[38;5;124m\"\u001b[39m\u001b[38;5;124mtext\u001b[39m\u001b[38;5;124m\"\u001b[39m)\n\u001b[0;32m    228\u001b[0m     \u001b[38;5;28;01mraise\u001b[39;00m exception_class(message, screen, stacktrace, alert_text)  \u001b[38;5;66;03m# type: ignore[call-arg]  # mypy is not smart enough here\u001b[39;00m\n\u001b[1;32m--> 229\u001b[0m \u001b[38;5;28;01mraise\u001b[39;00m exception_class(message, screen, stacktrace)\n",
      "\u001b[1;31mNoSuchElementException\u001b[0m: Message: no such element: Unable to locate element: {\"method\":\"css selector\",\"selector\":\"[id=\"shub60\"]\"}\n  (Session info: chrome=129.0.6668.90); For documentation on this error, please visit: https://www.selenium.dev/documentation/webdriver/troubleshooting/errors#no-such-element-exception\nStacktrace:\n\tGetHandleVerifier [0x002770E3+25587]\n\t(No symbol) [0x0020A284]\n\t(No symbol) [0x00102113]\n\t(No symbol) [0x00146F62]\n\t(No symbol) [0x001471AB]\n\t(No symbol) [0x00187852]\n\t(No symbol) [0x0016ABE4]\n\t(No symbol) [0x00185370]\n\t(No symbol) [0x0016A936]\n\t(No symbol) [0x0013BA73]\n\t(No symbol) [0x0013C4CD]\n\tGetHandleVerifier [0x00554C23+3030835]\n\tGetHandleVerifier [0x005A6B59+3366505]\n\tGetHandleVerifier [0x00309592+624802]\n\tGetHandleVerifier [0x00310E0C+655644]\n\t(No symbol) [0x00212C3D]\n\t(No symbol) [0x0020FD08]\n\t(No symbol) [0x0020FEA5]\n\t(No symbol) [0x002022D6]\n\tBaseThreadInitThunk [0x7670FCC9+25]\n\tRtlGetAppContainerNamedObjectPath [0x77E9809E+286]\n\tRtlGetAppContainerNamedObjectPath [0x77E9806E+238]\n\t(No symbol) [0x00000000]\n"
     ]
    }
   ],
   "source": [
    "from selenium import webdriver \n",
    "from selenium.webdriver.chrome.service import Service\n",
    "from webdriver_manager.chrome import ChromeDriverManager\n",
    "from selenium.webdriver.common.by import By\n",
    "\n",
    "\n",
    "service=Service(ChromeDriverManager().install())\n",
    "driver=webdriver.Chrome(service=service)\n",
    "\n",
    "url=r'https://selectorshub.com/xpath-practice-page/'\n",
    "\n",
    "driver.get(url) # open selectorshub practice page\n",
    "driver.implicitly_wait(3)\n",
    "driver.find_element(By.ID,'shub60').click().sendkeys(\"xyz@gmail.com\")\n",
    "driver.quit()"
   ]
  },
  {
   "cell_type": "code",
   "execution_count": null,
   "id": "97e2468c-6ecc-4717-b9ea-a9325e39f9ea",
   "metadata": {},
   "outputs": [],
   "source": []
  }
 ],
 "metadata": {
  "kernelspec": {
   "display_name": "Python 3 (ipykernel)",
   "language": "python",
   "name": "python3"
  },
  "language_info": {
   "codemirror_mode": {
    "name": "ipython",
    "version": 3
   },
   "file_extension": ".py",
   "mimetype": "text/x-python",
   "name": "python",
   "nbconvert_exporter": "python",
   "pygments_lexer": "ipython3",
   "version": "3.12.6"
  }
 },
 "nbformat": 4,
 "nbformat_minor": 5
}
