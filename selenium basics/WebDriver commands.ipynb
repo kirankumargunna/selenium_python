{
 "cells": [
  {
   "cell_type": "markdown",
   "id": "2c51739b-4c21-41b7-9b43-1a26f6834fa3",
   "metadata": {},
   "source": [
    "### Browser commands"
   ]
  },
  {
   "cell_type": "code",
   "execution_count": null,
   "id": "bdfe1556-e1f7-4d28-bbfd-400db4f06451",
   "metadata": {},
   "outputs": [],
   "source": [
    "from selenium import webdriver\n",
    "from selenium.webdriver.chrome.service import Service\n",
    "from webdriver_manager.chrome import ChromeDriverManager\n",
    "\n",
    "service=Service(ChromeDriverManager().install())\n",
    "driver=webdriver.Chrome(service=service)\n",
    "\n",
    "url=r\"https://opensource-demo.orangehrmlive.com/auth/login\"\n",
    "\n",
    "driver.get(url) #open url\n",
    "\n",
    "currentPageUrl=driver.current_url # returns current page url \n",
    "print(currentPageUrl)\n",
    "\n",
    "PageTitle=driver.title #return current page title\n",
    "print(PageTitle)\n",
    "\n",
    "print(driver.page_source) #returns the source code of the web page\n",
    "\n",
    "driver.close() # close the current \n",
    "\n",
    "driver.quit() # close all the windows and \n"
   ]
  },
  {
   "cell_type": "markdown",
   "id": "a16031b8-6154-4013-8769-bede27bc2eba",
   "metadata": {},
   "source": [
    "### navigation commands "
   ]
  },
  {
   "cell_type": "code",
   "execution_count": 23,
   "id": "7fe033df-fee1-4e59-8903-e5aabf5cede6",
   "metadata": {},
   "outputs": [],
   "source": [
    "driver=webdriver.Chrome(service=service)\n",
    "\n",
    "driver.get(url) #open url\n",
    "url2 =r'https://www.flipkart.com/'\n",
    "\n",
    "driver.get(url2) # navigate to url\n",
    "\n",
    "driver.back() # navigates back to previous page \n",
    "\n",
    "driver.forward() # navigates forward\n",
    "\n",
    "driver.refresh()\n",
    "\n",
    "driver.quit()\n",
    "\n"
   ]
  },
  {
   "cell_type": "markdown",
   "id": "45477a94-10e2-4a5d-b4c3-fa7fc8dc5339",
   "metadata": {},
   "source": [
    "### window commands \n"
   ]
  },
  {
   "cell_type": "code",
   "execution_count": 43,
   "id": "de0662e9-e4a3-4c53-a223-14b28399e4e4",
   "metadata": {},
   "outputs": [
    {
     "name": "stdout",
     "output_type": "stream",
     "text": [
      "4431E3563069A7510FA84054709B194F\n",
      "C97EC24EF9C862441FDD5EEE07D6AE93\n",
      "['4431E3563069A7510FA84054709B194F', 'C97EC24EF9C862441FDD5EEE07D6AE93']\n"
     ]
    }
   ],
   "source": [
    "from selenium import webdriver\n",
    "from selenium.webdriver.chrome.service import Service\n",
    "from webdriver_manager.chrome import ChromeDriverManager\n",
    "\n",
    "service=Service(ChromeDriverManager().install())\n",
    "driver=webdriver.Chrome(service=service)\n",
    "\n",
    "driver.get(url)\n",
    "\n",
    "print(driver.current_window_handle) #return the handle of current window \n",
    "\n",
    "driver.execute_script(f\"window.open('{url2}', '_blank');\") # opens new web page in new tab\n",
    "\n",
    "driver.switch_to.window(driver.window_handles[1]) # shift to the new tab\n",
    "\n",
    "print (driver.current_window_handle)\n",
    "\n",
    "print (driver.window_handles) # returns list of current window handles\n",
    "\n",
    "driver.quit() # close the browser "
   ]
  },
  {
   "cell_type": "markdown",
   "id": "e776a629-4c86-4ac7-b32b-671d9288d921",
   "metadata": {},
   "source": [
    "### Element Interaction Commands\n"
   ]
  },
  {
   "cell_type": "code",
   "execution_count": 65,
   "id": "8a609635-1883-456c-a8d6-41fac006aec5",
   "metadata": {},
   "outputs": [],
   "source": [
    "from selenium import webdriver\n",
    "from selenium.webdriver.chrome.service import Service\n",
    "from webdriver_manager.chrome import ChromeDriverManager\n",
    "from selenium.webdriver.common.by import By\n",
    "\n",
    "\n",
    "service=Service(ChromeDriverManager().install())\n",
    "driver=webdriver.Chrome(service=service)\n",
    "\n",
    "driver.get(url)  #opens OrangeHRM login page\n",
    "driver.implicitly_wait(3)\n",
    "\n",
    "print(driver.find_element(By.XPATH,\"//P[data-v-7b563373]\")  # get text of the web element \n",
    "\n",
    "      \n",
    "# find web element \n",
    "text_field=driver.find_element(By.XPATH,\"//input[@name='username']\") # find element using x path \n",
    "\n",
    "text_field.click()\n",
    "text_field.clear()\n",
    "text_field.send_keys('Admin')\n",
    "\n",
    "password_field=driver.find_element(By.XPATH,\"//input[@name='password']\")\n",
    "password_field.click()\n",
    "password_field.clear()\n",
    "password_field.send_keys('admin123')\n",
    "\n",
    "driver.find_element(By.XPATH,\"//button[@type='submit']\").click()\n",
    "\n",
    "\n",
    "print(driver.find_element(By.XPATH,\"//h6[data-v-c286b6e5]\").is_displayed())  # verify that the element is displayed  \n",
    "\n",
    "\n"
   ]
  },
  {
   "cell_type": "code",
   "execution_count": null,
   "id": "cd293f3a-9062-4f41-8b6a-799542d2f9cf",
   "metadata": {},
   "outputs": [],
   "source": []
  }
 ],
 "metadata": {
  "kernelspec": {
   "display_name": "Python 3 (ipykernel)",
   "language": "python",
   "name": "python3"
  },
  "language_info": {
   "codemirror_mode": {
    "name": "ipython",
    "version": 3
   },
   "file_extension": ".py",
   "mimetype": "text/x-python",
   "name": "python",
   "nbconvert_exporter": "python",
   "pygments_lexer": "ipython3",
   "version": "3.12.6"
  }
 },
 "nbformat": 4,
 "nbformat_minor": 5
}
