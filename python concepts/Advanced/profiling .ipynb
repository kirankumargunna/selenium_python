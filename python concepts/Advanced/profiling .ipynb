{
 "cells": [
  {
   "cell_type": "markdown",
   "id": "f151e441-9ca1-4271-bb6f-c302c459a9c7",
   "metadata": {},
   "source": [
    "profiling is used for analysing perofmance of code to identify bottlenecks,   \n",
    "optimize execution time, and manage resource usage such as memory.   \n",
    "It is especially useful for optimizing critical sections in your application."
   ]
  },
  {
   "cell_type": "code",
   "execution_count": 8,
   "id": "27993c4d-593b-4aef-9722-89f1d5ff7e1e",
   "metadata": {},
   "outputs": [
    {
     "ename": "TypeError",
     "evalue": "set_int_max_str_digits() missing required argument 'maxdigits' (pos 1)",
     "output_type": "error",
     "traceback": [
      "\u001b[1;31m---------------------------------------------------------------------------\u001b[0m",
      "\u001b[1;31mTypeError\u001b[0m                                 Traceback (most recent call last)",
      "Cell \u001b[1;32mIn[8], line 8\u001b[0m\n\u001b[0;32m      5\u001b[0m \u001b[38;5;28;01mdef\u001b[39;00m \u001b[38;5;21mfuncion\u001b[39m():\n\u001b[0;32m      6\u001b[0m     \u001b[38;5;28mprint\u001b[39m(\u001b[38;5;124m\"\u001b[39m\u001b[38;5;124mhello\u001b[39m\u001b[38;5;124m\"\u001b[39m)\n\u001b[1;32m----> 8\u001b[0m \u001b[43msys\u001b[49m\u001b[38;5;241;43m.\u001b[39;49m\u001b[43mset_int_max_str_digits\u001b[49m\u001b[43m(\u001b[49m\u001b[43m)\u001b[49m\n\u001b[0;32m      9\u001b[0m \u001b[38;5;28;01mdef\u001b[39;00m \u001b[38;5;21mfunction2\u001b[39m():\n\u001b[0;32m     10\u001b[0m     \u001b[38;5;28mprint\u001b[39m(\u001b[38;5;241m2\u001b[39m\u001b[38;5;241m*\u001b[39m\u001b[38;5;241m*\u001b[39m\u001b[38;5;241m20000000\u001b[39m)\n",
      "\u001b[1;31mTypeError\u001b[0m: set_int_max_str_digits() missing required argument 'maxdigits' (pos 1)"
     ]
    }
   ],
   "source": [
    "#cprofile \n",
    "\n",
    "import cProfile\n",
    "import sys\n",
    "def funcion():\n",
    "    print(\"hello\")\n",
    "\n",
    "sys.set_int_max_str_digits()\n",
    "def function2():\n",
    "    print(2**20000000)\n",
    "\n",
    "def function3():\n",
    "     total = 0\n",
    "     for i in range(1, 10000):\n",
    "         for j in range(1, 100):\n",
    "             total += i * j\n",
    "     return total\n",
    "\n",
    "cProfile.run(\"funcion()\")\n",
    "cProfile.run(\"function2()\")\n",
    "cProfile.run(\"function3()\")\n"
   ]
  },
  {
   "cell_type": "code",
   "execution_count": null,
   "id": "172b95bd-979d-4704-8391-f5d1fae5ec9c",
   "metadata": {},
   "outputs": [],
   "source": []
  }
 ],
 "metadata": {
  "kernelspec": {
   "display_name": "Python 3 (ipykernel)",
   "language": "python",
   "name": "python3"
  },
  "language_info": {
   "codemirror_mode": {
    "name": "ipython",
    "version": 3
   },
   "file_extension": ".py",
   "mimetype": "text/x-python",
   "name": "python",
   "nbconvert_exporter": "python",
   "pygments_lexer": "ipython3",
   "version": "3.12.6"
  }
 },
 "nbformat": 4,
 "nbformat_minor": 5
}
