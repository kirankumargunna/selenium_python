{
 "cells": [
  {
   "cell_type": "code",
   "execution_count": 4,
   "id": "8d52c8d1-be9d-4576-8107-49f6c8a128f6",
   "metadata": {},
   "outputs": [],
   "source": [
    "lst=[1,2,3,4,5,6,7,8,9]\n",
    "obj = iter(lst)"
   ]
  },
  {
   "cell_type": "code",
   "execution_count": 5,
   "id": "59051158-b9be-41c7-900a-a003e2a8a8a6",
   "metadata": {},
   "outputs": [
    {
     "name": "stdout",
     "output_type": "stream",
     "text": [
      "<list_iterator object at 0x0000013760DE1E40>\n"
     ]
    }
   ],
   "source": [
    "print(obj)"
   ]
  },
  {
   "cell_type": "code",
   "execution_count": 7,
   "id": "3851e403-2e3c-4af9-aad1-ba342fff973d",
   "metadata": {},
   "outputs": [
    {
     "name": "stdout",
     "output_type": "stream",
     "text": [
      "2\n"
     ]
    }
   ],
   "source": [
    "print(next(obj))"
   ]
  },
  {
   "cell_type": "code",
   "execution_count": 8,
   "id": "22043c53-fd8a-4b5c-8e79-c7456af73497",
   "metadata": {},
   "outputs": [],
   "source": [
    "class Square:\n",
    "    def __init__(self, length):\n",
    "        self.length = length\n",
    "        self.current = 0\n",
    "\n",
    "    def __meth1__(self):\n",
    "        pritn(\"slkjflsdjf\")\n",
    "\n",
    "    def meth2(self):\n",
    "        pritn(\"slkjflsdjf\")\n",
    "\n",
    "    def __iter__(self):\n",
    "        return self\n",
    "        \n",
    "    def meth4(self):\n",
    "        pritn(\"slkjflsdjf\")\n",
    "        \n",
    "    def __next__(self):\n",
    "        if self.current >= self.length:\n",
    "            raise StopIteration\n",
    "\n",
    "        self.current += 1\n",
    "        return self.current ** 2"
   ]
  },
  {
   "cell_type": "code",
   "execution_count": null,
   "id": "b4f35cec-6a46-4523-8706-b73d11822ab7",
   "metadata": {},
   "outputs": [],
   "source": []
  },
  {
   "cell_type": "code",
   "execution_count": 9,
   "id": "2242cb9d-7ef5-4357-bcdb-c1eca0094fa6",
   "metadata": {},
   "outputs": [],
   "source": [
    "squares=Square(5)"
   ]
  },
  {
   "cell_type": "code",
   "execution_count": 10,
   "id": "68d07272-3df2-41a1-bb68-63dd1f6f3074",
   "metadata": {},
   "outputs": [
    {
     "name": "stdout",
     "output_type": "stream",
     "text": [
      "<class '__main__.Square'>\n"
     ]
    }
   ],
   "source": [
    "print(type(squares))"
   ]
  },
  {
   "cell_type": "code",
   "execution_count": 11,
   "id": "53af314d-06c2-487e-b31e-96142c0464f7",
   "metadata": {},
   "outputs": [
    {
     "name": "stdout",
     "output_type": "stream",
     "text": [
      "1\n",
      "4\n",
      "9\n",
      "16\n",
      "25\n"
     ]
    }
   ],
   "source": [
    "for x in squares:\n",
    "    print(x)"
   ]
  },
  {
   "cell_type": "code",
   "execution_count": 12,
   "id": "6ccc64d7-cf3e-4382-9d95-7b4b18a50728",
   "metadata": {},
   "outputs": [
    {
     "name": "stdout",
     "output_type": "stream",
     "text": [
      "10\n"
     ]
    }
   ],
   "source": [
    "class MyClass:\n",
    "    value=10\n",
    "    def __init__(self, value):\n",
    "        self.value = value  # instance variable\n",
    "\n",
    "    def show_value(cls):\n",
    "        print(cls.value)  # This would raise an error because 'self' is missing\n",
    "\n",
    "obj = MyClass(10)\n",
    "obj.show_value()  # This will raise an error because 'show_value()' lacks 'self'\n"
   ]
  },
  {
   "cell_type": "markdown",
   "id": "a3228726-d12d-4194-b0d0-af1e408d0941",
   "metadata": {},
   "source": [
    "#### For example, given the sequence [1, 2, 3, 4, 5], create an iterator that generates subsequences of length 3, such as [1, 2, 3], [2, 3, 4], [3, 4, 5]."
   ]
  },
  {
   "cell_type": "code",
   "execution_count": 32,
   "id": "eb860293-fb5b-48e3-93ce-1b1ec2eb0e30",
   "metadata": {},
   "outputs": [],
   "source": [
    "lst=[1,2,3,4,5]\n",
    "length=3\n",
    "def subsequence(lst,length):\n",
    "    for i in range(len(lst)-length+1):\n",
    "        yield lst[i:i+length]  # yield is used to create iterators that genrates values lazily"
   ]
  },
  {
   "cell_type": "code",
   "execution_count": 33,
   "id": "566a710d-c005-4ac5-a996-550985bd01fe",
   "metadata": {},
   "outputs": [],
   "source": [
    "sd=subsequence(lst,length)"
   ]
  },
  {
   "cell_type": "code",
   "execution_count": 34,
   "id": "9ce3c745-4713-4ad4-9aed-9d974ab2d2d9",
   "metadata": {},
   "outputs": [
    {
     "name": "stdout",
     "output_type": "stream",
     "text": [
      "[1, 2, 3]\n",
      "[2, 3, 4]\n",
      "[3, 4, 5]\n"
     ]
    }
   ],
   "source": [
    "# Using the iterator (you can use a loop or the next() function to get values)\n",
    "for i in sd:\n",
    "    print(i)"
   ]
  },
  {
   "cell_type": "markdown",
   "id": "264922bd-c4a5-4b49-bb80-89d67e3b7404",
   "metadata": {},
   "source": [
    "#### Write a custom iterator PrimeIterator that yields prime numbers one by one up to a specified limit."
   ]
  },
  {
   "cell_type": "code",
   "execution_count": 56,
   "id": "9eca171b-5384-4aeb-8da0-d96626ad4757",
   "metadata": {},
   "outputs": [],
   "source": [
    "class primeiterator:\n",
    "    def __init__(self,limit):\n",
    "        self.limit=limit\n",
    "        self.current=2\n",
    "\n",
    "    def is_prime(self,num):\n",
    "        if num<=1:\n",
    "            return False\n",
    "        if num==2:\n",
    "            return True\n",
    "        if num%2==0:\n",
    "            return False\n",
    "        for i in range(3,int(num**0.5)+1,2):\n",
    "            if num%i==0:\n",
    "                return False\n",
    "        return True\n",
    "\n",
    "    def primeItr(self):\n",
    "        while self.limit>=self.current:\n",
    "            if self.is_prime(self.current):\n",
    "                yield self.current\n",
    "            self.current+=1"
   ]
  },
  {
   "cell_type": "code",
   "execution_count": 57,
   "id": "20d1209b-38ff-442b-8360-7c3a506127e7",
   "metadata": {},
   "outputs": [
    {
     "name": "stdout",
     "output_type": "stream",
     "text": [
      "2\n",
      "3\n",
      "5\n",
      "7\n",
      "11\n",
      "13\n",
      "17\n",
      "19\n"
     ]
    }
   ],
   "source": [
    "prime_iter = primeiterator(20)\n",
    "\n",
    "for prime in prime_iter.primeItr():\n",
    "    print(prime)"
   ]
  },
  {
   "cell_type": "markdown",
   "id": "78e3ccb7-273b-463d-b508-0a72f29572e5",
   "metadata": {},
   "source": [
    "#### Create a class `RangeSum` that acts like an iterator but also keeps track of the running sum of all numbers seen so far.  \n",
    "\n",
    " For example, if the iterator generates 1, 2, 3, 4, it should keep track of the sum 1, 3, 6, 10.\n"
   ]
  },
  {
   "cell_type": "code",
   "execution_count": 72,
   "id": "416bfbeb-5373-408d-af99-636db31df7e4",
   "metadata": {},
   "outputs": [],
   "source": [
    "class rangesum:\n",
    "    def __init__(self, limit):\n",
    "        self.limit=limit\n",
    "        self.current=1\n",
    "        self.cumlativesum=0\n",
    "    def numbergenerator(self):\n",
    "        while self.current<=self.limit:\n",
    "            self.cumlativesum +=self.current\n",
    "            yield (self.current,self.cumlativesum)\n",
    "            self.current+=1\n"
   ]
  },
  {
   "cell_type": "code",
   "execution_count": 73,
   "id": "2b36a6be-ba4f-451f-b125-de32132f1aff",
   "metadata": {},
   "outputs": [],
   "source": [
    "range_sum=rangesum(10)"
   ]
  },
  {
   "cell_type": "code",
   "execution_count": 74,
   "id": "db54124d-6d71-4ab4-9e6a-6ac5ae827c64",
   "metadata": {},
   "outputs": [
    {
     "name": "stdout",
     "output_type": "stream",
     "text": [
      "1 1\n",
      "2 3\n",
      "3 6\n",
      "4 10\n",
      "5 15\n",
      "6 21\n",
      "7 28\n",
      "8 36\n",
      "9 45\n",
      "10 55\n"
     ]
    }
   ],
   "source": [
    "for i,j in range_sum.numbergenerator():\n",
    "    print(i,j)"
   ]
  },
  {
   "cell_type": "code",
   "execution_count": 100,
   "id": "780027af-8e60-4c1e-ae71-10a00151c1da",
   "metadata": {},
   "outputs": [],
   "source": [
    "class Generator:\n",
    "    def __init__(self, limit):\n",
    "        self.limit = limit\n",
    "        self.evencurrent = 0\n",
    "        self.oddcurrent = 1\n",
    "\n",
    "    def even_generator(self):\n",
    "        while True:  # Infinite loop to keep generating even numbers\n",
    "            yield self.evencurrent\n",
    "            self.evencurrent += 2\n",
    "        \n",
    "    def odd_generator(self):\n",
    "        while True:  # Infinite loop to keep generating odd numbers\n",
    "            yield self.oddcurrent\n",
    "            self.oddcurrent += 2\n",
    "\n",
    "    def alternate_generator(self):\n",
    "        even = self.even_generator()\n",
    "        odd = self.odd_generator()\n",
    "\n",
    "        for _ in range(self.limit):\n",
    "            yield next(even)  # Get the next even number\n",
    "            yield next(odd)   # Get the next odd number\n",
    "\n",
    "\n",
    "# Example usage:\n",
    "obj = Generator(20)\n",
    "\n",
    "\n"
   ]
  },
  {
   "cell_type": "code",
   "execution_count": 101,
   "id": "adba65f7-fde1-4e44-9bd3-106bff1d1ba6",
   "metadata": {},
   "outputs": [
    {
     "name": "stdout",
     "output_type": "stream",
     "text": [
      "<bound method Generator.alternate_generator of <__main__.Generator object at 0x0000013760E1EB70>>\n"
     ]
    }
   ],
   "source": [
    "print(obj.alternate_generator)"
   ]
  },
  {
   "cell_type": "code",
   "execution_count": 102,
   "id": "ac704695-a6ba-481c-b955-fb584a18e914",
   "metadata": {},
   "outputs": [
    {
     "name": "stdout",
     "output_type": "stream",
     "text": [
      "0\n",
      "1\n",
      "2\n",
      "3\n",
      "4\n",
      "5\n",
      "6\n",
      "7\n",
      "8\n",
      "9\n",
      "10\n",
      "11\n",
      "12\n",
      "13\n",
      "14\n",
      "15\n",
      "16\n",
      "17\n",
      "18\n",
      "19\n",
      "20\n",
      "21\n",
      "22\n",
      "23\n",
      "24\n",
      "25\n",
      "26\n",
      "27\n",
      "28\n",
      "29\n",
      "30\n",
      "31\n",
      "32\n",
      "33\n",
      "34\n",
      "35\n",
      "36\n",
      "37\n",
      "38\n",
      "39\n"
     ]
    }
   ],
   "source": [
    "for i in obj.alternate_generator():\n",
    "    print(i)"
   ]
  },
  {
   "cell_type": "code",
   "execution_count": null,
   "id": "3b99be11-9b70-461c-bf67-c8653f31a715",
   "metadata": {},
   "outputs": [],
   "source": []
  },
  {
   "cell_type": "raw",
   "id": "82541576-b730-4807-800d-b968acea92e7",
   "metadata": {},
   "source": [
    "Create an iterator for reading large files line by line.\n",
    "\n",
    "Implement a custom iterator that reads a file and yields one line at a time. Ensure that the iterator handles file closing automatically once the end of the file is reached.\n",
    "Write a generator function that yields all substrings of a given string.\n",
    "\n",
    "Write a Python generator that will yield all substrings (not necessarily contiguous) of a given string, such as for \"abc\", it should yield a, b, c, ab, ac, bc, abc.\n",
    "Implement an iterator that mimics the range() function, but can generate numbers in both increasing and decreasing order.\n",
    "\n",
    "Create a custom iterator that behaves like range(start, stop, step) but allows both ascending and descending sequences.\n",
    "Design a custom iterator that flattens a nested list (i.e., a list of lists) into a single sequence.\n",
    "\n",
    "For example, given the list [[1, 2], [3, 4], [5, 6]], your iterator should flatten it to [1, 2, 3, 4, 5, 6].\n",
    "\n",
    "Implement a custom iterator for Cartesian Product of two lists.\n",
    "\n",
    "Given two lists, implement an iterator that yields the Cartesian product (all combinations of items from both lists) as tuples.\n",
    "Example:\n",
    "\n",
    "list1 = [1, 2]\n",
    "list2 = ['a', 'b']\n",
    "The iterator should yield (1, 'a'), (1, 'b'), (2, 'a'), (2, 'b').\n",
    "\n",
    "Write an iterator that cycles through a sequence indefinitely.\n",
    "\n",
    "Implement a custom iterator that will keep cycling through a given list indefinitely. For example, if the list is [1, 2, 3], the iterator should yield 1, 2, 3, 1, 2, 3, ...."
   ]
  },
  {
   "cell_type": "code",
   "execution_count": null,
   "id": "0486b60b-7237-4525-9c3f-d4eeb9afbe35",
   "metadata": {},
   "outputs": [],
   "source": []
  }
 ],
 "metadata": {
  "kernelspec": {
   "display_name": "Python 3 (ipykernel)",
   "language": "python",
   "name": "python3"
  },
  "language_info": {
   "codemirror_mode": {
    "name": "ipython",
    "version": 3
   },
   "file_extension": ".py",
   "mimetype": "text/x-python",
   "name": "python",
   "nbconvert_exporter": "python",
   "pygments_lexer": "ipython3",
   "version": "3.12.6"
  }
 },
 "nbformat": 4,
 "nbformat_minor": 5
}
