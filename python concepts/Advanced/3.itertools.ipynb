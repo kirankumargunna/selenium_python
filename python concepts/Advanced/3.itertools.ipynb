{
 "cells": [
  {
   "cell_type": "markdown",
   "metadata": {},
   "source": [
    "The itertools module provides a collection of tools for handling iterators and generating iterables. These tools help you perform operations such as creating combinations, permutations, and Cartesian products, iterating efficiently over data, and more."
   ]
  },
  {
   "cell_type": "markdown",
   "metadata": {},
   "source": [
    "#### 1. count(start=0, step=1)\n"
   ]
  },
  {
   "cell_type": "code",
   "execution_count": 8,
   "metadata": {},
   "outputs": [
    {
     "name": "stdout",
     "output_type": "stream",
     "text": [
      "20 25 30 35 40 45 50 55 60 65 70 75 80 85 90 95 100 "
     ]
    }
   ],
   "source": [
    "# creates an infinite iterator that returns only evenly spaced values, starting from start and incremented by step.\n",
    "\n",
    "import itertools\n",
    "\n",
    "for i in itertools.count(20,5):\n",
    "    if i>100:\n",
    "        break\n",
    "\n",
    "    print(i,end=\" \")\n"
   ]
  },
  {
   "cell_type": "markdown",
   "metadata": {},
   "source": [
    "#### 2. cycle(iterable)\n"
   ]
  },
  {
   "cell_type": "code",
   "execution_count": 10,
   "metadata": {},
   "outputs": [
    {
     "name": "stdout",
     "output_type": "stream",
     "text": [
      "1\n",
      "2\n",
      "3\n",
      "4\n",
      "1\n",
      "2\n",
      "3\n",
      "4\n",
      "1\n",
      "2\n",
      "3\n"
     ]
    }
   ],
   "source": [
    "# Cycles through an iterable indefinitely, returning elements of the iterable repeatedly.\n",
    "\n",
    "import itertools\n",
    "count=0\n",
    "for i in itertools.cycle((1,2,3,4)):\n",
    "    if count>10:\n",
    "        break\n",
    "    print(i)\n",
    "    count+=1"
   ]
  },
  {
   "cell_type": "markdown",
   "metadata": {},
   "source": [
    "#### 3. repeat(object, times=None)\n"
   ]
  },
  {
   "cell_type": "code",
   "execution_count": 13,
   "metadata": {},
   "outputs": [
    {
     "name": "stdout",
     "output_type": "stream",
     "text": [
      "itertools\n",
      "itertools\n",
      "itertools\n",
      "itertools\n",
      "itertools\n"
     ]
    }
   ],
   "source": [
    "#Repeats the object for times times (if times is not specified, it repeats indefinitely).\n",
    "\n",
    "import itertools\n",
    "\n",
    "for i in itertools.repeat(\"itertools\",5):\n",
    "    print(i)"
   ]
  },
  {
   "cell_type": "markdown",
   "metadata": {},
   "source": [
    "#### 4. combinations(iterable, r)\n"
   ]
  },
  {
   "cell_type": "code",
   "execution_count": 16,
   "metadata": {},
   "outputs": [
    {
     "name": "stdout",
     "output_type": "stream",
     "text": [
      "(1, 2)\n",
      "(1, 3)\n",
      "(2, 3)\n"
     ]
    }
   ],
   "source": [
    "# returns all the possible combinations of iterable, but not repeate values\n",
    "\n",
    "iterable=(1,2,3)\n",
    "\n",
    "for i in itertools.combinations(iterable,2):\n",
    "    print(i)"
   ]
  },
  {
   "cell_type": "markdown",
   "metadata": {},
   "source": [
    "#### 5. permutations(iterable, r=None)\n"
   ]
  },
  {
   "cell_type": "code",
   "execution_count": 17,
   "metadata": {},
   "outputs": [
    {
     "name": "stdout",
     "output_type": "stream",
     "text": [
      "(1, 2)\n",
      "(1, 3)\n",
      "(2, 1)\n",
      "(2, 3)\n",
      "(3, 1)\n",
      "(3, 2)\n"
     ]
    }
   ],
   "source": [
    "# Returns all the permutations of length r for the given iterable, unlike combinations it will give the repeated values \n",
    "\n",
    "import itertools\n",
    "iterable=[1,2,3]\n",
    "for i in itertools.permutations(iterable,2):\n",
    "    print(i)"
   ]
  },
  {
   "cell_type": "markdown",
   "metadata": {},
   "source": [
    "#### 6. product(*iterables, repeat=1)\n"
   ]
  },
  {
   "cell_type": "code",
   "execution_count": 19,
   "metadata": {},
   "outputs": [
    {
     "name": "stdout",
     "output_type": "stream",
     "text": [
      "('1', 1)\n",
      "('1', 2)\n",
      "('1', 3)\n",
      "('2', 1)\n",
      "('2', 2)\n",
      "('2', 3)\n",
      "('3', 1)\n",
      "('3', 2)\n",
      "('3', 3)\n"
     ]
    }
   ],
   "source": [
    "# will return the catesian product of given iterables\n",
    "\n",
    "import itertools\n",
    "\n",
    "for prod in itertools.product((\"1\",\"2\",\"3\"),[1,2,3]):\n",
    "    print(prod)"
   ]
  },
  {
   "cell_type": "markdown",
   "metadata": {},
   "source": [
    "#### 7. chain(*iterables)\n"
   ]
  },
  {
   "cell_type": "code",
   "execution_count": 22,
   "metadata": {},
   "outputs": [
    {
     "name": "stdout",
     "output_type": "stream",
     "text": [
      "[1, 2, 'a', 'b', 3, 4, 5, 6, 7]\n",
      "1\n",
      "2\n",
      "a\n",
      "b\n",
      "3\n",
      "4\n",
      "5\n",
      "6\n",
      "7\n"
     ]
    }
   ],
   "source": [
    "# combines multiple iteranles into one it is like concating \n",
    "\n",
    "import itertools\n",
    "print(list(itertools.chain([1,2],(\"a\",\"b\"),[3,4,5,6,7])))\n",
    "for i in itertools.chain([1,2],(\"a\",\"b\"),[3,4,5,6,7]):\n",
    "    print(i)"
   ]
  },
  {
   "cell_type": "markdown",
   "metadata": {},
   "source": [
    "#### 8. zip_longest(*iterables, fillvalue=None)\n"
   ]
  },
  {
   "cell_type": "code",
   "execution_count": 26,
   "metadata": {},
   "outputs": [
    {
     "name": "stdout",
     "output_type": "stream",
     "text": [
      "[(1, 1, 1), (2, 2, 2), (3, 3, 3), (4, 4, 4)]\n",
      "[(1, 1, 1), (2, 2, 2), (3, 3, 3), (4, 4, 4), (None, 5, 5), (None, None, 6), (None, None, 7)]\n",
      "(1, 1, 1)\n",
      "(2, 2, 2)\n",
      "(3, 3, 3)\n",
      "(4, 4, 4)\n",
      "(None, 5, 5)\n",
      "(None, None, 6)\n",
      "(None, None, 7)\n"
     ]
    }
   ],
   "source": [
    "# same like zip function but fills the shorter or missing iterable with the value in fillvalue, by default it is none \n",
    "\n",
    "import itertools\n",
    "\n",
    "lst1=[1,2,3,4]\n",
    "lst2=[1,2,3,4,5]\n",
    "lst3=[1,2,3,4,5,6,7]\n",
    "\n",
    "list4=list(zip(lst1,lst2,lst3))\n",
    "print(list4)\n",
    "\n",
    "\n",
    "list5=list(itertools.zip_longest(lst1,lst2,lst3))\n",
    "print(list5)\n",
    "\n",
    "for i in itertools.zip_longest(lst1,lst2,lst3):\n",
    "    print(i)"
   ]
  },
  {
   "cell_type": "markdown",
   "metadata": {},
   "source": [
    "#### 9. islice(iterable, start, stop, step)\n"
   ]
  },
  {
   "cell_type": "code",
   "execution_count": 46,
   "metadata": {},
   "outputs": [],
   "source": [
    "# same list slicing but it is more memory effivient \n",
    "from memory_profiler import profile\n",
    "\n",
    "@profile\n",
    "def fn():\n",
    "    lst=list(range(5000))\n",
    "    print(lst[1000:1025])"
   ]
  },
  {
   "cell_type": "code",
   "execution_count": null,
   "metadata": {},
   "outputs": [],
   "source": [
    "%load_ext memory_profiler\n",
    "%mprun -f fn fn()\n"
   ]
  },
  {
   "cell_type": "code",
   "execution_count": 50,
   "metadata": {},
   "outputs": [],
   "source": [
    "from memory_profiler import profile\n",
    "\n",
    "@profile\n",
    "def fn1():\n",
    "    lst1=list(itertools.islice(range(5000),1000,1025))\n",
    "    print(lst)"
   ]
  },
  {
   "cell_type": "code",
   "execution_count": null,
   "metadata": {},
   "outputs": [],
   "source": [
    "%mprun -f fn1 fn1()"
   ]
  },
  {
   "cell_type": "code",
   "execution_count": null,
   "metadata": {},
   "outputs": [],
   "source": []
  }
 ],
 "metadata": {
  "kernelspec": {
   "display_name": "Python 3",
   "language": "python",
   "name": "python3"
  },
  "language_info": {
   "codemirror_mode": {
    "name": "ipython",
    "version": 3
   },
   "file_extension": ".py",
   "mimetype": "text/x-python",
   "name": "python",
   "nbconvert_exporter": "python",
   "pygments_lexer": "ipython3",
   "version": "3.12.6"
  }
 },
 "nbformat": 4,
 "nbformat_minor": 2
}
