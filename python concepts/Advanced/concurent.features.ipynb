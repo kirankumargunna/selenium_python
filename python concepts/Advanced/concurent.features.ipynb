{
 "cells": [
  {
   "cell_type": "markdown",
   "metadata": {},
   "source": [
    "the concurrent.futures module is a powerful tool to execute Selenium tests concurrently, allowing you to run multiple browser instances in parallel. This is particularly useful for speeding up test execution when dealing with large test suites or performing load testing."
   ]
  },
  {
   "cell_type": "markdown",
   "metadata": {},
   "source": [
    "#### ThreadPoolExecutor:\n",
    "\n",
    "Runs tasks in separate threads.  \n",
    "Suitable for I/O-bound tasks like Selenium WebDriver interactions.  \n",
    "#### ProcessPoolExecutor:\n",
    "\n",
    "Runs tasks in separate processes.  \n",
    "Useful for CPU-bound tasks (not typically needed for Selenium).  \n",
    "\n",
    "\n",
    "### using `ThreadPoolExecutor` in selenium:\n"
   ]
  },
  {
   "cell_type": "code",
   "execution_count": null,
   "metadata": {},
   "outputs": [
    {
     "name": "stdout",
     "output_type": "stream",
     "text": [
      "Title of https://www.selenium.dev: Selenium\n",
      "Title of https://www.python.org: Welcome to Python.org\n",
      "Title of https://example.com: Example Domain\n",
      "Tests completed in 9.67 seconds.\n"
     ]
    }
   ],
   "source": [
    "from selenium import webdriver\n",
    "from selenium.webdriver.common.by import By\n",
    "from concurrent.futures import ThreadPoolExecutor\n",
    "import time\n",
    "\n",
    "# Test function to run in parallel\n",
    "def run_test(url):\n",
    "    # Configure WebDriver\n",
    "    options = webdriver.ChromeOptions()\n",
    "    options.add_experimental_option(\"detach\",True)\n",
    "    #options.add_argument(\"--headless\")  # Run in headless mode\n",
    "    driver = webdriver.Chrome(options=options)\n",
    "    \n",
    "    try:\n",
    "        # Open the URL\n",
    "        driver.get(url)\n",
    "        print(f\"Title of {url}: {driver.title}\")\n",
    "    finally:\n",
    "        # Close the browser\n",
    "        driver.quit()\n",
    "\n",
    "# List of URLs to test\n",
    "urls = [\n",
    "    \"https://example.com\",\n",
    "    \"https://www.python.org\",\n",
    "    \"https://www.selenium.dev\",\n",
    "]\n",
    "\n",
    "# Run tests in parallel using ThreadPoolExecutor\n",
    "start_time = time.time()\n",
    "\n",
    "with ThreadPoolExecutor(max_workers=3) as executor:\n",
    "    executor.map(run_test, urls)\n",
    "\n",
    "end_time = time.time()\n",
    "print(f\"Tests completed in {end_time - start_time:.2f} seconds.\")\n"
   ]
  },
  {
   "cell_type": "code",
   "execution_count": 4,
   "metadata": {},
   "outputs": [
    {
     "name": "stdout",
     "output_type": "stream",
     "text": [
      "Title of https://example.com: Example Domain\n",
      "Title of https://www.python.org: Welcome to Python.org\n",
      "Title of https://www.selenium.dev: Selenium\n",
      "Tests completed in 26.56 seconds.\n"
     ]
    }
   ],
   "source": [
    "from selenium import webdriver\n",
    "from selenium.webdriver.common.by import By\n",
    "from concurrent.futures import ThreadPoolExecutor\n",
    "import time\n",
    "\n",
    "# Test function to run in parallel\n",
    "def run_test(url):\n",
    "    # Configure WebDriver\n",
    "    options = webdriver.ChromeOptions()\n",
    "    options.add_experimental_option(\"detach\",True)\n",
    "    #options.add_argument(\"--headless\")  # Run in headless mode\n",
    "    driver = webdriver.Chrome(options=options)\n",
    "    \n",
    "    try:\n",
    "        # Open the URL\n",
    "        driver.get(url)\n",
    "        print(f\"Title of {url}: {driver.title}\")\n",
    "    finally:\n",
    "        # Close the browser\n",
    "        driver.quit()\n",
    "\n",
    "# List of URLs to test\n",
    "urls = [\n",
    "    \"https://example.com\",\n",
    "    \"https://www.python.org\",\n",
    "    \"https://www.selenium.dev\",\n",
    "]\n",
    "\n",
    "# Run tests in parallel using ThreadPoolExecutor\n",
    "start_time = time.time()\n",
    "\n",
    "for url in urls:\n",
    "    run_test(url)\n",
    "\n",
    "end_time = time.time()\n",
    "print(f\"Tests completed in {end_time - start_time:.2f} seconds.\")\n"
   ]
  },
  {
   "cell_type": "markdown",
   "metadata": {},
   "source": [
    "The `run_test` function contains the Selenium WebDriver code that opens a URL and prints the page title.  \n",
    "\n",
    "The `ThreadPoolExecutor` creates a pool of threads to execute the run_test function concurrently for each URL.  \n",
    "\n",
    "Maps the `run_test` function to the list of URLs, automatically assigning threads to each URL."
   ]
  },
  {
   "cell_type": "code",
   "execution_count": 7,
   "metadata": {},
   "outputs": [
    {
     "name": "stdout",
     "output_type": "stream",
     "text": [
      "Title of https://www.selenium.dev: Selenium\n",
      "Title of https://www.python.org: Welcome to Python.org\n",
      "Title of https://example.com: Example Domain\n"
     ]
    }
   ],
   "source": [
    "from concurrent.futures import ThreadPoolExecutor, as_completed\n",
    "\n",
    "def run_test_with_result(url):\n",
    "    options = webdriver.ChromeOptions()\n",
    "    #options.add_argument(\"--headless\")\n",
    "    driver = webdriver.Chrome(options=options)\n",
    "    \n",
    "    try:\n",
    "        driver.get(url)\n",
    "        return f\"Title of {url}: {driver.title}\"\n",
    "    finally:\n",
    "        driver.quit()\n",
    "\n",
    "# Execute and collect results\n",
    "with ThreadPoolExecutor(max_workers=3) as executor:\n",
    "    futures = [executor.submit(run_test_with_result, url) for url in urls]\n",
    "    for future in as_completed(futures):\n",
    "        print(future.result())\n"
   ]
  },
  {
   "cell_type": "markdown",
   "metadata": {},
   "source": [
    "When to Use concurrent.futures in Selenium  \n",
    "Parallel Testing: To speed up test execution by running multiple tests simultaneously.  \n",
    "Load Testing: Simulate multiple concurrent users interacting with a web application.  \n",
    "Data Scraping: Collect data from multiple pages efficiently.  "
   ]
  },
  {
   "cell_type": "markdown",
   "metadata": {},
   "source": []
  }
 ],
 "metadata": {
  "kernelspec": {
   "display_name": "Python 3",
   "language": "python",
   "name": "python3"
  },
  "language_info": {
   "codemirror_mode": {
    "name": "ipython",
    "version": 3
   },
   "file_extension": ".py",
   "mimetype": "text/x-python",
   "name": "python",
   "nbconvert_exporter": "python",
   "pygments_lexer": "ipython3",
   "version": "3.12.6"
  }
 },
 "nbformat": 4,
 "nbformat_minor": 2
}
