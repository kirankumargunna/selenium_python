{
 "cells": [
  {
   "cell_type": "code",
   "execution_count": null,
   "id": "5b73fb92-a167-4940-883b-8fec7c1a0a3a",
   "metadata": {},
   "outputs": [],
   "source": [
    "import csv\n",
    "with open('D:\\\\selenium_python\\\\malformed.csv', mode='r',encoding='utf-8')as file:\n",
    "    reader=csv.reader(file, delimiter=';', escapechar='/')\n",
    "    for row in reader:\n",
    "        print(row)"
   ]
  },
  {
   "cell_type": "code",
   "execution_count": 21,
   "id": "68a9249b-9d48-4291-a866-e162ed6a954f",
   "metadata": {},
   "outputs": [
    {
     "name": "stdout",
     "output_type": "stream",
     "text": [
      "<_csv.writer object at 0x00000201507D7460>\n"
     ]
    },
    {
     "ename": "TypeError",
     "evalue": "'_csv.writer' object is not iterable",
     "output_type": "error",
     "traceback": [
      "\u001b[1;31m---------------------------------------------------------------------------\u001b[0m",
      "\u001b[1;31mTypeError\u001b[0m                                 Traceback (most recent call last)",
      "Cell \u001b[1;32mIn[21], line 11\u001b[0m\n\u001b[0;32m      9\u001b[0m writer\u001b[38;5;241m.\u001b[39mwriterows(data)\n\u001b[0;32m     10\u001b[0m \u001b[38;5;28mprint\u001b[39m(writer)\n\u001b[1;32m---> 11\u001b[0m \u001b[43m\u001b[49m\u001b[38;5;28;43;01mfor\u001b[39;49;00m\u001b[43m \u001b[49m\u001b[43mi\u001b[49m\u001b[43m \u001b[49m\u001b[38;5;129;43;01min\u001b[39;49;00m\u001b[43m \u001b[49m\u001b[43mwriter\u001b[49m\u001b[43m:\u001b[49m\n\u001b[0;32m     12\u001b[0m \u001b[43m    \u001b[49m\u001b[38;5;28;43mprint\u001b[39;49m\u001b[43m(\u001b[49m\u001b[43mi\u001b[49m\u001b[43m)\u001b[49m\n",
      "\u001b[1;31mTypeError\u001b[0m: '_csv.writer' object is not iterable"
     ]
    }
   ],
   "source": [
    "data = [\n",
    "    [\"Name\", \"Age\", \"City\"],\n",
    "    [\"Alice\", 30, \"New York\"],\n",
    "    [\"Bob\", 25, \"Los Angeles\"]\n",
    "]\n",
    "\n",
    "with open('output.csv', mode='w', newline='', encoding='utf-8') as file:\n",
    "    writer = csv.writer(file, delimiter=',', quotechar='\"', quoting=csv.QUOTE_MINIMAL)\n",
    "    writer.writerows(data)\n",
    "    print(writer)\n",
    "    for i in writer:\n",
    "        print(i)"
   ]
  },
  {
   "cell_type": "code",
   "execution_count": 39,
   "id": "b427137d-6989-45cf-8a02-63439a31f4f8",
   "metadata": {},
   "outputs": [
    {
     "name": "stdout",
     "output_type": "stream",
     "text": [
      "['ID', 'Name', 'Age', 'Gender', 'Join Date', 'Salary', 'Department', 'Address', 'Skills', 'Performance', 'Details']\n",
      "['1', 'John Doe', '29', 'Male', '2021-06-15', '55000', 'Engineering', '\"123 Elm St', ' Springfield\"', '[\"Python\"', ' \"C++\"]', 'Excellent', '\"{\\\\\"Projects\\\\\": 5', ' \\\\\"Awards\\\\\": 2}\"']\n",
      "['2', 'Jane Smith', '34', 'Female', '2020-03-10', '60000', 'Marketing', '\"456 Oak St', ' Riverside\"', '[\"SEO\"', ' \"Content Writing\"]', 'Good', '\"{\\\\\"Projects\\\\\": 3', ' \\\\\"Awards\\\\\": 1}\"']\n",
      "['3', 'Mary Johnson', '25', 'Female', '2023-11-02', '45000', 'Engineering', '\"789 Pine St', ' Lakeside\"', '[\"Java\"', ' \"SQL\"]', 'Average', '\"{\\\\\"Projects\\\\\": 2', ' \\\\\"Awards\\\\\": 0}\"']\n",
      "['4', 'James Brown', '45', 'Male', '2018-08-25', '75000', 'Finance', '\"321 Maple St', ' Greenfield\"', '[\"Excel\"', ' \"Accounting\"]', 'Excellent', '\"{\\\\\"Projects\\\\\": 8', ' \\\\\"Awards\\\\\": 5}\"']\n",
      "['5', 'Patricia Williams', '38', 'Female', '2017-01-18', '67000', 'HR', '\"654 Cedar St', ' Hillside\"', '[\"Communication\"', ' \"Negotiation\"]', 'Good', '\"{\\\\\"Projects\\\\\": 4', ' \\\\\"Awards\\\\\": 3}\"']\n",
      "['6', 'Michael Davis', '50', 'Male', '2015-09-05', '80000', 'Engineering', '\"987 Birch St', ' Oakwood\"', '[\"Python\"', ' \"Data Analysis\"]', 'Outstanding', '\"{\\\\\"Projects\\\\\": 10', ' \\\\\"Awards\\\\\": 7}\"']\n",
      "['7', 'Emily Moore', '28', 'Female', '2022-07-11', '52000', 'Marketing', '\"159 Walnut St', ' Brooktown\"', '[\"Graphic Design\"', ' \"Social Media\"]', 'Excellent', '\"{\\\\\"Projects\\\\\": 6', ' \\\\\"Awards\\\\\": 3}\"']\n",
      "['8', 'Daniel Wilson', '31', 'Male', '2019-11-20', '67000', 'Sales', '\"753 Redwood St', ' Fairview\"', '[\"Sales\"', ' \"Negotiation\"]', 'Good', '\"{\\\\\"Projects\\\\\": 4', ' \\\\\"Awards\\\\\": 2}\"']\n",
      "['9', 'Olivia Martinez', '27', 'Female', '2021-03-25', '48000', 'Engineering', '\"852 Cedar St', ' Waterford\"', '[\"C++\"', ' \"JavaScript\"]', 'Average', '\"{\\\\\"Projects\\\\\": 3', ' \\\\\"Awards\\\\\": 1}\"']\n",
      "['10', 'David Anderson', '40', 'Male', '2014-12-15', '95000', 'Finance', '\"258 Pine St', ' Lakeside\"', '[\"Financial Modeling\"', ' \"Forecasting\"]', 'Outstanding', '\"{\\\\\"Projects\\\\\": 15', ' \\\\\"Awards\\\\\": 10}\"']\n"
     ]
    }
   ],
   "source": [
    "with open('New Text Document (2).txt',newline='') as file:\n",
    "    lines=file.readlines()\n",
    "\n",
    "    for line in lines:\n",
    "        parts = line.strip().split(',')  # remove spaces at the begining and ending of the string\n",
    "\n",
    "        print(parts)\n",
    "    "
   ]
  },
  {
   "cell_type": "code",
   "execution_count": 31,
   "id": "dd06d0c9-dd9e-4aa8-bb74-4aad3e791653",
   "metadata": {},
   "outputs": [
    {
     "name": "stdout",
     "output_type": "stream",
     "text": [
      "[2, 3, 4, 5, 6, 9]\n"
     ]
    }
   ],
   "source": [
    "lists=[2,5,2,4,5,9,3,9,3,9,3,5,6]\n",
    "print(list(set(lists)))"
   ]
  },
  {
   "cell_type": "code",
   "execution_count": 10,
   "id": "88f750df-3380-409e-b8b8-b86bd14ae4fd",
   "metadata": {},
   "outputs": [
    {
     "name": "stdout",
     "output_type": "stream",
     "text": [
      "cast\n",
      "Brendan Gleeson, Taylor Kitsch, Gordon Pinsent\n",
      "Mahesh Manjrekar, Abhay Mahajan, Sachin Khedekar\n",
      "Tom Sizemore, Lorenzo Lamas, Robert LaSardo, Richard Jones, Yancey Arias, Noel Gugliemi\n",
      "Interviews with: Pink, Adele, Beyoncé, Britney Spears, Christina Aguilera, more!\n",
      "Harry Dean Stanton, Kieran O'Brien, George Costigan, Amanda Dickinson, Alison Steadman, Grant Bardsley, Bill Moody, Matthew Scurfield\n",
      "Gregory Chisholm, Juliet Stevenson, Brian Henson, Michael Maloney\n",
      "Alice Cooper, Liberty DeVitto, Ray Parker Jr., David Foster, Jason Hook, Steve Vai, Phil X, Rudy Sarzo, Jay Graydon, Rob Zombie, Kenny Aronoff, Steve Lukather, Justin Derrico, Eva Gardner, John 5, Eric Singer, Derek St. Holmes, Paul Bushnell, Jason Newsted, Glen Sobel, Nita Strauss, Chris Johnson\n",
      "Julianne Hough, Aaron Tveit, Vanessa Hudgens, Keke Palmer, Carly Rae Jepson, Mario Lopez, Carlos PenaVega, Kether Donohue, Jordan Fisher, David Del Rio, Andrew Call, Wendell Pierce, Boyz II Men, Jessie J, Ana Gasteyer, Didi Conn\n",
      "Michael Paré, Leanne Khol Young, Patrick J. MacEachern\n",
      "Kirstie Alley, Sam Waterston, Stockard Channing\n",
      "Emily Wilder, Adrian Cowan, Gary Mckenzie, Jeremy Ninaber, Brenda Somers, Brian Carleton, Lora Burke, Winny Clarke, Mercedes Morris, Rebecca Perry, Emily Agard, Graham Gauthier\n",
      "Leslie Bibb, Kevin Curtis, Nadia Dajani\n",
      "Anders Danielsen Lie, Golshifteh Farahani, Denis Lavant, Sigrid Bouaziz, David Kammenos\n",
      "Rafinha Alcantara, Marc-André Ter Stegen, Sergi Roberto, Dr. Ramón Cugat, Mazinho, Xavi Arruebo, Celia Ferreira Da Silva, Ángel Lapuebla, Javier Enríquez, Thiago Alcantara, Valeria Alcantara\n",
      "Elon Musk, Per Wimmer, Julie Anderson-Ankenbrandt, Cary Cooper\n",
      "Joey King, Jack Kilmer, Andrea Savage, Paul Scheer, June Squibb, Erin Darke, Stephen Ruffin, Kelly Lamor Wilson, Logan Medina, Travis James, Bill Eudaly, Elise DuQuette\n",
      "Marcus Anderson, Kaiwi Lyman, Andrew Asper\n",
      "Narrator - Gillian Barlett\n",
      "Zoë Coombs Marr\n",
      "Ewan McGregor, Léa Seydoux, Theo James, Miranda Otto, Rashida Jones, Christina Aguilera, Matthew Gray Gubler, Anthony Shim\n",
      "\n",
      "Alex Cazares, Ben Diskin, Cristina Vee, Erika Ishii\n",
      "Grace Hayes, Mary Healy\n",
      "ANDREA RISEBOROUGH, HAROLD TORRES, CLAUDIA PINEDA, TCHEKY KARYO, GIUSEPPE DE DOMENICO, GABRIEL BYRNE, DANE DEHAAN, ADRIANO CHIARAMIDA\n",
      "Nicolas Cage, Judge Reinhold, Erika Anderson, Joe Pantoliano, Viveca Lindfors, Aaron Neville, Steve Buscemi, Ian Abercrombie, Marisa Tomei, Jo-El Sonnier, Newell Alexander, Blaise Delacroix, Eliott Keener, Richard Greenberg, John Cutler, Thomas Iain\n",
      "\n",
      "Natasha Heschélle, Curtis Morgan, Hannah Scott, Dennis Nimoh, Christine Nguyen\n",
      "Christina Ricci  ",
      ", David Hoflin\n",
      "Eli Jay, Marc Thompson, Sean Schemmel, Eileen Stevens\n",
      "Michael Liscio Jr., Emily Bauer\n",
      "Gregory Abbey, Bella Hudson, Ed Paul\n",
      "Dobrokhotova Ekaterina, Mike New\n",
      "Sally Forrest, Keefe Brasselle, Hugh O'Brian, Eve Miller, Lawrence Dobkin, Rita Lupino\n",
      "\n",
      "\n",
      "Alex Dimitriades, Alexandra Davies, Tom Long, Anna Lise Phillips, Katherine Slattery, Penny Cook, Amie Mckenna, Socratis Otto, Anna Torv, John Waters, Maya Stange, Jackson Purtan-Smith, George Anakotta\n",
      "Hilary Swank, Emmy Rossum, Josh Duhamel\n",
      "David Tennant, Lucy Punch, Faye Marsay, Gemma Jones\n",
      "Ann-Marie Newland\n",
      "Caroline Shola Arewa\n",
      "Anne-Marie Newland\n",
      "Dr Daniel J Nightingale\n",
      "Lindsey Samper\n",
      "Anne-Marie Newland\n",
      "Anne-Marie Newland\n",
      "Anne-Marie Newland\n",
      "Anne-Marie Newland\n",
      "Anne-Marie Newland\n",
      "Anne-Marie Newland\n",
      "Anne-Marie Newland\n",
      "Anne-Marie Newland\n",
      "Anne-Marie Newland\n",
      "Lin McCarthy, Stephen Courtleigh, Berry Kroeger, Harold Gordon, Bill Mason\n",
      "Phoebe Robinson, Rachel Brosnahan, Tiffany Haddish, Patti Harrison, Natasha Leggero, Natasha Rothwell, Sarah Silverman, Ziwe, Christina Aguilera, Sterling K Brown\n",
      "Mammootty, Suhasini Maniratnam\n",
      "Mammootty, Suhasini Maniratnam\n",
      "Jock Mahoney, X Brands, Kevin Hagen, Framces Bergen, Charlene James, Joan Taylor, Charles Bronson, Margaret Hayes, Kelly Thordsen, Particia Blair\n",
      "Chuck Pell\n",
      "Tara Strong, Jennifer Hale, Eric Bauza, David Kaye, Michael Donovan, Cree Summer\n",
      "Stephen Baldwin, Pascale Bussières, Kim Coates, Kyle MacLachlan, Tom Rack\n",
      "Barbi Benton, Chip Lucia\n",
      "Gary Sinise, Charles Scheffel\n",
      "Jack Wrangler, Margaret Whiting, Marc Shaiman, Bruce Vilanch, Christine Ebersole, Michael Musto, Chi Chi La Rue, Sharon Mitchell, Jamie Gillis, Candida Royalle, Samantha Fox, Gloria Leonard\n",
      "WPC Annie Taylor, Charles De'Ath, Olly Rix, James Barriscale, Rachel Leskovac, Liam Jeavons, Mark Healy\n",
      "David Mitchell, Lee Mack, Rob Brydon\n",
      "Arisa Date, Kent Ito, Miyuki Sawashiro, Tomokazu Sugita, Yuki Kaji\n",
      "Bear Grylls\n",
      "Michael Caine, John Lithgow, Bob Hoskins\n",
      "Dan Aykroyd\n",
      "Liam Dale\n",
      "\n",
      "Tiffany Derry\n",
      "\n",
      "Charlie Plummer, Taylor Russell, Andy Garcia, AnnaSophia Robb, Beth Grant, Devin Bostick, Lobo Sebastian, Molly Parker, Walton Goggins\n",
      "\n",
      "Anthony Mendez\n",
      "\n",
      "\n",
      "\n",
      "Susan Sarandon, Kristy McNichol, Terry O'Quinn\n",
      "Jeff Fahey, Bo Derek\n",
      "Vhong Navarro, Lovi Poe\n",
      "Lukas Haas, Lea Thompson\n",
      "Evelyn Preer, Flo Clements\n",
      "Addison Holley, Hope Cassandra, Scott McCord, Katie Griffin, Ethan Tavares, Devan Cohen, Roanna Cochrane, Millie Davis, Jason Priestley, Saara Chaudry, Kyle Lomas, Ava Priestley, Johnny Orlando, Kathy Laskey, Matthew MacFadzean, TJ McGibbon, Elizabeth Hanna, Caissie Levy, Ava Close, Nissae Isen, Jeff Geddis, Kristin Fairlie\n",
      "Michael Butt\n",
      "Ennis Esmer, Jonathan Torrens, Jessica Phillips\n",
      "James Brayshaw, Josh Lawson, Kelly Landry\n",
      "Burgess Meredith, Eduordo Ciannelli\n",
      "John Wayne, Phyllis Fraser, Lew Kelly, Douglas Cosgrove, Lane Chandler, Sam Flint, Bob Kortman, Ed Cassidy, Jon Hall, Merrill McCormick, Christian J. Frank, Jack Rockwell, Arthur Millett, Tracy Layne, Yakima Canutt, Horace B. Carpenter, Herman Hack, Henry Hall, Lloyd Ingraham, Jack Ingram, Cliff Lyons, Murdock MacQuarrie, Clyde McClary, Bud McClure, Art Mix, George Morrell, Bud Pope, Francis Walker, Joe Yrigoyen\n",
      "Matthew Modine, Jennifer Grey, Cliff Robertson, Jack Thompson, Stellan Skarsgård, Rebecca Miller, Ned Vaughn, James Rebhorn, Ron Palillo\n",
      "\n",
      "Jonathan Chase Cook\n",
      "William Lee Martin\n",
      "William Lee Martin\n",
      "Prince William, Kate Middleton\n",
      "Bruce Greenwood, Ella Purnell, Brian Geraghty\n",
      "Tracey Gold, Alexander Walters\n",
      "\n"
     ]
    }
   ],
   "source": [
    "import csv\n",
    "with open('amazon_prime_titles.csv',newline='',encoding='utf-8')as file:\n",
    "    reader=csv.reader(file)\n",
    "    i=1\n",
    "    for row in reader:\n",
    "        print(row[4])\n",
    "        if i==100:\n",
    "            break\n",
    "        i+=1"
   ]
  },
  {
   "cell_type": "code",
   "execution_count": 9,
   "id": "0d03558a-995b-4a41-b267-45103bdc0c5d",
   "metadata": {},
   "outputs": [
    {
     "name": "stdout",
     "output_type": "stream",
     "text": [
      "['show_id', 'type', 'title', 'director', 'cast', 'country', 'date_added', 'release_year', 'rating', 'duration', 'listed_in', 'description\\n']\n",
      "['s1', 'Movie', 'The Grand Seduction', 'Don McKellar', '\"Brendan Gleeson', ' Taylor Kitsch', ' Gordon Pinsent\"', 'Canada', '\"March 30', ' 2021\"', '2014', '', '113 min', '\"Comedy', ' Drama\"', '\"A small fishing village must procure a local doctor to secure a lucrative business contract. When unlikely candidate and big city doctor Paul Lewis lands in their lap for a trial residence', \" the townsfolk rally together to charm him into staying. As the doctor's time in the village winds to a close\", ' acting mayor Murray French has no choice but to pull out all the stops.\"\\n']\n",
      "['s2', 'Movie', 'Take Care Good Night', 'Girish Joshi', '\"Mahesh Manjrekar', ' Abhay Mahajan', ' Sachin Khedekar\"', 'India', '\"March 30', ' 2021\"', '2018', '13+', '110 min', '\"Drama', ' International\"', 'A Metro Family decides to fight a Cyber Criminal threatening their stability and pride.\\n']\n",
      "['s3', 'Movie', 'Secrets of Deception', 'Josh Webber', '\"Tom Sizemore', ' Lorenzo Lamas', ' Robert LaSardo', ' Richard Jones', ' Yancey Arias', ' Noel Gugliemi\"', 'United States', '\"March 30', ' 2021\"', '2017', '', '74 min', '\"Action', ' Drama', ' Suspense\"', 'After a man discovers his wife is cheating on him with a neighborhood kid he goes down a furious path of self-destruction\\n']\n"
     ]
    }
   ],
   "source": [
    "with open('amazon_prime_titles.csv',newline='',encoding='utf-8')as file:\n",
    "    lines=file.readlines()\n",
    "    i=1\n",
    "    for line in lines:\n",
    "        print(line.split(','))\n",
    "        if i==4:\n",
    "            break\n",
    "        i+=1"
   ]
  },
  {
   "cell_type": "code",
   "execution_count": 15,
   "id": "2fdabc0e-da12-49a6-8448-d3e4a432c821",
   "metadata": {},
   "outputs": [
    {
     "name": "stdout",
     "output_type": "stream",
     "text": [
      "Welcome to Python 3.12's help utility! If this is your first time using\n",
      "Python, you should definitely check out the tutorial at\n",
      "https://docs.python.org/3.12/tutorial/.\n",
      "\n",
      "Enter the name of any module, keyword, or topic to get help on writing\n",
      "Python programs and using Python modules.  To get a list of available\n",
      "modules, keywords, symbols, or topics, enter \"modules\", \"keywords\",\n",
      "\"symbols\", or \"topics\".\n",
      "\n",
      "Each module also comes with a one-line summary of what it does; to list\n",
      "the modules whose name or summary contain a given string such as \"spam\",\n",
      "enter \"modules spam\".\n",
      "\n",
      "To quit this help utility and return to the interpreter,\n",
      "enter \"q\" or \"quit\".\n",
      "\n",
      "\n",
      "You are now leaving help and returning to the Python interpreter.\n",
      "If you want to ask for help on a particular object directly from the\n",
      "interpreter, you can type \"help(object)\".  Executing \"help('string')\"\n",
      "has the same effect as typing a particular string at the help> prompt.\n"
     ]
    },
    {
     "ename": "AttributeError",
     "evalue": "'NoneType' object has no attribute 'split'",
     "output_type": "error",
     "traceback": [
      "\u001b[1;31m---------------------------------------------------------------------------\u001b[0m",
      "\u001b[1;31mAttributeError\u001b[0m                            Traceback (most recent call last)",
      "Cell \u001b[1;32mIn[15], line 1\u001b[0m\n\u001b[1;32m----> 1\u001b[0m \u001b[43mhelp\u001b[49m\u001b[43m(\u001b[49m\u001b[43m)\u001b[49m\u001b[38;5;241;43m.\u001b[39;49m\u001b[43msplit\u001b[49m()\n",
      "\u001b[1;31mAttributeError\u001b[0m: 'NoneType' object has no attribute 'split'"
     ]
    }
   ],
   "source": []
  },
  {
   "cell_type": "code",
   "execution_count": null,
   "id": "8ed43b5c-0a83-4c79-aed3-9313f9fc05f3",
   "metadata": {},
   "outputs": [],
   "source": []
  }
 ],
 "metadata": {
  "kernelspec": {
   "display_name": "Python 3 (ipykernel)",
   "language": "python",
   "name": "python3"
  },
  "language_info": {
   "codemirror_mode": {
    "name": "ipython",
    "version": 3
   },
   "file_extension": ".py",
   "mimetype": "text/x-python",
   "name": "python",
   "nbconvert_exporter": "python",
   "pygments_lexer": "ipython3",
   "version": "3.12.6"
  }
 },
 "nbformat": 4,
 "nbformat_minor": 5
}
