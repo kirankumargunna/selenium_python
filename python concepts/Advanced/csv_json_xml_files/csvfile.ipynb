{
 "cells": [
  {
   "cell_type": "code",
   "execution_count": null,
   "id": "5b73fb92-a167-4940-883b-8fec7c1a0a3a",
   "metadata": {},
   "outputs": [],
   "source": [
    "import csv\n",
    "with open('D:\\\\selenium_python\\\\malformed.csv', mode='r',encoding='utf-8')as file:\n",
    "    reader=csv.reader(file, delimiter=';', escapechar='/')\n",
    "    for row in reader:\n",
    "        print(row)"
   ]
  },
  {
   "cell_type": "code",
   "execution_count": 21,
   "id": "68a9249b-9d48-4291-a866-e162ed6a954f",
   "metadata": {},
   "outputs": [
    {
     "name": "stdout",
     "output_type": "stream",
     "text": [
      "<_csv.writer object at 0x00000201507D7460>\n"
     ]
    },
    {
     "ename": "TypeError",
     "evalue": "'_csv.writer' object is not iterable",
     "output_type": "error",
     "traceback": [
      "\u001b[1;31m---------------------------------------------------------------------------\u001b[0m",
      "\u001b[1;31mTypeError\u001b[0m                                 Traceback (most recent call last)",
      "Cell \u001b[1;32mIn[21], line 11\u001b[0m\n\u001b[0;32m      9\u001b[0m writer\u001b[38;5;241m.\u001b[39mwriterows(data)\n\u001b[0;32m     10\u001b[0m \u001b[38;5;28mprint\u001b[39m(writer)\n\u001b[1;32m---> 11\u001b[0m \u001b[43m\u001b[49m\u001b[38;5;28;43;01mfor\u001b[39;49;00m\u001b[43m \u001b[49m\u001b[43mi\u001b[49m\u001b[43m \u001b[49m\u001b[38;5;129;43;01min\u001b[39;49;00m\u001b[43m \u001b[49m\u001b[43mwriter\u001b[49m\u001b[43m:\u001b[49m\n\u001b[0;32m     12\u001b[0m \u001b[43m    \u001b[49m\u001b[38;5;28;43mprint\u001b[39;49m\u001b[43m(\u001b[49m\u001b[43mi\u001b[49m\u001b[43m)\u001b[49m\n",
      "\u001b[1;31mTypeError\u001b[0m: '_csv.writer' object is not iterable"
     ]
    }
   ],
   "source": [
    "data = [\n",
    "    [\"Name\", \"Age\", \"City\"],\n",
    "    [\"Alice\", 30, \"New York\"],\n",
    "    [\"Bob\", 25, \"Los Angeles\"]\n",
    "]\n",
    "\n",
    "with open('output.csv', mode='w', newline='', encoding='utf-8') as file:\n",
    "    writer = csv.writer(file, delimiter=',', quotechar='\"', quoting=csv.QUOTE_MINIMAL)\n",
    "    writer.writerows(data)\n",
    "    print(writer)\n",
    "    for i in writer:\n",
    "        print(i)"
   ]
  },
  {
   "cell_type": "code",
   "execution_count": null,
   "id": "b427137d-6989-45cf-8a02-63439a31f4f8",
   "metadata": {},
   "outputs": [],
   "source": [
    "with o"
   ]
  }
 ],
 "metadata": {
  "kernelspec": {
   "display_name": "Python 3 (ipykernel)",
   "language": "python",
   "name": "python3"
  },
  "language_info": {
   "codemirror_mode": {
    "name": "ipython",
    "version": 3
   },
   "file_extension": ".py",
   "mimetype": "text/x-python",
   "name": "python",
   "nbconvert_exporter": "python",
   "pygments_lexer": "ipython3",
   "version": "3.12.6"
  }
 },
 "nbformat": 4,
 "nbformat_minor": 5
}
