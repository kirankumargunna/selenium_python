{
 "cells": [
  {
   "cell_type": "markdown",
   "id": "a5636487-54ec-49ba-b534-338999782868",
   "metadata": {},
   "source": [
    "pdb is a pythons built in pythons debugging tool  \n",
    "It is actually defined as the class Pdb which internally makes use of bdb(basic debugger functions) and cmd (support for line-oriented command interpreters) modules  \n",
    "he major advantage of pdb is it runs purely in the command line, thereby making it great for debugging code on remote servers when we don’t have the privilege of a GUI-based debugger.   "
   ]
  },
  {
   "cell_type": "code",
   "execution_count": null,
   "id": "965f484b-4d8b-4e2f-9538-89999af29496",
   "metadata": {},
   "outputs": [],
   "source": []
  }
 ],
 "metadata": {
  "kernelspec": {
   "display_name": "Python 3 (ipykernel)",
   "language": "python",
   "name": "python3"
  },
  "language_info": {
   "codemirror_mode": {
    "name": "ipython",
    "version": 3
   },
   "file_extension": ".py",
   "mimetype": "text/x-python",
   "name": "python",
   "nbconvert_exporter": "python",
   "pygments_lexer": "ipython3",
   "version": "3.12.6"
  }
 },
 "nbformat": 4,
 "nbformat_minor": 5
}
