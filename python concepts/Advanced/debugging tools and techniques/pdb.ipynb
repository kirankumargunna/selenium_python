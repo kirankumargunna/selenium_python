{
 "cells": [
  {
   "cell_type": "markdown",
   "id": "a5636487-54ec-49ba-b534-338999782868",
   "metadata": {},
   "source": [
    "pdb is a pythons built in pythons debugging tool  \n",
    "It is actually defined as the class Pdb which internally makes use of bdb(basic debugger functions) and cmd (support for line-oriented command interpreters) modules  \n",
    "he major advantage of pdb is it runs purely in the command line, thereby making it great for debugging code on remote servers when we don’t have the privilege of a GUI-based debugger.   "
   ]
  },
  {
   "cell_type": "code",
   "execution_count": 2,
   "id": "965f484b-4d8b-4e2f-9538-89999af29496",
   "metadata": {},
   "outputs": [
    {
     "name": "stdout",
     "output_type": "stream",
     "text": [
      "> \u001b[1;32mc:\\users\\kiran gunna\\appdata\\local\\temp\\ipykernel_21020\\1081604796.py\u001b[0m(5)\u001b[0;36mbuggy_function\u001b[1;34m()\u001b[0m\n",
      "\n"
     ]
    },
    {
     "name": "stdin",
     "output_type": "stream",
     "text": [
      "ipdb>  n\n"
     ]
    },
    {
     "name": "stdout",
     "output_type": "stream",
     "text": [
      "--Return--\n",
      "11\n",
      "> \u001b[1;32mc:\\users\\kiran gunna\\appdata\\local\\temp\\ipykernel_21020\\1081604796.py\u001b[0m(5)\u001b[0;36mbuggy_function\u001b[1;34m()\u001b[0m\n",
      "\n"
     ]
    },
    {
     "name": "stdin",
     "output_type": "stream",
     "text": [
      "ipdb>  n\n"
     ]
    },
    {
     "name": "stdout",
     "output_type": "stream",
     "text": [
      "--Return--\n",
      "None\n",
      "> \u001b[1;32mc:\\users\\kiran gunna\\appdata\\local\\temp\\ipykernel_21020\\1081604796.py\u001b[0m(7)\u001b[0;36m<module>\u001b[1;34m()\u001b[0m\n",
      "\n"
     ]
    },
    {
     "name": "stdin",
     "output_type": "stream",
     "text": [
      "ipdb>  l\n"
     ]
    },
    {
     "name": "stdout",
     "output_type": "stream",
     "text": [
      "\u001b[0;32m      2 \u001b[0m    \u001b[0my\u001b[0m \u001b[1;33m=\u001b[0m \u001b[0mx\u001b[0m \u001b[1;33m*\u001b[0m \u001b[1;36m2\u001b[0m\u001b[1;33m\u001b[0m\u001b[1;33m\u001b[0m\u001b[0m\n",
      "\u001b[0;32m      3 \u001b[0m    \u001b[0mz\u001b[0m \u001b[1;33m=\u001b[0m \u001b[0my\u001b[0m \u001b[1;33m+\u001b[0m \u001b[1;36m5\u001b[0m\u001b[1;33m\u001b[0m\u001b[1;33m\u001b[0m\u001b[0m\n",
      "\u001b[0;32m      4 \u001b[0m    \u001b[1;32mimport\u001b[0m \u001b[0mpdb\u001b[0m\u001b[1;33m;\u001b[0m \u001b[0mpdb\u001b[0m\u001b[1;33m.\u001b[0m\u001b[0mset_trace\u001b[0m\u001b[1;33m(\u001b[0m\u001b[1;33m)\u001b[0m  \u001b[1;31m# Start debugger here\u001b[0m\u001b[1;33m\u001b[0m\u001b[1;33m\u001b[0m\u001b[0m\n",
      "\u001b[0;32m      5 \u001b[0m    \u001b[1;32mreturn\u001b[0m \u001b[0mz\u001b[0m\u001b[1;33m\u001b[0m\u001b[1;33m\u001b[0m\u001b[0m\n",
      "\u001b[0;32m      6 \u001b[0m\u001b[1;33m\u001b[0m\u001b[0m\n",
      "\u001b[1;32m----> 7 \u001b[1;33m\u001b[0mresult\u001b[0m \u001b[1;33m=\u001b[0m \u001b[0mbuggy_function\u001b[0m\u001b[1;33m(\u001b[0m\u001b[1;36m3\u001b[0m\u001b[1;33m)\u001b[0m\u001b[1;33m\u001b[0m\u001b[1;33m\u001b[0m\u001b[0m\n",
      "\u001b[0m\u001b[0;32m      8 \u001b[0m\u001b[0mprint\u001b[0m\u001b[1;33m(\u001b[0m\u001b[1;33mf\"\u001b[0m\u001b[1;33mResult: \u001b[0m\u001b[1;33m{\u001b[0m\u001b[0mresult\u001b[0m\u001b[1;33m}\u001b[0m\u001b[1;33m\"\u001b[0m\u001b[1;33m)\u001b[0m\u001b[1;33m\u001b[0m\u001b[1;33m\u001b[0m\u001b[0m\n",
      "\n"
     ]
    },
    {
     "name": "stdin",
     "output_type": "stream",
     "text": [
      "ipdb>  c\n"
     ]
    },
    {
     "name": "stdout",
     "output_type": "stream",
     "text": [
      "Result: 11\n"
     ]
    }
   ],
   "source": [
    "def buggy_function(x):\n",
    "    y = x * 2\n",
    "    z = y + 5\n",
    "    import pdb; pdb.set_trace()  # Start debugger here\n",
    "    return z\n",
    "\n",
    "result = buggy_function(3)\n",
    "print(f\"Result: {result}\")\n"
   ]
  },
  {
   "cell_type": "code",
   "execution_count": 10,
   "id": "5f9b67a9-8b60-456d-ac51-fc00aa3c12b7",
   "metadata": {},
   "outputs": [
    {
     "name": "stdout",
     "output_type": "stream",
     "text": [
      "None\n",
      "> \u001b[1;32mc:\\users\\kiran gunna\\appdata\\local\\temp\\ipykernel_21020\\3490523300.py\u001b[0m(9)\u001b[0;36m<module>\u001b[1;34m()\u001b[0m\n",
      "\n"
     ]
    },
    {
     "name": "stdin",
     "output_type": "stream",
     "text": [
      "ipdb>  q\n"
     ]
    }
   ],
   "source": [
    "\n",
    "def factorial(n):\n",
    "    if n == 0:\n",
    "        return 1\n",
    "    else:\n",
    "        return n * factorial(n - 1)\n",
    "\n",
    "if __name__ == \"__main__\":\n",
    "    import pdb; pdb.set_trace()\n",
    "    result = factorial(5)\n",
    "    print(f\"Factorial: {result}\")"
   ]
  },
  {
   "cell_type": "code",
   "execution_count": 11,
   "id": "b57fb08c-1c01-4cc2-8f70-637e7e657984",
   "metadata": {},
   "outputs": [
    {
     "name": "stdout",
     "output_type": "stream",
     "text": [
      "> \u001b[1;32mc:\\users\\kiran gunna\\appdata\\local\\temp\\ipykernel_21020\\2471623055.py\u001b[0m(6)\u001b[0;36mbuggy_function\u001b[1;34m()\u001b[0m\n",
      "\n"
     ]
    },
    {
     "name": "stdin",
     "output_type": "stream",
     "text": [
      "ipdb>  q\n"
     ]
    }
   ],
   "source": [
    "%debug\n"
   ]
  },
  {
   "cell_type": "markdown",
   "id": "ce48997b-e149-4cbf-acd0-aaca39720e3d",
   "metadata": {},
   "source": [
    "\n",
    "Command\t    ---       Description  \n",
    "l\t ---  List source code around the current line.  \n",
    "n---\t   Execute the next line of code without stepping into functions.  \n",
    "s\t---   Step into the function being called on the current line.  \n",
    "c\t   ---Continue execution until the next breakpoint or the program ends.  \n",
    "b---\t   Set a breakpoint at a specific line (e.g., b 10).  \n",
    "p---\t   Print the value of a variable or an expression (e.g., p x).  \n",
    "pp---\t   Pretty-print the value of a variable or an expression (e.g., pp data).  \n",
    "q\t---   Quit the debugger and terminate the program.  \n",
    "w\t ---  Print the current call stack (where you are in the code).  \n",
    "up\t  --- Move up one level in the call stack.  \n",
    "down  --- Move down one level in the call stack.  "
   ]
  },
  {
   "cell_type": "markdown",
   "id": "6257d76c-6f3c-4d54-8bcf-78f728bc1569",
   "metadata": {},
   "source": [
    "### conditonal breaking \n",
    "(Pdb) b 10, x > 5  # Break at line 10 only if x > 5\n"
   ]
  },
  {
   "cell_type": "code",
   "execution_count": 5,
   "id": "eeab5c92-d189-4a60-97c5-2cfcafdb442f",
   "metadata": {},
   "outputs": [
    {
     "name": "stdout",
     "output_type": "stream",
     "text": [
      "> \u001b[1;32mc:\\users\\kiran gunna\\appdata\\local\\temp\\ipykernel_21020\\2471623055.py\u001b[0m(6)\u001b[0;36mbuggy_function\u001b[1;34m()\u001b[0m\n",
      "\n"
     ]
    },
    {
     "name": "stdin",
     "output_type": "stream",
     "text": [
      "ipdb>  n\n"
     ]
    },
    {
     "name": "stdout",
     "output_type": "stream",
     "text": [
      "ZeroDivisionError: division by zero\n",
      "> \u001b[1;32mc:\\users\\kiran gunna\\appdata\\local\\temp\\ipykernel_21020\\2471623055.py\u001b[0m(6)\u001b[0;36mbuggy_function\u001b[1;34m()\u001b[0m\n",
      "\n"
     ]
    },
    {
     "name": "stdin",
     "output_type": "stream",
     "text": [
      "ipdb>  q\n"
     ]
    }
   ],
   "source": [
    "### debugging specific function\n",
    "\n",
    "import pdb\n",
    "\n",
    "def buggy_function(x):\n",
    "    return x / 0  # Intentional bug\n",
    "\n",
    "pdb.runcall(buggy_function, 5)"
   ]
  },
  {
   "cell_type": "code",
   "execution_count": 8,
   "id": "3c5980e0-8a16-45d9-9998-613bae2a668d",
   "metadata": {},
   "outputs": [
    {
     "name": "stdout",
     "output_type": "stream",
     "text": [
      "> \u001b[1;32mc:\\users\\kiran gunna\\appdata\\local\\temp\\ipykernel_21020\\2471623055.py\u001b[0m(6)\u001b[0;36mbuggy_function\u001b[1;34m()\u001b[0m\n",
      "\n"
     ]
    },
    {
     "name": "stdin",
     "output_type": "stream",
     "text": [
      "ipdb>  q\n"
     ]
    }
   ],
   "source": [
    "%debug\n"
   ]
  },
  {
   "cell_type": "code",
   "execution_count": null,
   "id": "3df4cf07-b9da-422c-a5de-eaaa8e602c33",
   "metadata": {},
   "outputs": [],
   "source": []
  }
 ],
 "metadata": {
  "kernelspec": {
   "display_name": "Python 3 (ipykernel)",
   "language": "python",
   "name": "python3"
  },
  "language_info": {
   "codemirror_mode": {
    "name": "ipython",
    "version": 3
   },
   "file_extension": ".py",
   "mimetype": "text/x-python",
   "name": "python",
   "nbconvert_exporter": "python",
   "pygments_lexer": "ipython3",
   "version": "3.12.6"
  }
 },
 "nbformat": 4,
 "nbformat_minor": 5
}
