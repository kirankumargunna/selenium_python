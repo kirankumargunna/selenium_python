{
 "cells": [
  {
   "cell_type": "code",
   "execution_count": null,
   "id": "a76aa61b-a654-4188-860a-45661d944eeb",
   "metadata": {},
   "outputs": [],
   "source": [
    "pip install ipdb\n"
   ]
  },
  {
   "cell_type": "code",
   "execution_count": 4,
   "id": "2592a1d1-7ae3-4b8b-93fc-f7c3175a03ac",
   "metadata": {},
   "outputs": [
    {
     "name": "stdout",
     "output_type": "stream",
     "text": [
      "         990180 function calls (990178 primitive calls) in 0.539 seconds\n",
      "\n",
      "   Ordered by: standard name\n",
      "\n",
      "   ncalls  tottime  percall  cumtime  percall filename:lineno(function)\n",
      "        1    0.000    0.000    0.418    0.418 3572459803.py:10(fast_function)\n",
      "   989902    0.203    0.000    0.203    0.000 3572459803.py:11(<genexpr>)\n",
      "        1    0.000    0.000    0.445    0.445 3572459803.py:13(main)\n",
      "        1    0.027    0.027    0.027    0.027 3572459803.py:3(slow_function)\n",
      "        1    0.000    0.000    0.000    0.000 <frozen abc>:121(__subclasscheck__)\n",
      "        2    0.000    0.000    0.000    0.000 <frozen importlib._bootstrap>:1390(_handle_fromlist)\n",
      "        1    0.000    0.000    0.445    0.445 <string>:1(<module>)\n",
      "        2    0.000    0.000    0.000    0.000 attrsettr.py:43(__getattr__)\n",
      "        2    0.000    0.000    0.000    0.000 attrsettr.py:66(_get_attr_opt)\n",
      "        2    0.000    0.000    0.000    0.000 base_events.py:734(time)\n",
      "       13    0.000    0.000    0.000    0.000 enum.py:1129(__new__)\n",
      "       30    0.000    0.000    0.000    0.000 enum.py:1544(_get_value)\n",
      "        7    0.000    0.000    0.000    0.000 enum.py:1551(__or__)\n",
      "        3    0.000    0.000    0.000    0.000 enum.py:1562(__and__)\n",
      "       13    0.000    0.000    0.000    0.000 enum.py:726(__call__)\n",
      "        1    0.030    0.030    0.062    0.062 events.py:86(_run)\n",
      "        1    0.000    0.000    0.000    0.000 history.py:839(_writeout_output_cache)\n",
      "        1    0.000    0.000    0.032    0.032 ioloop.py:742(_run_callback)\n",
      "        1    0.000    0.000    0.032    0.032 iostream.py:157(_handle_event)\n",
      "        1    0.000    0.000    0.000    0.000 iostream.py:213(_is_master_process)\n",
      "        1    0.000    0.000    0.000    0.000 iostream.py:216(_check_mp_mode)\n",
      "        1    0.000    0.000    0.000    0.000 iostream.py:255(closed)\n",
      "        1    0.032    0.032    0.032    0.032 iostream.py:276(<lambda>)\n",
      "        1    0.000    0.000    0.000    0.000 iostream.py:278(_really_send)\n",
      "        1    0.000    0.000    0.000    0.000 queue.py:209(_qsize)\n",
      "        1    0.000    0.000    0.000    0.000 queue.py:97(empty)\n",
      "        1    0.000    0.000    0.000    0.000 selector_events.py:750(_process_events)\n",
      "        7    0.016    0.002    0.016    0.002 socket.py:626(send)\n",
      "        1    0.000    0.000    0.000    0.000 socket.py:703(send_multipart)\n",
      "        1    0.000    0.000    0.000    0.000 socket.py:774(recv_multipart)\n",
      "        1    0.000    0.000    0.000    0.000 threading.py:299(__enter__)\n",
      "        1    0.000    0.000    0.000    0.000 threading.py:308(_release_save)\n",
      "        1    0.000    0.000    0.000    0.000 threading.py:314(_is_owned)\n",
      "        1    0.000    0.000    0.000    0.000 traitlets.py:1512(_notify_trait)\n",
      "        1    0.000    0.000    0.000    0.000 traitlets.py:1523(notify_change)\n",
      "        1    0.000    0.000    0.000    0.000 traitlets.py:1527(_notify_observers)\n",
      "        2    0.000    0.000    0.000    0.000 traitlets.py:2304(validate)\n",
      "        2    0.000    0.000    0.000    0.000 traitlets.py:3474(validate)\n",
      "        2    0.000    0.000    0.000    0.000 traitlets.py:3486(validate_elements)\n",
      "        2    0.000    0.000    0.000    0.000 traitlets.py:3624(validate_elements)\n",
      "        2    0.000    0.000    0.000    0.000 traitlets.py:3631(set)\n",
      "        2    0.000    0.000    0.000    0.000 traitlets.py:629(get)\n",
      "        2    0.000    0.000    0.000    0.000 traitlets.py:676(__get__)\n",
      "        2    0.000    0.000    0.000    0.000 traitlets.py:689(set)\n",
      "        2    0.000    0.000    0.000    0.000 traitlets.py:708(__set__)\n",
      "        2    0.000    0.000    0.000    0.000 traitlets.py:718(_validate)\n",
      "        2    0.000    0.000    0.000    0.000 traitlets.py:727(_cross_validate)\n",
      "        1    0.000    0.000    0.000    0.000 typing.py:1221(__instancecheck__)\n",
      "        2    0.000    0.000    0.000    0.000 typing.py:1285(__hash__)\n",
      "        1    0.000    0.000    0.000    0.000 typing.py:1492(__subclasscheck__)\n",
      "       15    0.000    0.000    0.000    0.000 typing.py:2182(cast)\n",
      "        3    0.000    0.000    0.000    0.000 typing.py:392(inner)\n",
      "        2    0.000    0.000    0.000    0.000 zmqstream.py:538(receiving)\n",
      "        1    0.000    0.000    0.000    0.000 zmqstream.py:542(sending)\n",
      "        1    0.000    0.000    0.032    0.032 zmqstream.py:556(_run_callback)\n",
      "        1    0.000    0.000    0.032    0.032 zmqstream.py:583(_handle_events)\n",
      "        1    0.000    0.000    0.032    0.032 zmqstream.py:624(_handle_recv)\n",
      "        1    0.000    0.000    0.000    0.000 zmqstream.py:663(_rebuild_io_state)\n",
      "        1    0.000    0.000    0.000    0.000 zmqstream.py:686(_update_handler)\n",
      "        1    0.000    0.000    0.032    0.032 zmqstream.py:694(<lambda>)\n",
      "        1    0.000    0.000    0.000    0.000 {built-in method _abc._abc_subclasscheck}\n",
      "        1    0.000    0.000    0.000    0.000 {built-in method _thread.allocate_lock}\n",
      "        1    0.000    0.000    0.445    0.445 {built-in method builtins.exec}\n",
      "        2    0.000    0.000    0.000    0.000 {built-in method builtins.getattr}\n",
      "        7    0.000    0.000    0.000    0.000 {built-in method builtins.hasattr}\n",
      "        2    0.000    0.000    0.000    0.000 {built-in method builtins.hash}\n",
      "    69/67    0.000    0.000    0.000    0.000 {built-in method builtins.isinstance}\n",
      "        1    0.000    0.000    0.000    0.000 {built-in method builtins.issubclass}\n",
      "        6    0.000    0.000    0.000    0.000 {built-in method builtins.len}\n",
      "        2    0.000    0.000    0.000    0.000 {built-in method builtins.max}\n",
      "        1    0.000    0.000    0.000    0.000 {built-in method builtins.min}\n",
      "        1    0.215    0.215    0.418    0.418 {built-in method builtins.sum}\n",
      "        1    0.000    0.000    0.000    0.000 {built-in method nt.getpid}\n",
      "        2    0.000    0.000    0.000    0.000 {built-in method time.monotonic}\n",
      "        1    0.000    0.000    0.000    0.000 {method '__enter__' of '_thread.lock' objects}\n",
      "        3    0.000    0.000    0.000    0.000 {method '__exit__' of '_thread.lock' objects}\n",
      "        2    0.016    0.008    0.016    0.008 {method '__exit__' of 'sqlite3.Connection' objects}\n",
      "        2    0.000    0.000    0.000    0.000 {method 'acquire' of '_thread.lock' objects}\n",
      "        1    0.000    0.000    0.000    0.000 {method 'append' of 'collections.deque' objects}\n",
      "        1    0.000    0.000    0.000    0.000 {method 'disable' of '_lsprof.Profiler' objects}\n",
      "        2    0.000    0.000    0.000    0.000 {method 'extend' of 'list' objects}\n",
      "        4    0.000    0.000    0.000    0.000 {method 'get' of 'dict' objects}\n",
      "        2    0.000    0.000    0.000    0.000 {method 'popleft' of 'collections.deque' objects}\n",
      "        1    0.000    0.000    0.000    0.000 {method 'release' of '_thread.lock' objects}\n",
      "        1    0.000    0.000    0.032    0.032 {method 'run' of '_contextvars.Context' objects}\n",
      "        2    0.000    0.000    0.000    0.000 {method 'upper' of 'str' objects}\n",
      "\n",
      "\n"
     ]
    }
   ],
   "source": [
    "import cProfile\n",
    "\n",
    "def slow_function():\n",
    "    total = 0\n",
    "    for i in range(1, 10000):\n",
    "        for j in range(1, 100):\n",
    "            total += i * j\n",
    "    return total\n",
    "\n",
    "def fast_function():\n",
    "    return sum(i * j for i in range(1, 10000) for j in range(1, 100))\n",
    "\n",
    "def main():\n",
    "    slow_function()\n",
    "    fast_function()\n",
    "\n",
    "if __name__ == \"__main__\":\n",
    "    cProfile.run(\"main()\")\n"
   ]
  },
  {
   "cell_type": "code",
   "execution_count": 2,
   "id": "b8b0649d-369e-40da-8b77-3b7ddc8ae9d2",
   "metadata": {},
   "outputs": [],
   "source": [
    "%load_ext line_profiler\n"
   ]
  },
  {
   "cell_type": "code",
   "execution_count": 3,
   "id": "5131db55-c341-4bc5-8327-5e0af8996d13",
   "metadata": {},
   "outputs": [],
   "source": [
    "def slow_function():\n",
    "    total = 0\n",
    "    for i in range(1, 10000):\n",
    "        for j in range(1, 100):\n",
    "            total += i * j\n",
    "    return total\n",
    "\n",
    "\n"
   ]
  },
  {
   "cell_type": "code",
   "execution_count": 4,
   "id": "405d7228-863c-4d5b-8d5b-7f174bd992ca",
   "metadata": {},
   "outputs": [
    {
     "data": {
      "text/plain": [
       "Timer unit: 1e-07 s\n",
       "\n",
       "Total time: 0.985636 s\n",
       "\n",
       "Could not find file C:\\Users\\Kiran Gunna\\AppData\\Local\\Temp\\ipykernel_18044\\389266379.py\n",
       "Are you sure you are running this program from the same directory\n",
       "that you ran the profiler from?\n",
       "Continuing without the function's contents.\n",
       "\n",
       "Line #      Hits         Time  Per Hit   % Time  Line Contents\n",
       "==============================================================\n",
       "     1                                           \n",
       "     2         1          7.0      7.0      0.0  \n",
       "     3     10000      53573.0      5.4      0.5  \n",
       "     4    999900    4736889.0      4.7     48.1  \n",
       "     5    989901    5065871.0      5.1     51.4  \n",
       "     6         1         16.0     16.0      0.0"
      ]
     },
     "metadata": {},
     "output_type": "display_data"
    }
   ],
   "source": [
    "%lprun -f slow_function slow_function()\n"
   ]
  },
  {
   "cell_type": "code",
   "execution_count": 5,
   "id": "34d95a5f-2c93-405d-a675-c7595d2a3a98",
   "metadata": {},
   "outputs": [
    {
     "name": "stdout",
     "output_type": "stream",
     "text": [
      "Time taken: 0.004931700008455664\n"
     ]
    }
   ],
   "source": [
    "# timeit: A module to measure the execution time of small code snippets.\n",
    "import timeit\n",
    "\n",
    "time_taken = timeit.timeit('sum([i for i in range(100)])', number=1000)\n",
    "print(f\"Time taken: {time_taken}\")"
   ]
  },
  {
   "cell_type": "code",
   "execution_count": null,
   "id": "b6ba69c3-2a4f-4cf6-8b65-89cea19a9a40",
   "metadata": {},
   "outputs": [],
   "source": []
  }
 ],
 "metadata": {
  "kernelspec": {
   "display_name": "Python 3 (ipykernel)",
   "language": "python",
   "name": "python3"
  },
  "language_info": {
   "codemirror_mode": {
    "name": "ipython",
    "version": 3
   },
   "file_extension": ".py",
   "mimetype": "text/x-python",
   "name": "python",
   "nbconvert_exporter": "python",
   "pygments_lexer": "ipython3",
   "version": "3.12.6"
  }
 },
 "nbformat": 4,
 "nbformat_minor": 5
}
