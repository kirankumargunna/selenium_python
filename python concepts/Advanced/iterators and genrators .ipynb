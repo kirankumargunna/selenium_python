{
 "cells": [
  {
   "cell_type": "code",
   "execution_count": 1,
   "id": "8d52c8d1-be9d-4576-8107-49f6c8a128f6",
   "metadata": {},
   "outputs": [],
   "source": [
    "list=[1,2,3,4,5,6,7,8,9]\n",
    "obj = iter(list)"
   ]
  },
  {
   "cell_type": "code",
   "execution_count": 5,
   "id": "59051158-b9be-41c7-900a-a003e2a8a8a6",
   "metadata": {},
   "outputs": [
    {
     "name": "stdout",
     "output_type": "stream",
     "text": [
      "<list_iterator object at 0x000001F7657D5BD0>\n"
     ]
    }
   ],
   "source": [
    "print(obj)"
   ]
  },
  {
   "cell_type": "code",
   "execution_count": 17,
   "id": "3851e403-2e3c-4af9-aad1-ba342fff973d",
   "metadata": {},
   "outputs": [
    {
     "ename": "StopIteration",
     "evalue": "",
     "output_type": "error",
     "traceback": [
      "\u001b[1;31m---------------------------------------------------------------------------\u001b[0m",
      "\u001b[1;31mStopIteration\u001b[0m                             Traceback (most recent call last)",
      "Cell \u001b[1;32mIn[17], line 1\u001b[0m\n\u001b[1;32m----> 1\u001b[0m \u001b[38;5;28mprint\u001b[39m(\u001b[38;5;28;43mnext\u001b[39;49m\u001b[43m(\u001b[49m\u001b[43mobj\u001b[49m\u001b[43m)\u001b[49m)\n",
      "\u001b[1;31mStopIteration\u001b[0m: "
     ]
    }
   ],
   "source": [
    "print(next(obj))"
   ]
  },
  {
   "cell_type": "code",
   "execution_count": 60,
   "id": "22043c53-fd8a-4b5c-8e79-c7456af73497",
   "metadata": {},
   "outputs": [],
   "source": [
    "class Square:\n",
    "    def __init__(self, length):\n",
    "        self.length = length\n",
    "        self.current = 0\n",
    "\n",
    "    def __iter__(self):\n",
    "        return self\n",
    "\n",
    "    def __next__(self):\n",
    "        if self.current >= self.length:\n",
    "            raise StopIteration\n",
    "\n",
    "        self.current += 1\n",
    "        return self.current ** 2"
   ]
  },
  {
   "cell_type": "code",
   "execution_count": null,
   "id": "b4f35cec-6a46-4523-8706-b73d11822ab7",
   "metadata": {},
   "outputs": [],
   "source": []
  },
  {
   "cell_type": "code",
   "execution_count": 61,
   "id": "2242cb9d-7ef5-4357-bcdb-c1eca0094fa6",
   "metadata": {},
   "outputs": [],
   "source": [
    "squares=Square(5)"
   ]
  },
  {
   "cell_type": "code",
   "execution_count": 64,
   "id": "68d07272-3df2-41a1-bb68-63dd1f6f3074",
   "metadata": {},
   "outputs": [
    {
     "name": "stdout",
     "output_type": "stream",
     "text": [
      "<class '__main__.Square'>\n"
     ]
    }
   ],
   "source": [
    "print(type(squares))"
   ]
  },
  {
   "cell_type": "code",
   "execution_count": 63,
   "id": "53af314d-06c2-487e-b31e-96142c0464f7",
   "metadata": {},
   "outputs": [
    {
     "name": "stdout",
     "output_type": "stream",
     "text": [
      "1\n",
      "4\n",
      "9\n",
      "16\n",
      "25\n"
     ]
    }
   ],
   "source": [
    "for x in squares:\n",
    "    print(x)"
   ]
  },
  {
   "cell_type": "code",
   "execution_count": null,
   "id": "6ccc64d7-cf3e-4382-9d95-7b4b18a50728",
   "metadata": {},
   "outputs": [],
   "source": []
  },
  {
   "cell_type": "code",
   "execution_count": null,
   "id": "6e2f6e46-7528-4a6d-a1ca-ef98558ec778",
   "metadata": {},
   "outputs": [],
   "source": []
  },
  {
   "cell_type": "code",
   "execution_count": null,
   "id": "eb860293-fb5b-48e3-93ce-1b1ec2eb0e30",
   "metadata": {},
   "outputs": [],
   "source": [
    "\n"
   ]
  }
 ],
 "metadata": {
  "kernelspec": {
   "display_name": "Python 3 (ipykernel)",
   "language": "python",
   "name": "python3"
  },
  "language_info": {
   "codemirror_mode": {
    "name": "ipython",
    "version": 3
   },
   "file_extension": ".py",
   "mimetype": "text/x-python",
   "name": "python",
   "nbconvert_exporter": "python",
   "pygments_lexer": "ipython3",
   "version": "3.12.6"
  }
 },
 "nbformat": 4,
 "nbformat_minor": 5
}
