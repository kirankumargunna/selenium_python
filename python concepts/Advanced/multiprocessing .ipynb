{
 "cells": [
  {
   "cell_type": "code",
   "execution_count": 1,
   "id": "670d3a3a-7aa1-47ce-9076-8cab21272ed7",
   "metadata": {},
   "outputs": [],
   "source": [
    "import multiprocessing "
   ]
  },
  {
   "cell_type": "code",
   "execution_count": 2,
   "id": "532719d5-24f3-448a-b87c-894636902afe",
   "metadata": {},
   "outputs": [
    {
     "name": "stdout",
     "output_type": "stream",
     "text": [
      "The number of CPU currently working in system :  8\n"
     ]
    }
   ],
   "source": [
    "print(\"The number of CPU currently working in system : \", multiprocessing.cpu_count())  \n"
   ]
  },
  {
   "cell_type": "code",
   "execution_count": 3,
   "id": "5ec50599-0ade-478e-96d6-5988afd36a0c",
   "metadata": {},
   "outputs": [
    {
     "name": "stdout",
     "output_type": "stream",
     "text": [
      "All processes are done.\n"
     ]
    }
   ],
   "source": [
    "import time\n",
    "\n",
    "# Function to be run by each process\n",
    "def worker(num):\n",
    "    print(f\"Worker {num} starting\")\n",
    "    time.sleep(2)\n",
    "    print(f\"Worker {num} done\")\n",
    "\n",
    "processes = []\n",
    "\n",
    "# Create multiple processes\n",
    "for i in range(4):\n",
    "    p = multiprocessing.Process(target=worker, args=(i,))\n",
    "    processes.append(p)\n",
    "    p.start()\n",
    "\n",
    "# Wait for all processes to finish\n",
    "for p in processes:\n",
    "    p.join()\n",
    "\n",
    "print(\"All processes are done.\")\n"
   ]
  },
  {
   "cell_type": "code",
   "execution_count": null,
   "id": "e5246c52-cd18-4c4f-ad69-c13b9ed60aad",
   "metadata": {},
   "outputs": [],
   "source": [
    "import multiprocessing as mp\n",
    "import time \n",
    "import math \n",
    "\n",
    "result_1=[]\n",
    "result_2=[]\n",
    "result_3=[]\n",
    "\n",
    "def function1(numbers):\n",
    "    for number in numbers:\n",
    "        result_1.append(math.sqrt(number**2))\n",
    "def function2(numbers):\n",
    "    for number in numbers:\n",
    "        result_2.append(math.sqrt(number**3))\n",
    "def function3(numbers):\n",
    "    for number in numbers:\n",
    "        result_3.append(math.sqrt(number**4))\n",
    "\n",
    "if __name__==\"__main__\":\n",
    "\n",
    "    numbers=list(range(100000))\n",
    "    # start=time.time()\n",
    "    # function1(numbers)\n",
    "    # function2(numbers)\n",
    "    # function3(numbers)\n",
    "    # end=time.time()\n",
    "    \n",
    "    # print(end-start)\n",
    "\n",
    "    p1=mp.Process(target=function1,args=(numbers,))\n",
    "    p2=mp.Process(target=function2,args=(numbers,))\n",
    "    p3=mp.Process(target=function3,args=(numbers,))\n",
    "\n",
    "    start= time.time()\n",
    "    p1.start()\n",
    "    p2.start()\n",
    "    p3.start()\n",
    "\n",
    "    p1.join()\n",
    "    p2.join()\n",
    "    p3.join()\n",
    "    end=time.time()\n",
    "    print(end-start)\n",
    "    "
   ]
  },
  {
   "cell_type": "code",
   "execution_count": null,
   "id": "c9c07b53-44c9-4f28-9c3f-8294b24f9d77",
   "metadata": {},
   "outputs": [],
   "source": []
  },
  {
   "cell_type": "code",
   "execution_count": null,
   "id": "0ebe3f5b-603b-4cdf-9705-503c3ac3b7fe",
   "metadata": {},
   "outputs": [],
   "source": []
  }
 ],
 "metadata": {
  "kernelspec": {
   "display_name": "Python 3 (ipykernel)",
   "language": "python",
   "name": "python3"
  },
  "language_info": {
   "codemirror_mode": {
    "name": "ipython",
    "version": 3
   },
   "file_extension": ".py",
   "mimetype": "text/x-python",
   "name": "python",
   "nbconvert_exporter": "python",
   "pygments_lexer": "ipython3",
   "version": "3.12.6"
  }
 },
 "nbformat": 4,
 "nbformat_minor": 5
}
