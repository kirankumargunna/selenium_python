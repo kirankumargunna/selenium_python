{
 "cells": [
  {
   "cell_type": "markdown",
   "id": "382f11df-4bd9-48f5-83da-f7eb37e92c18",
   "metadata": {},
   "source": [
    "## Characterstics of a List\n",
    "\n",
    "- Ordered\n",
    "- Changeble/Mutable\n",
    "- Hetrogeneous\n",
    "- Can have duplicates\n",
    "- are dynamic\n",
    "- can be nested\n",
    "- items can be accessed \n",
    "- can contain any kind of objects in python"
   ]
  },
  {
   "cell_type": "code",
   "execution_count": 2,
   "id": "2c216887-7bc7-407b-b8eb-bb7261ea52ef",
   "metadata": {},
   "outputs": [
    {
     "data": {
      "text/plain": [
       "False"
      ]
     },
     "execution_count": 2,
     "metadata": {},
     "output_type": "execute_result"
    }
   ],
   "source": [
    "L1 = [1,2,3]\n",
    "L2 = [2,3,1]\n",
    "\n",
    "L1 == L2"
   ]
  },
  {
   "cell_type": "code",
   "execution_count": 3,
   "id": "7bdf4514-6102-4fe5-b579-e681aacc7b06",
   "metadata": {},
   "outputs": [
    {
     "name": "stdout",
     "output_type": "stream",
     "text": [
      "[]\n",
      "[1, 2, 3, 4, 5]\n",
      "[1, 2, 3, [4, 5]]\n",
      "[[[1, 2], [3, 4]], [[5, 6], [7, 8]]]\n",
      "[1, True, 5.6, (5+6j), 'Hello']\n",
      "['h', 'e', 'l', 'l', 'o']\n"
     ]
    }
   ],
   "source": [
    "# Empty\n",
    "print([])\n",
    "# 1D \n",
    "print([1,2,3,4,5])\n",
    "# 2D\n",
    "print([1,2,3,[4,5]])\n",
    "# 3D\n",
    "print([[[1,2],[3,4]],[[5,6],[7,8]]])\n",
    "# Hetrogenous\n",
    "print([1,True,5.6,5+6j,'Hello'])\n",
    "# Using Type conversion\n",
    "print(list('hello'))"
   ]
  },
  {
   "cell_type": "code",
   "execution_count": 4,
   "id": "92f4cb4b-fec5-464d-ac64-28bce3e81029",
   "metadata": {},
   "outputs": [],
   "source": [
    "demo=[1,2,3,4,5,6,7,8]"
   ]
  },
  {
   "cell_type": "markdown",
   "id": "9b3df732-617b-4760-a606-31a1191ee882",
   "metadata": {},
   "source": [
    "append(item): Adds an item to the end of the list.  \n",
    "insert(index, item): Inserts an item at the specified index.  \n",
    "remove(item): Removes the first occurrence of an item from the list.  \n",
    "pop(index): Removes and returns the item at the specified index.  \n",
    "extend(iterable): Extends the list by appending elements from an iterable.  \n",
    "sort(): Sorts the list in ascending order.  \n",
    "reverse(): Reverses the order of the list.  \n",
    "index(item): Returns the index of the first occurrence of an item.  \n",
    "count(item): Returns the number of occurrences of an item.  \n",
    "clear(): Removes all items from the list.  "
   ]
  },
  {
   "cell_type": "markdown",
   "id": "9c8e28f8-f86f-4398-8dae-5008e959a374",
   "metadata": {},
   "source": [
    " #### Find all of the numbers from 1-1000 that are divisible by 7\n"
   ]
  },
  {
   "cell_type": "code",
   "execution_count": 15,
   "id": "e64dedcc-e342-425c-94a5-4b4487ad180a",
   "metadata": {},
   "outputs": [
    {
     "name": "stdout",
     "output_type": "stream",
     "text": [
      "[0, 7, 14, 21, 28, 35, 42, 49, 56, 63, 70, 77, 84, 91, 98, 105, 112, 119, 126, 133, 140, 147, 154, 161, 168, 175, 182, 189, 196, 203, 210, 217, 224, 231, 238, 245, 252, 259, 266, 273, 280, 287, 294, 301, 308, 315, 322, 329, 336, 343, 350, 357, 364, 371, 378, 385, 392, 399, 406, 413, 420, 427, 434, 441, 448, 455, 462, 469, 476, 483, 490, 497, 504, 511, 518, 525, 532, 539, 546, 553, 560, 567, 574, 581, 588, 595, 602, 609, 616, 623, 630, 637, 644, 651, 658, 665, 672, 679, 686, 693, 700, 707, 714, 721, 728, 735, 742, 749, 756, 763, 770, 777, 784, 791, 798, 805, 812, 819, 826, 833, 840, 847, 854, 861, 868, 875, 882, 889, 896, 903, 910, 917, 924, 931, 938, 945, 952, 959, 966, 973, 980, 987, 994]\n"
     ]
    }
   ],
   "source": [
    "numbers=[i for i in range(1,1001) if i%7==0 ]\n",
    "print(numbers)"
   ]
  },
  {
   "cell_type": "markdown",
   "id": "0ea5eb5d-d3d1-4ab5-a3fe-51b14f211017",
   "metadata": {},
   "source": [
    "#### Find all of the numbers from 1-1000 that have a 3 in them\n"
   ]
  },
  {
   "cell_type": "code",
   "execution_count": 21,
   "id": "6af0c6b8-5575-44eb-9b9a-17b552c156dd",
   "metadata": {},
   "outputs": [
    {
     "name": "stdout",
     "output_type": "stream",
     "text": [
      "[3, 13, 23, 30, 31, 32, 33, 34, 35, 36, 37, 38, 39, 43, 53, 63, 73, 83, 93, 103, 113, 123, 130, 131, 132, 133, 134, 135, 136, 137, 138, 139, 143, 153, 163, 173, 183, 193, 203, 213, 223, 230, 231, 232, 233, 234, 235, 236, 237, 238, 239, 243, 253, 263, 273, 283, 293, 300, 301, 302, 303, 304, 305, 306, 307, 308, 309, 310, 311, 312, 313, 314, 315, 316, 317, 318, 319, 320, 321, 322, 323, 324, 325, 326, 327, 328, 329, 330, 331, 332, 333, 334, 335, 336, 337, 338, 339, 340, 341, 342, 343, 344, 345, 346, 347, 348, 349, 350, 351, 352, 353, 354, 355, 356, 357, 358, 359, 360, 361, 362, 363, 364, 365, 366, 367, 368, 369, 370, 371, 372, 373, 374, 375, 376, 377, 378, 379, 380, 381, 382, 383, 384, 385, 386, 387, 388, 389, 390, 391, 392, 393, 394, 395, 396, 397, 398, 399, 403, 413, 423, 430, 431, 432, 433, 434, 435, 436, 437, 438, 439, 443, 453, 463, 473, 483, 493, 503, 513, 523, 530, 531, 532, 533, 534, 535, 536, 537, 538, 539, 543, 553, 563, 573, 583, 593, 603, 613, 623, 630, 631, 632, 633, 634, 635, 636, 637, 638, 639, 643, 653, 663, 673, 683, 693, 703, 713, 723, 730, 731, 732, 733, 734, 735, 736, 737, 738, 739, 743, 753, 763, 773, 783, 793, 803, 813, 823, 830, 831, 832, 833, 834, 835, 836, 837, 838, 839, 843, 853, 863, 873, 883, 893, 903, 913, 923, 930, 931, 932, 933, 934, 935, 936, 937, 938, 939, 943, 953, 963, 973, 983, 993]\n"
     ]
    }
   ],
   "source": [
    "numbers=[i for i in range(1,1001) if '3' in str(i)]\n",
    "print(numbers)"
   ]
  },
  {
   "cell_type": "markdown",
   "id": "810e6216-a51d-4de3-8a85-01feeaec4037",
   "metadata": {},
   "source": [
    "#### Count the number of spaces in a string\n"
   ]
  },
  {
   "cell_type": "code",
   "execution_count": 26,
   "id": "8579e15e-b259-488a-818a-dd04a2bd8fe2",
   "metadata": {},
   "outputs": [
    {
     "name": "stdout",
     "output_type": "stream",
     "text": [
      "11\n",
      "11\n",
      "11\n"
     ]
    }
   ],
   "source": [
    "# using list comprehension\n",
    "str=\"lsdjfld sdlfjdsl ldjflk sdfjldjfl  dlfjl j  fjsl   sdlfj\"\n",
    "lst_spaces=[s for s in str if s==\" \"]\n",
    "print(len(lst_spaces))\n",
    "\n",
    "# using count\n",
    "print(str.count(\" \"))\n",
    "\n",
    "# using split\n",
    "print(len(str.split(\" \"))-1)"
   ]
  },
  {
   "cell_type": "markdown",
   "id": "366826cc-89e9-44d0-8ea3-b72d9fe7c149",
   "metadata": {},
   "source": [
    "#### Create a list of all the consonants in the string “Yellow Yaks like yelling and yawning and yesturday they yodled while eating yuky yams”\n"
   ]
  },
  {
   "cell_type": "code",
   "execution_count": 45,
   "id": "6ff65b00-84f0-4d03-a657-eb48355ad647",
   "metadata": {},
   "outputs": [
    {
     "name": "stdout",
     "output_type": "stream",
     "text": [
      "['Y', 'l', 'l', 'w', 'Y', 'k', 's', 'l', 'k', 'y', 'l', 'l', 'n', 'g', 'n', 'd', 'y', 'w', 'n', 'n', 'g', 'n', 'd', 'y', 's', 't', 'r', 'd', 'y', 't', 'h', 'y', 'd', 'l', 'd', 'w', 'h', 'l', 't', 'n', 'g', 'y', 'k', 'y', 'y', 'm', 's']\n",
      "['Y', 'l', 'l', 'w', 'Y', 'k', 's', 'l', 'k', 'y', 'l', 'l', 'n', 'g', 'n', 'd', 'y', 'w', 'n', 'n', 'g', 'n', 'd', 'y', 's', 't', 'r', 'd', 'y', 't', 'h', 'y', 'd', 'l', 'd', 'w', 'h', 'l', 't', 'n', 'g', 'y', 'k', 'y', 'y', 'm', 's']\n"
     ]
    }
   ],
   "source": [
    "str=\"EYellow Yaks like yelling and yawning and yesturday they Eodled while eating yuky yams\"\n",
    "\n",
    "# approach1\n",
    "consonants=[s for s in str if s.lower() not in ['a','e','i','o','u',' ']]\n",
    "\n",
    "print(consonants)\n",
    "\n",
    "#approach2 \n",
    "# using lambda function \n",
    "\n",
    "consonants=list(filter(lambda i : i.lower() not in ['a','e','i','o','u',' '],list(str)))\n",
    "\n",
    "print(consonants)\n"
   ]
  },
  {
   "cell_type": "markdown",
   "id": "3d6c4091-7dc2-4e45-b154-2c8ef0a4cbc2",
   "metadata": {},
   "source": [
    "#### Find the common numbers in two lists (without using a tuple or set) list_a = 1, 2, 3, 4, list_b = 2, 3, 4, 5\n"
   ]
  },
  {
   "cell_type": "code",
   "execution_count": 49,
   "id": "90cea6ac-0e34-43c1-82a1-dedf5f3570f1",
   "metadata": {},
   "outputs": [
    {
     "name": "stdout",
     "output_type": "stream",
     "text": [
      "[2, 3, 4]\n",
      "[2, 3, 4]\n"
     ]
    }
   ],
   "source": [
    "list_a = [1, 2, 3, 4] \n",
    "list_b = [2, 3, 4, 5]\n",
    "\n",
    "common_numbers=list(filter(lambda x : x in list_b, list_a))\n",
    "print(common_numbers)\n",
    "\n",
    "common_numbers=[i for i in list_a if i in list_b]\n",
    "print(common_numbers)\n"
   ]
  },
  {
   "cell_type": "markdown",
   "id": "989045c9-27ce-486f-a80f-46894193515e",
   "metadata": {},
   "source": [
    "#### Get only the numbers in a sentence like ‘In 1984 there were 13 instances of a protest with over 1000 people attending’\n"
   ]
  },
  {
   "cell_type": "code",
   "execution_count": 91,
   "id": "b2c3d904-4567-46a2-904b-89162964f079",
   "metadata": {},
   "outputs": [
    {
     "name": "stdout",
     "output_type": "stream",
     "text": [
      "[1, 9, 8, 4, 1, 3, 1, 0, 0, 0]\n",
      "['1', '9', '8', '4', '1', '3', '1', '0', '0', '0']\n",
      "[1, 9, 8, 4, 1, 3, 1, 0, 0, 0]\n",
      "[1984, 13, 1000]\n",
      "['1', '9', '8', '4', '1', '3', '1', '0', '0', '0']\n",
      "['1984', '13', '1000']\n",
      "['1', '9', '8', '4', '1', '3', '1', '0', '0', '0']\n"
     ]
    }
   ],
   "source": [
    "string=\"In 1984 there were 13 instances of a protest with over 1000 people attending\"\n",
    "\n",
    "# appraoch1\n",
    "numbers=[int(n) for n in string if n in ['1','2','3','4','5','6','7','8','9','0']]\n",
    "print(numbers)\n",
    "numbers = [ num for num in string if num in [ str(x) for x in range(0,10)]]\n",
    "\n",
    "print(numbers)\n",
    "\n",
    "# approach2\n",
    "numbers=list(map(int,filter(lambda x:x.isdigit(),string)))\n",
    "print(numbers)\n",
    "\n",
    "# approach3 \n",
    "words = string.split()\n",
    "numbers=[num for num in words if num.isnumeric()]\n",
    "print(list(map(int,numbers)))\n",
    "\n",
    "#approach4\n",
    "import re \n",
    "pattern='[0-9]'\n",
    "numbers=[x for x in string if re.match(pattern,x)]\n",
    "print(numbers)\n",
    "\n",
    "#approach5\n",
    "numbers=[i for i in string.split() if re.match(\"[0-9]\", i)]\n",
    "print(numbers)\n",
    "\n",
    "#approach6 \n",
    "pattern='[0-9]'\n",
    "numbers=re.findall(pattern,string)\n",
    "print(numbers)"
   ]
  },
  {
   "cell_type": "markdown",
   "id": "0804038f-1216-4484-ac00-5cc1d483291e",
   "metadata": {},
   "source": [
    "#### Given numbers = range(20), produce a list containing the word ‘even’ if a number in the numbers is even, and the word ‘odd’ if the number is odd. Result would look like ‘odd’,’odd’, ‘even’\n"
   ]
  },
  {
   "cell_type": "code",
   "execution_count": 98,
   "id": "a4b90fe2-3418-4532-964a-ea33ed8e4733",
   "metadata": {},
   "outputs": [
    {
     "name": "stdout",
     "output_type": "stream",
     "text": [
      "['odd', 'odd', 'even', 'odd', 'even', 'odd', 'even', 'odd', 'even', 'odd', 'even', 'odd', 'even', 'odd', 'even', 'odd', 'even', 'odd', 'even', 'odd', 'even']\n"
     ]
    }
   ],
   "source": [
    "#apprach1\n",
    "\n",
    "result=['odd']\n",
    "result+=['even' if i%2==0 else 'odd' for i in range(1,21)]\n",
    "print( result)"
   ]
  },
  {
   "cell_type": "markdown",
   "id": "3bcf7f3e-87c8-4f5e-99d4-d8b4bc89a125",
   "metadata": {},
   "source": [
    "#### Produce a list of tuples consisting of only the matching numbers in these lists list_a = 1, 2, 3,4,5,6,7,8,9, list_b = 2, 7, 1, 12. Result would look like (4,4), (12,12)\n"
   ]
  },
  {
   "cell_type": "code",
   "execution_count": 102,
   "id": "bf507261-4a30-4806-ac73-ca19fbd15f47",
   "metadata": {},
   "outputs": [
    {
     "name": "stdout",
     "output_type": "stream",
     "text": [
      "[(1, 1), (2, 2), (7, 7)]\n",
      "[(1, 1), (2, 2), (7, 7)]\n"
     ]
    }
   ],
   "source": [
    "list_a=[1, 2, 3,4,5,6,7,8,9]\n",
    "list_b=[2, 7, 1, 12]\n",
    "# approach1\n",
    "result=[(i,j) for i in list_a for j in list_b if i==j]\n",
    "print(result)\n",
    "\n",
    "#approach2\n",
    "result=[(i,i) for i in list_a if i in list_b]\n",
    "print(result)\n",
    "\n",
    "\n"
   ]
  },
  {
   "cell_type": "markdown",
   "id": "6535fcbc-00ef-48b2-a656-24ebadbbaf20",
   "metadata": {},
   "source": [
    "#### Find all of the words in a string that are less than 5 letters\n"
   ]
  },
  {
   "cell_type": "code",
   "execution_count": 125,
   "id": "2ca2a18a-dd64-42fa-9485-de557fd4fbfe",
   "metadata": {},
   "outputs": [
    {
     "name": "stdout",
     "output_type": "stream",
     "text": [
      "['In', '1984', 'were', '13', 'of', 'a', 'with', 'over', '1000']\n",
      "['In', '1984', 'were', '13', 'of', 'a', 'with', 'over', '1000']\n",
      "[['a', 1], ['In', 2], ['13', 2], ['of', 2], ['1984', 4], ['were', 4], ['with', 4], ['over', 4], ['1000', 4]]\n",
      "['a', 'In', '13', 'of', '1984', 'were', 'with', 'over', '1000']\n"
     ]
    }
   ],
   "source": [
    "string=\"In 1984 there were 13 instances of a protest with over 1000 people attending\"\n",
    "\n",
    "# approach1 \n",
    "result=[i for i in string.split() if len(i)<=4]\n",
    "print(result)\n",
    "\n",
    "#approach2\n",
    "result1=list(filter(lambda x: x if len(x)<5 else 0 ,string.split()))\n",
    "print(result1)\n",
    "\n",
    "#approach3\n",
    "result2=sorted([[i,len(i)] for i in string.split() if len(i)<5],key=lambda x : x[1])\n",
    "print(result2)\n",
    "print(list(x[0] for x in result2))"
   ]
  },
  {
   "cell_type": "markdown",
   "id": "c3355e0b-e8c0-46c4-8867-a4587536f610",
   "metadata": {},
   "source": [
    "#### Use a nested list comprehension to find all of the numbers from 1-1000 that are divisible by any single digit besides 1 (2-9)\n"
   ]
  },
  {
   "cell_type": "code",
   "execution_count": 132,
   "id": "3a362d6b-d8cc-45b5-b94d-56a984a86101",
   "metadata": {},
   "outputs": [
    {
     "name": "stdout",
     "output_type": "stream",
     "text": [
      "[12, 13, 14, 15, 16, 17, 18, 19, 24, 26, 28, 30, 32, 34, 36, 38, 39, 42, 45, 48, 51, 52, 54, 56, 57, 60, 64, 65, 68, 70, 72, 75, 76, 78, 80, 84, 85, 90, 91, 95, 96, 98, 102, 104, 105, 108, 112, 114, 117, 119, 120, 126, 128, 130, 132, 133, 135, 136, 140, 143, 144, 150, 152, 153, 154, 156, 160, 162, 165, 168, 169, 170, 171, 176, 180, 182, 187, 190, 192, 195, 196, 198, 204, 208, 209, 210, 216, 221, 224, 225, 228, 234, 238, 240, 247, 252, 255, 256, 260, 264, 266, 270, 272, 273, 276, 280, 285, 286, 288, 289, 294, 299, 300, 304, 306, 308, 312, 315, 320, 322, 323, 324, 325, 330, 336, 338, 340, 342, 345, 348, 350, 351, 352, 357, 360, 361, 364, 368, 372, 374, 375, 377, 378, 380, 384, 390, 391, 392, 396, 399, 400, 403, 405, 406, 408, 414, 416, 418, 420, 425, 429, 432, 434, 435, 437, 442, 444, 448, 450, 455, 456, 459, 462, 464, 465, 468, 475, 476, 480, 481, 486, 490, 492, 493, 494, 495, 496, 504, 507, 510, 512, 513, 516, 518, 520, 522, 525, 527, 528, 532, 533, 540, 544, 546, 551, 552, 555, 558, 559, 560, 561, 564, 570, 572, 574, 576, 578, 585, 588, 589, 592, 594, 595, 598, 600, 602, 608, 611, 612, 615, 616, 624, 627, 629, 630, 636, 637, 640, 644, 645, 646, 648, 650, 656, 658, 660, 663, 665, 666, 672, 675, 676, 680, 684, 686, 688, 689, 690, 696, 697, 700, 702, 703, 704, 705, 708, 714, 715, 720, 722, 728, 731, 732, 735, 736, 738, 741, 742, 744, 748, 750, 752, 754, 756, 760, 765, 767, 768, 770, 774, 779, 780, 782, 784, 792, 793, 795, 798, 799, 800, 804, 806, 810, 812, 816, 817, 819, 825, 826, 828, 832, 833, 836, 840, 845, 846, 848, 850, 852, 854, 855, 858, 864, 867, 868, 870, 871, 874, 876, 880, 882, 884, 885, 888, 893, 896, 897, 900, 901, 910, 912, 915, 918, 923, 924, 928, 930, 931, 935, 936, 938, 944, 945, 948, 949, 950, 952, 954, 960, 962, 966, 969, 972, 975, 976, 980, 984, 986, 988, 990, 992, 994, 996]\n"
     ]
    }
   ],
   "source": [
    "#approach1\n",
    "result=list(set(i for i in range(1,1001) for j in range(12,20) if i%j==0))\n",
    "print(sorted(result))\n",
    "\n",
    "#approach2\n"
   ]
  },
  {
   "cell_type": "code",
   "execution_count": null,
   "id": "12c7e4e9-1cc0-4293-851b-3bcba27e7092",
   "metadata": {},
   "outputs": [],
   "source": []
  }
 ],
 "metadata": {
  "kernelspec": {
   "display_name": "Python 3 (ipykernel)",
   "language": "python",
   "name": "python3"
  },
  "language_info": {
   "codemirror_mode": {
    "name": "ipython",
    "version": 3
   },
   "file_extension": ".py",
   "mimetype": "text/x-python",
   "name": "python",
   "nbconvert_exporter": "python",
   "pygments_lexer": "ipython3",
   "version": "3.12.6"
  }
 },
 "nbformat": 4,
 "nbformat_minor": 5
}
