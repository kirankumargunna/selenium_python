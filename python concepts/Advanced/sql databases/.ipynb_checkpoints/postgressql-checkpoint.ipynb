{
 "cells": [
  {
   "cell_type": "markdown",
   "id": "7e24ebd3-293d-4ea8-9afe-1156e0c4e1ed",
   "metadata": {},
   "source": [
    "psycopg2 is a PostgreSQL adapter for Python that provides a robust interface for interacting with PostgreSQL databaspsycopg2 is thread-safe at the connection level, which means multiple threads can use separate connections to the database safely.es. It adheres to the Python DB-API 2.0 specification, ensuring consistency and compatibility with Python's standard database interaction practices.  \n",
    "\n",
    "psycopg2 is thread-safe at the connection level, which means multiple threads can use separate connections to the database safely.  \n",
    "\n",
    "psycopg2 optimizes query execution, including support for server-side cursors, parameterized queries, and efficient handling of large datasets.  \n",
    "\n",
    "psycopg2 offers connection pooling for efficient management of database connections, especially in applications with high concurrency  "
   ]
  },
  {
   "cell_type": "code",
   "execution_count": null,
   "id": "d1b13ce3-f1c7-41b2-ae73-eb04b858f190",
   "metadata": {},
   "outputs": [],
   "source": [
    "import psycopg2\n"
   ]
  },
  {
   "cell_type": "code",
   "execution_count": 82,
   "id": "b1c5cac3-ea0d-4304-855c-d1b89dc521db",
   "metadata": {},
   "outputs": [],
   "source": [
    "#The connection to a PostgreSQL database instance is managed by the connection object.\n",
    "#It encapsulates a database session, created using the function connect().\n",
    "\n",
    "conn = psycopg2.connect(database=\"postgres\",\n",
    "                        host=\"localhost\",\n",
    "                        user=\"postgres\",\n",
    "                        password=\"ReportingUser\",\n",
    "                        port=\"5432\")"
   ]
  },
  {
   "cell_type": "markdown",
   "id": "935752f4-d45c-432b-8dae-1f12d8b00ed1",
   "metadata": {},
   "source": [
    " The cursor object makes it possible for Python scripts to run PostgreSQL commands within a database session. The connection generates cursors, then the cursor() method ties them permanently to the connection. All commands are carried out within the framework of the connection-enclosed database session."
   ]
  },
  {
   "cell_type": "code",
   "execution_count": 83,
   "id": "c1ef7239-18d6-4816-bc65-73120e2b415a",
   "metadata": {},
   "outputs": [],
   "source": [
    "# create a cursor object \n",
    "\n",
    "cursor = conn.cursor()\n"
   ]
  },
  {
   "cell_type": "code",
   "execution_count": null,
   "id": "06578db2-54ff-4aa0-ba66-0730c99762e5",
   "metadata": {},
   "outputs": [],
   "source": [
    "# execute method is used to run a sql query \n",
    "# create schema\n",
    "cursor.execute(\"create schema demo\")\n",
    "\n",
    "# # create a table\n",
    "# cursor.execute(\"\"\"CREATE TABLE demo.cars ( brand VARCHAR(255),\n",
    "#                                    model VARCHAR(255),\n",
    "#                                    year INT\n",
    "#                                   )\"\"\")"
   ]
  },
  {
   "cell_type": "code",
   "execution_count": null,
   "id": "ff2361e2-55a3-409a-bb9d-bdd19009b0d4",
   "metadata": {},
   "outputs": [],
   "source": [
    "#nsert data in the table\n",
    "\n",
    "cursor.execute(\"\"\"INSERT INTO demo.cars (brand, model, year)\n",
    "VALUES ('Ford', 'Mustang', 1964);\"\"\")"
   ]
  },
  {
   "cell_type": "code",
   "execution_count": 85,
   "id": "3c3dc95e-4055-42e7-a213-14307724bcec",
   "metadata": {},
   "outputs": [],
   "source": [
    "# commit the transaction\n",
    "conn.commit()"
   ]
  },
  {
   "cell_type": "code",
   "execution_count": null,
   "id": "6cadfaec-802e-4976-bfbc-5eb3ad4774a3",
   "metadata": {},
   "outputs": [],
   "source": [
    "#fetch data from the table \n",
    "cursor.execute(\"select * from demo.cars\")\n",
    "rows = cursor.fetchall()\n",
    "for row in rows:\n",
    "    print(row)"
   ]
  },
  {
   "cell_type": "code",
   "execution_count": 86,
   "id": "058b00d3-d187-4e6c-9401-7d0801a2b138",
   "metadata": {},
   "outputs": [],
   "source": [
    "# close the cursor and connection\n",
    "\n",
    "cursor.close()\n",
    "conn.close()"
   ]
  },
  {
   "cell_type": "markdown",
   "id": "8ac7623f-ad3b-4da1-9ec8-3f8fc174fd6c",
   "metadata": {},
   "source": [
    "`autocommit`: Enables or disables autocommit mode.  \n",
    "`commit()`: Commits the current transaction.  \n",
    "`rollback()`: Rolls back the current transaction.  \n",
    "`execute()`: Runs a SQL query.  \n",
    "`fetchall()`: Retrieves all rows of a query result.  \n",
    "`fetchone()`: Retrieves a single row of a query result.  \n",
    "`fetchmany(size=n)`: Retrieves n rows from a query result."
   ]
  },
  {
   "cell_type": "code",
   "execution_count": 94,
   "id": "c28fa199-5833-4dec-8cb3-389ab8320670",
   "metadata": {},
   "outputs": [
    {
     "name": "stdout",
     "output_type": "stream",
     "text": [
      "Thread-0 executing query...\n",
      "Thread-0 fetched 5 rows from users and 5 rows from orders.\n",
      "Thread-1 executing query...\n",
      "Thread-3 executing query...\n",
      "Thread-1 fetched 5 rows from users and 5 rows from orders.\n",
      "Thread-3 fetched 5 rows from users and 5 rows from orders.\n",
      "Thread-4 executing query...\n",
      "Thread-4 fetched 5 rows from users and 5 rows from orders.\n",
      "Thread-2 executing query...\n",
      "Thread-2 fetched 5 rows from users and 5 rows from orders.\n",
      "All threads have finished execution.\n"
     ]
    }
   ],
   "source": [
    "import psycopg2\n",
    "from psycopg2 import pool\n",
    "import threading\n",
    "import time\n",
    "\n",
    "# Database connection parameters\n",
    "db_config = {\n",
    "    \"user\": \"postgres\",\n",
    "    \"password\": \"ReportingUser\",\n",
    "    \"host\": \"localhost\",\n",
    "    \"port\": \"5432\",\n",
    "    \"database\": \"postgres\"\n",
    "}\n",
    "\n",
    "# Create a connection pool with 5 connections\n",
    "connection_pool = psycopg2.pool.SimpleConnectionPool(\n",
    "    1,  # Minimum number of connections\n",
    "    5,  # Maximum number of connections\n",
    "    **db_config\n",
    ")\n",
    "\n",
    "# Function to simulate querying with multiple cursors using connection pooling\n",
    "def query_with_pool_and_multiple_cursors(thread_id):\n",
    "    # Get a connection from the pool\n",
    "    conn = connection_pool.getconn()\n",
    "    \n",
    "    # Create two cursors on the same connection\n",
    "    cursor1 = conn.cursor()\n",
    "    cursor2 = conn.cursor()\n",
    "\n",
    "    print(f\"Thread-{thread_id} executing query...\")\n",
    "\n",
    "    # First query using the first cursor\n",
    "    cursor1.execute(\"SELECT * FROM users LIMIT 5;\")\n",
    "    rows1 = cursor1.fetchall()\n",
    "\n",
    "    # Second query using the second cursor\n",
    "    cursor2.execute(\"SELECT * FROM orders LIMIT 5;\")\n",
    "    rows2 = cursor2.fetchall()\n",
    "\n",
    "    # Print the results of both queries\n",
    "    print(f\"Thread-{thread_id} fetched {len(rows1)} rows from users and {len(rows2)} rows from orders.\")\n",
    "\n",
    "    # Simulate a delay to mimic a real-world scenario\n",
    "    time.sleep(1)\n",
    "\n",
    "    # Close both cursors\n",
    "    cursor1.close()\n",
    "    cursor2.close()\n",
    "\n",
    "    # Return the connection to the pool\n",
    "    connection_pool.putconn(conn)\n",
    "\n",
    "# Create multiple threads to run queries concurrently\n",
    "threads = []\n",
    "for i in range(5):\n",
    "    t = threading.Thread(target=query_with_pool_and_multiple_cursors, args=(i,))\n",
    "    threads.append(t)\n",
    "    t.start()\n",
    "\n",
    "# Wait for all threads to finish\n",
    "for t in threads:\n",
    "    t.join()\n",
    "\n",
    "print(\"All threads have finished execution.\")\n"
   ]
  },
  {
   "cell_type": "code",
   "execution_count": null,
   "id": "94f949d2-0fd1-4335-a054-6ab9f5b7cb2c",
   "metadata": {},
   "outputs": [],
   "source": []
  }
 ],
 "metadata": {
  "kernelspec": {
   "display_name": "Python 3 (ipykernel)",
   "language": "python",
   "name": "python3"
  },
  "language_info": {
   "codemirror_mode": {
    "name": "ipython",
    "version": 3
   },
   "file_extension": ".py",
   "mimetype": "text/x-python",
   "name": "python",
   "nbconvert_exporter": "python",
   "pygments_lexer": "ipython3",
   "version": "3.12.6"
  }
 },
 "nbformat": 4,
 "nbformat_minor": 5
}
