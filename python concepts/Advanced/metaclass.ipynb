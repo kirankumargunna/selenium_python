{
 "cells": [
  {
   "cell_type": "markdown",
   "metadata": {},
   "source": [
    "### metaclasses in python\n",
    "\n",
    "A metaclass in Python is a class of a class. It defines how classes behave and allows you to control the creation, modification, and behavior of classes. In essence, a metaclass is a \"class factory.\"\n",
    "\n",
    "1. In python classes themselves are objects or instances of metaclass, just like objects created from classes , classes are created from meta classes \n",
    "2. By default, Python classes are instances of the type metaclass.\n",
    "When you create a class, Python internally calls type to create the class object.\n",
    "3. You can define your own metaclass to control the behavior of class creation.\n",
    "\n",
    "\n"
   ]
  },
  {
   "cell_type": "code",
   "execution_count": 1,
   "metadata": {},
   "outputs": [
    {
     "name": "stdout",
     "output_type": "stream",
     "text": [
      "Attribute __module__ is a string.\n",
      "Attribute __qualname__ is a string.\n",
      "Attribute name is a string.\n",
      "Attribute age is an integer.\n",
      "Attribute country is a string.\n",
      "Warning: greet is not an allowed attribute type (only int and str are allowed).\n",
      "Warning: __str__ is not an allowed attribute type (only int and str are allowed).\n",
      "Creating class: Person\n",
      "Attribute __module__ is a string.\n",
      "Attribute __qualname__ is a string.\n",
      "Attribute product_name is a string.\n",
      "Warning: price is not an allowed attribute type (only int and str are allowed).\n",
      "Attribute manufacturer is a string.\n",
      "Warning: description is not an allowed attribute type (only int and str are allowed).\n",
      "Warning: __str__ is not an allowed attribute type (only int and str are allowed).\n",
      "Creating class: Product\n",
      "Person()\n",
      "Product()\n"
     ]
    }
   ],
   "source": [
    "class CustomMeta(type):\n",
    "    # This method is called when a new class is created.\n",
    "    def __new__(cls, name, bases, dct):\n",
    "        # Add a custom `__str__` method to the class\n",
    "        dct['__str__'] = cls.create_str_method(dct)\n",
    "        \n",
    "        # Validate attributes before creating the class\n",
    "        cls.validate_attributes(dct)\n",
    "        \n",
    "        # Log the class creation\n",
    "        print(f\"Creating class: {name}\")\n",
    "        \n",
    "        # Create the new class using the type() constructor\n",
    "        new_class = super().__new__(cls, name, bases, dct)\n",
    "        \n",
    "        # Any additional behavior you want can be added here\n",
    "        return new_class\n",
    "\n",
    "    @staticmethod\n",
    "    def create_str_method(dct):\n",
    "        \"\"\"\n",
    "        Create a default __str__ method for the class.\n",
    "        This method returns a string representation of the attributes in the class.\n",
    "        \"\"\"\n",
    "        def __str__(self):\n",
    "            attributes = [f\"{key}={value}\" for key, value in self.__dict__.items()]\n",
    "            return f\"{self.__class__.__name__}({', '.join(attributes)})\"\n",
    "        \n",
    "        return __str__\n",
    "\n",
    "    @staticmethod\n",
    "    def validate_attributes(dct):\n",
    "        \"\"\"\n",
    "        Validates that only attributes of specific types are added to the class.\n",
    "        For this example, we will only allow integers and strings.\n",
    "        \"\"\"\n",
    "        for key, value in dct.items():\n",
    "            if isinstance(key, str):\n",
    "                if isinstance(value, int):\n",
    "                    print(f\"Attribute {key} is an integer.\")\n",
    "                elif isinstance(value, str):\n",
    "                    print(f\"Attribute {key} is a string.\")\n",
    "                else:\n",
    "                    print(f\"Warning: {key} is not an allowed attribute type (only int and str are allowed).\")\n",
    "            else:\n",
    "                print(f\"Invalid key: {key}, it should be a string.\")\n",
    "\n",
    "# Example class using CustomMeta as its metaclass\n",
    "class Person(metaclass=CustomMeta):\n",
    "    name = \"John Doe\"\n",
    "    age = 30\n",
    "    country = \"USA\"\n",
    "\n",
    "    def greet(self):\n",
    "        return f\"Hello, I am {self.name}, from {self.country}!\"\n",
    "\n",
    "class Product(metaclass=CustomMeta):\n",
    "    product_name = \"Laptop\"\n",
    "    price = 999.99\n",
    "    manufacturer = \"BrandX\"\n",
    "\n",
    "    def description(self):\n",
    "        return f\"{self.product_name} manufactured by {self.manufacturer}, priced at ${self.price}\"\n",
    "\n",
    "# Creating instances of the above classes\n",
    "person = Person()\n",
    "product = Product()\n",
    "\n",
    "# Print the instances and their string representation\n",
    "print(person)  # Will invoke the __str__ method from the metaclass\n",
    "print(product)  # Will invoke the __str__ method from the metaclass\n",
    "\n",
    "# Validating the type of attributes in the class creation\n"
   ]
  },
  {
   "cell_type": "code",
   "execution_count": 2,
   "metadata": {},
   "outputs": [
    {
     "name": "stdout",
     "output_type": "stream",
     "text": [
      "Class Car is being created!\n",
      "This is a Car object.\n"
     ]
    }
   ],
   "source": [
    "# Define the metaclass\n",
    "class SimpleMeta(type):\n",
    "    def __new__(cls, name, bases, dct):\n",
    "        # Add a new 'description' method to the class dynamically\n",
    "        dct['description'] = lambda self: f\"This is a {self.__class__.__name__} object.\"\n",
    "        \n",
    "        # Print a message when the class is created\n",
    "        print(f\"Class {name} is being created!\")\n",
    "        \n",
    "        # Create the class using the default metaclass behavior\n",
    "        return super().__new__(cls, name, bases, dct)\n",
    "\n",
    "# Use the metaclass in a class definition\n",
    "class Car(metaclass=SimpleMeta):\n",
    "    def __init__(self, make, model):\n",
    "        self.make = make\n",
    "        self.model = model\n",
    "\n",
    "# Create an instance of the class\n",
    "my_car = Car(\"Toyota\", \"Corolla\")\n",
    "\n",
    "# Call the 'description' method added by the metaclass\n",
    "print(my_car.description())  # Output: This is a Car object.\n"
   ]
  },
  {
   "cell_type": "code",
   "execution_count": null,
   "metadata": {},
   "outputs": [],
   "source": []
  }
 ],
 "metadata": {
  "kernelspec": {
   "display_name": "Python 3",
   "language": "python",
   "name": "python3"
  },
  "language_info": {
   "codemirror_mode": {
    "name": "ipython",
    "version": 3
   },
   "file_extension": ".py",
   "mimetype": "text/x-python",
   "name": "python",
   "nbconvert_exporter": "python",
   "pygments_lexer": "ipython3",
   "version": "3.12.6"
  }
 },
 "nbformat": 4,
 "nbformat_minor": 2
}
