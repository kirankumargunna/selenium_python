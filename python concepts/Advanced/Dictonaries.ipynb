{
 "cells": [
  {
   "cell_type": "code",
   "execution_count": 13,
   "id": "b1fc60a1-e9da-4544-8523-776edc5d79a5",
   "metadata": {},
   "outputs": [],
   "source": [
    "my_dict = {\"name\":\"Max\", \"age\":28, \"city\":\"New York\"}\n",
    "colors = {'Red': 1, 'Green': 3, 'Black': 5, 'White': 2, 'Pink': 4}\n",
    "\n",
    "inventory = {\n",
    "    \"Laptop\": {\n",
    "        \"price\": 1000,\n",
    "        \"quantity\": 50,\n",
    "        \"category\": \"Electronics\"\n",
    "    },\n",
    "    \"Chair\": {\n",
    "        \"price\": 150,\n",
    "        \"quantity\": 300,\n",
    "        \"category\": \"Furniture\"\n",
    "    },\n",
    "    \"Pen\": {\n",
    "        \"price\": 2,\n",
    "        \"quantity\": 5000,\n",
    "        \"category\": \"Stationery\"\n",
    "    }\n",
    "}\n",
    "\n",
    "students = {\n",
    "   \"John\": {\n",
    "      \"age\": 20,\n",
    "      \"courses\": [\"Math\", \"Science\"],\n",
    "      \"grade\": \"A\"\n",
    "   },\n",
    "   \"Jane\": {\n",
    "      \"age\": 22,\n",
    "      \"courses\": [\"History\", \"English\"],\n",
    "      \"grade\": \"B\"\n",
    "   }\n",
    "}"
   ]
  },
  {
   "cell_type": "code",
   "execution_count": 22,
   "id": "ce4ca4d9-816b-43f6-97dd-68699d54306f",
   "metadata": {},
   "outputs": [
    {
     "name": "stdout",
     "output_type": "stream",
     "text": [
      "20\n"
     ]
    }
   ],
   "source": [
    "if 'age' in students[\"John\"]:\n",
    "    print(students[\"John\"]['age'])"
   ]
  },
  {
   "cell_type": "code",
   "execution_count": 28,
   "id": "e7a8fc04-4201-4ae8-af2e-1e89d8616385",
   "metadata": {},
   "outputs": [
    {
     "name": "stdout",
     "output_type": "stream",
     "text": [
      "name Max\n",
      "age 28\n",
      "city New York\n",
      "John = {'age': 20, 'courses': ['Math', 'Science'], 'grade': 'A'}\n",
      "Jane = {'age': 22, 'courses': ['History', 'English'], 'grade': 'B'}\n",
      "{'age': 20, 'courses': ['Math', 'Science'], 'grade': 'A'}\n",
      "{'age': 22, 'courses': ['History', 'English'], 'grade': 'B'}\n"
     ]
    }
   ],
   "source": [
    "#looping through dictonary \n",
    "#loop over keys\n",
    "for key in my_dict:\n",
    "    print(key, my_dict[key])\n",
    "    \n",
    "for key in students:\n",
    "    print(key,'=' ,students[key])\n",
    "    \n",
    "#loop over values\n",
    "for value in students.values():\n",
    "    print(value) "
   ]
  },
  {
   "cell_type": "code",
   "execution_count": 31,
   "id": "cde181ec-9f45-40f0-b0f6-613e6909c4f4",
   "metadata": {},
   "outputs": [
    {
     "name": "stdout",
     "output_type": "stream",
     "text": [
      "{'John': {'age': 20, 'courses': ['Math', 'Science'], 'grade': 'A'}, 'Jane': {'age': 22, 'courses': ['History', 'English'], 'grade': 'B'}}\n"
     ]
    }
   ],
   "source": [
    "#copying two dictonaries\n",
    "\n",
    "copy_students=students\n",
    "print(copy_students)"
   ]
  },
  {
   "cell_type": "code",
   "execution_count": null,
   "id": "13885497-5d91-4af4-ac46-91f6cb45e1b6",
   "metadata": {},
   "outputs": [],
   "source": []
  },
  {
   "cell_type": "code",
   "execution_count": null,
   "id": "26d505cc-293b-48fd-9ab5-b1374fbf214c",
   "metadata": {},
   "outputs": [],
   "source": []
  }
 ],
 "metadata": {
  "kernelspec": {
   "display_name": "Python 3 (ipykernel)",
   "language": "python",
   "name": "python3"
  },
  "language_info": {
   "codemirror_mode": {
    "name": "ipython",
    "version": 3
   },
   "file_extension": ".py",
   "mimetype": "text/x-python",
   "name": "python",
   "nbconvert_exporter": "python",
   "pygments_lexer": "ipython3",
   "version": "3.12.6"
  }
 },
 "nbformat": 4,
 "nbformat_minor": 5
}
