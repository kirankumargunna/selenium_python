{
 "cells": [
  {
   "cell_type": "markdown",
   "id": "21740473-9a92-413f-a0ef-ab868f987557",
   "metadata": {},
   "source": [
    "In Python threading, an \"event\" is a synchronization primitive used to coordinate between multiple threads. It allows one or more threads to wait until a certain condition is set or cleared by other threads."
   ]
  },
  {
   "cell_type": "code",
   "execution_count": 17,
   "id": "f1f28cbb-2ab6-49b2-99ec-7476b3d9b3a6",
   "metadata": {},
   "outputs": [
    {
     "name": "stdout",
     "output_type": "stream",
     "text": [
      "Worker 0 waiting for event...\n",
      "Worker 1 waiting for event...\n",
      "Worker 2 waiting for event...\n",
      "wait for 2 sec. Starting workers.\n",
      "Worker 0 started working!\n",
      "Worker 1 started working!\n",
      "Worker 2 started working!\n"
     ]
    }
   ],
   "source": [
    "import threading\n",
    "import time\n",
    "\n",
    "event = threading.Event()\n",
    "print_lock = threading.Lock()\n",
    "\n",
    "def worker(thread_id):\n",
    "    with print_lock:\n",
    "        print(f\"Worker {thread_id} waiting for event...\")\n",
    "    event.wait()  # Block until the event is set\n",
    "    with print_lock:\n",
    "        print(f\"Worker {thread_id} started working!\")\n",
    "\n",
    "# Create and start threads\n",
    "threads = [threading.Thread(target=worker, args=(i,)) for i in range(3)]\n",
    "for thread in threads:\n",
    "    thread.start()\n",
    "\n",
    "with print_lock:\n",
    "    print(\"wait for 2 sec. Starting workers.\")\n",
    "time.sleep(2)\n",
    "event.set()  # Set the event, unblocking all threads\n",
    "\n",
    "for thread in threads:\n",
    "    thread.join()\n"
   ]
  },
  {
   "cell_type": "code",
   "execution_count": 21,
   "id": "8538a7a4-e580-43d8-ade7-44eecedb7379",
   "metadata": {},
   "outputs": [
    {
     "name": "stdout",
     "output_type": "stream",
     "text": [
      "Worker 0 waiting for event...\n",
      "Worker 1 waiting for event...\n",
      "Worker 2 waiting for event...\n",
      "Worker 0 started working!\n",
      "Worker 1 started working!\n",
      "Worker 4 waiting for event...\n",
      "Worker 3 waiting for event...\n",
      "Worker 2 started working!\n",
      "Worker 4 started working!\n",
      "Worker 3 started working!\n"
     ]
    }
   ],
   "source": [
    "import threading\n",
    "import time\n",
    "\n",
    "semaphore = threading.Semaphore(3)\n",
    "print_lock = threading.Lock()\n",
    "\n",
    "def worker(thread_id):\n",
    "    with semaphore:\n",
    "        with print_lock:\n",
    "            print(f\"Worker {thread_id} waiting for event...\")\n",
    "        time.sleep(2)\n",
    "        with print_lock:\n",
    "            print(f\"Worker {thread_id} started working!\")\n",
    "\n",
    "# Create and start threads\n",
    "threads = [threading.Thread(target=worker, args=(i,)) for i in range(5)]\n",
    "for thread in threads:\n",
    "    thread.start()\n",
    "\n",
    "\n",
    "\n",
    "for thread in threads:\n",
    "    thread.join()\n"
   ]
  },
  {
   "cell_type": "code",
   "execution_count": null,
   "id": "d2d8fa55-2199-4c61-9f43-3b15a5f5518c",
   "metadata": {},
   "outputs": [],
   "source": []
  }
 ],
 "metadata": {
  "kernelspec": {
   "display_name": "Python 3 (ipykernel)",
   "language": "python",
   "name": "python3"
  },
  "language_info": {
   "codemirror_mode": {
    "name": "ipython",
    "version": 3
   },
   "file_extension": ".py",
   "mimetype": "text/x-python",
   "name": "python",
   "nbconvert_exporter": "python",
   "pygments_lexer": "ipython3",
   "version": "3.12.6"
  }
 },
 "nbformat": 4,
 "nbformat_minor": 5
}
