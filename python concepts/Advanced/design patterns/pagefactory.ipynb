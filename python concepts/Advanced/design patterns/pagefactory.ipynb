{
 "cells": [
  {
   "cell_type": "markdown",
   "metadata": {},
   "source": [
    "The Factory Design Pattern is used to create objects dynamically without specifying the exact class of the object being created. In Selenium, it is often used to create and return instances of page objects or WebDriver instances."
   ]
  },
  {
   "cell_type": "code",
   "execution_count": null,
   "metadata": {},
   "outputs": [],
   "source": [
    "f\n",
    "from selenium.webdriver.common.by import By\n",
    "\n",
    "# Page Object Classes\n",
    "class LoginPage:\n",
    "    def __init__(self, driver):\n",
    "        self.driver = driver\n",
    "        self.username = (By.ID, \"username\")\n",
    "        self.password = (By.ID, \"password\")\n",
    "        self.login_button = (By.ID, \"login\")\n",
    "\n",
    "    def login(self, username, password):\n",
    "        self.driver.find_element(*self.username).send_keys(username)\n",
    "        self.driver.find_element(*self.password).send_keys(password)\n",
    "        self.driver.find_element(*self.login_button).click()\n",
    "\n",
    "\n",
    "class DashboardPage:\n",
    "    def __init__(self, driver):\n",
    "        self.driver = driver\n",
    "        self.welcome_message = (By.ID, \"welcome\")\n",
    "\n",
    "    def get_welcome_message(self):\n",
    "        return self.driver.find_element(*self.welcome_message).text\n",
    "\n",
    "\n",
    "# Factory Class\n",
    "class PageFactory:\n",
    "    @staticmethod\n",
    "    def get_page(page_name, driver):\n",
    "        if page_name == \"login\":\n",
    "            return LoginPage(driver)\n",
    "        elif page_name == \"dashboard\":\n",
    "            return DashboardPage(driver)\n",
    "        else:\n",
    "            raise ValueError(f\"Unknown page: {page_name}\")\n"
   ]
  },
  {
   "cell_type": "code",
   "execution_count": null,
   "metadata": {},
   "outputs": [],
   "source": [
    "from selenium.webdriver.support.ui import Select\n",
    "\n",
    "class DropdownPage(PageFactory):\n",
    "    def __init__(self, driver):\n",
    "        super().__init__(driver)\n",
    "        self.dropdown_locator = (By.ID, \"dropdown\")\n",
    "\n",
    "    @property\n",
    "    def dropdown(self):\n",
    "        return Select(self.find(*self.dropdown_locator))\n",
    "\n",
    "    def select_by_visible_text(self, text):\n",
    "        self.dropdown.select_by_visible_text(text)\n",
    "\n",
    "    def select_by_value(self, value):\n",
    "        self.dropdown.select_by_value(value)\n",
    "\n",
    "    def select_by_index(self, index):\n",
    "        self.dropdown.select_by_index(index)\n",
    "\n",
    "    def get_selected_option(self):\n",
    "        return self.dropdown.first_selected_option.text\n"
   ]
  },
  {
   "cell_type": "code",
   "execution_count": null,
   "metadata": {},
   "outputs": [],
   "source": [
    "driver = webdriver.Chrome()\n",
    "driver.get(\"http://example.com/dropdown\")\n",
    "\n",
    "dropdown_page = DropdownPage(driver)\n",
    "dropdown_page.select_by_visible_text(\"Option 1\")\n",
    "selected_option = dropdown_page.get_selected_option()\n",
    "print(f\"Selected Option: {selected_option}\")\n",
    "\n",
    "driver.quit()\n"
   ]
  },
  {
   "cell_type": "code",
   "execution_count": null,
   "metadata": {},
   "outputs": [],
   "source": [
    "class HomePage(PageFactory):\n",
    "    def __init__(self, driver):\n",
    "        super().__init__(driver)\n",
    "        self.dashboard_link_locator = (By.LINK_TEXT, \"Dashboard\")\n",
    "\n",
    "    @property\n",
    "    def dashboard_link(self):\n",
    "        return self.find(*self.dashboard_link_locator)\n",
    "\n",
    "    def go_to_dashboard(self):\n",
    "        self.dashboard_link.click()\n",
    "\n",
    "class DashboardPage(PageFactory):\n",
    "    def __init__(self, driver):\n",
    "        super().__init__(driver)\n",
    "        self.welcome_message_locator = (By.ID, \"welcome\")\n",
    "\n",
    "    @property\n",
    "    def welcome_message(self):\n",
    "        return self.find(*self.welcome_message_locator)\n",
    "\n",
    "    def get_welcome_text(self):\n",
    "        return self.welcome_message.text\n"
   ]
  },
  {
   "cell_type": "code",
   "execution_count": null,
   "metadata": {},
   "outputs": [],
   "source": [
    "    "
   ]
  }
 ],
 "metadata": {
  "language_info": {
   "name": "python"
  }
 },
 "nbformat": 4,
 "nbformat_minor": 2
}
