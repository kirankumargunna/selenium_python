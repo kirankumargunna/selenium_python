{
 "cells": [
  {
   "cell_type": "code",
   "execution_count": 2,
   "id": "e8c6c365-39d0-4e7d-ae1d-cb5105d11437",
   "metadata": {},
   "outputs": [],
   "source": [
    "from enum import Enum\n",
    "\n",
    "class OrderStatus(Enum):\n",
    "    PENDING = 1\n",
    "    COMPLETED = 2\n",
    "    CANCELED = 3\n",
    "\n",
    "def get_order_status(status: OrderStatus):\n",
    "    if status == OrderStatus.PENDING:\n",
    "        return \"Order is pending\"\n",
    "    elif status == OrderStatus.COMPLETED:\n",
    "        return \"Order completed\"\n",
    "    else:\n",
    "        return \"Order canceled\"\n",
    "    "
   ]
  },
  {
   "cell_type": "code",
   "execution_count": 7,
   "id": "e91607a8-5730-481f-870b-a34b1011adea",
   "metadata": {},
   "outputs": [
    {
     "data": {
      "text/plain": [
       "'Order completed'"
      ]
     },
     "execution_count": 7,
     "metadata": {},
     "output_type": "execute_result"
    }
   ],
   "source": [
    "get_order_status(OrderStatus.COMPLETED)"
   ]
  },
  {
   "cell_type": "code",
   "execution_count": null,
   "id": "677a58a3-55b1-4c33-8d6c-e4224982075d",
   "metadata": {},
   "outputs": [],
   "source": []
  }
 ],
 "metadata": {
  "kernelspec": {
   "display_name": "Python 3 (ipykernel)",
   "language": "python",
   "name": "python3"
  },
  "language_info": {
   "codemirror_mode": {
    "name": "ipython",
    "version": 3
   },
   "file_extension": ".py",
   "mimetype": "text/x-python",
   "name": "python",
   "nbconvert_exporter": "python",
   "pygments_lexer": "ipython3",
   "version": "3.12.6"
  }
 },
 "nbformat": 4,
 "nbformat_minor": 5
}
