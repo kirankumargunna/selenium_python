{
 "cells": [
  {
   "cell_type": "code",
   "execution_count": 4,
   "id": "b697ecad-6337-49c4-be39-0cb1c5c78ef4",
   "metadata": {},
   "outputs": [
    {
     "name": "stdin",
     "output_type": "stream",
     "text": [
      "enter the string: kiran kumar gunna\n"
     ]
    },
    {
     "name": "stdout",
     "output_type": "stream",
     "text": [
      "{'k': 2, 'i': 1, 'r': 2, 'a': 3, 'n': 3, ' ': 2, 'u': 2, 'm': 1, 'g': 1}\n"
     ]
    }
   ],
   "source": [
    "str=input(\"enter the string:\")\n",
    "\n",
    "dict={}\n",
    "\n",
    "for i in str:\n",
    "    if i in dict:\n",
    "         dict[i] += 1\n",
    "    else:\n",
    "        dict[i] = 1\n",
    "\n",
    "print(dict)"
   ]
  },
  {
   "cell_type": "code",
   "execution_count": 29,
   "id": "2abfe666-d745-4543-bbe6-9423db3b7631",
   "metadata": {},
   "outputs": [
    {
     "name": "stdin",
     "output_type": "stream",
     "text": [
      " sdflksdjfklsd\n"
     ]
    },
    {
     "ename": "NameError",
     "evalue": "name 's' is not defined",
     "output_type": "error",
     "traceback": [
      "\u001b[1;31m---------------------------------------------------------------------------\u001b[0m",
      "\u001b[1;31mNameError\u001b[0m                                 Traceback (most recent call last)",
      "Cell \u001b[1;32mIn[29], line 5\u001b[0m\n\u001b[0;32m      3\u001b[0m \u001b[38;5;28mstr\u001b[39m\u001b[38;5;241m=\u001b[39m\u001b[38;5;28minput\u001b[39m()\n\u001b[0;32m      4\u001b[0m count\u001b[38;5;241m=\u001b[39mCounter(\u001b[38;5;28mstr\u001b[39m)\n\u001b[1;32m----> 5\u001b[0m \u001b[38;5;28mprint\u001b[39m(count[\u001b[43ms\u001b[49m])\n",
      "\u001b[1;31mNameError\u001b[0m: name 's' is not defined"
     ]
    }
   ],
   "source": [
    "from collections import Counter\n",
    "\n",
    "str=input()\n",
    "count=Counter(str)\n",
    "print(count[s])"
   ]
  },
  {
   "cell_type": "code",
   "execution_count": null,
   "id": "8332d03c-fae4-43e3-b856-57eb23ccbee1",
   "metadata": {},
   "outputs": [],
   "source": []
  }
 ],
 "metadata": {
  "kernelspec": {
   "display_name": "Python 3 (ipykernel)",
   "language": "python",
   "name": "python3"
  },
  "language_info": {
   "codemirror_mode": {
    "name": "ipython",
    "version": 3
   },
   "file_extension": ".py",
   "mimetype": "text/x-python",
   "name": "python",
   "nbconvert_exporter": "python",
   "pygments_lexer": "ipython3",
   "version": "3.12.6"
  }
 },
 "nbformat": 4,
 "nbformat_minor": 5
}
