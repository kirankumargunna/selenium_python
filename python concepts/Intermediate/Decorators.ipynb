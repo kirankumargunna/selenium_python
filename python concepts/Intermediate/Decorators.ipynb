{
 "cells": [
  {
   "cell_type": "code",
   "execution_count": 5,
   "id": "d0a03336-1ebb-493b-ba92-b4be93075bf2",
   "metadata": {},
   "outputs": [
    {
     "name": "stdout",
     "output_type": "stream",
     "text": [
      "Before calling the function\n",
      "Hello!\n",
      "After calling the function\n"
     ]
    }
   ],
   "source": [
    "# function decorator ---to modify function behaviour\n",
    "def simple_decorator(func):\n",
    "    def wrapper():\n",
    "        print(\"Before calling the function\")\n",
    "        func()\n",
    "        print(\"After calling the function\")\n",
    "    return wrapper\n",
    "\n",
    "@simple_decorator\n",
    "def say_hello():\n",
    "    print(\"Hello!\")\n",
    "\n",
    "say_hello()"
   ]
  },
  {
   "cell_type": "code",
   "execution_count": 10,
   "id": "15358c08-b676-4e51-bbce-5e85e11c9ef6",
   "metadata": {},
   "outputs": [
    {
     "name": "stdout",
     "output_type": "stream",
     "text": [
      "Calling method my_method\n",
      "Inside my_method\n"
     ]
    }
   ],
   "source": [
    "#method decorator ---- to modify instances or class methods \n",
    "\n",
    "def method_decorator(func):\n",
    "    def wrapper(self, *args, **kwargs):\n",
    "        print(f\"Calling method {func.__name__}\")\n",
    "        return func(self, *args, **kwargs)\n",
    "    return wrapper\n",
    "\n",
    "class MyClass:\n",
    "    @method_decorator\n",
    "    def my_method(self):\n",
    "        print(\"Inside my_method\")\n",
    "\n",
    "obj = MyClass()\n",
    "obj.my_method()\n"
   ]
  },
  {
   "cell_type": "code",
   "execution_count": 16,
   "id": "049d21c2-0bf0-471c-8506-33cbb435042f",
   "metadata": {},
   "outputs": [
    {
     "name": "stdout",
     "output_type": "stream",
     "text": [
      "Custom representation of MyClass\n"
     ]
    }
   ],
   "source": [
    "#class decorator ----- to modify classe \n",
    "\n",
    "\n",
    "def add_repr(cls):\n",
    "    cls.__repr__ = lambda self: f\"Custom representation of {self.__class__.__name__}\"\n",
    "    return cls\n",
    "\n",
    "@add_repr #------ adds the add_repr method to the below class \n",
    "class MyClass:\n",
    "    def __init__(self, name):\n",
    "        self.name = name\n",
    "\n",
    "obj = MyClass(\"Test\")\n",
    "print(obj)  \n",
    "\n"
   ]
  },
  {
   "cell_type": "code",
   "execution_count": 7,
   "id": "f6c38694-d0d6-4fa5-a8a4-1931b80b226d",
   "metadata": {},
   "outputs": [
    {
     "name": "stdout",
     "output_type": "stream",
     "text": [
      "['__class__', '__delattr__', '__dict__', '__dir__', '__doc__', '__eq__', '__format__', '__ge__', '__getattribute__', '__getstate__', '__gt__', '__hash__', '__init__', '__init_subclass__', '__le__', '__lt__', '__module__', '__ne__', '__new__', '__reduce__', '__reduce_ex__', '__repr__', '__setattr__', '__sizeof__', '__str__', '__subclasshook__', '__weakref__', 'class1_method1', 'method1', 'name']\n"
     ]
    }
   ],
   "source": [
    "def add_method(cls):\n",
    "    def method1(self):\n",
    "        print(\"method1\")\n",
    "    cls.method1=method1\n",
    "    return cls\n",
    "\n",
    "# now add the method1 for some class \n",
    "@add_method                 #--- this decorator will add the method 1 to the below class \n",
    "class class1:\n",
    "    def __init__(self,name):\n",
    "        self.name=name\n",
    "    def class1_method1(self):\n",
    "        print(self.name)\n",
    "obj=class1(\"cognine\")\n",
    "print(dir(obj))"
   ]
  },
  {
   "cell_type": "code",
   "execution_count": 25,
   "id": "8a329dc8-e36f-43d2-9527-121784772017",
   "metadata": {},
   "outputs": [
    {
     "name": "stdout",
     "output_type": "stream",
     "text": [
      "Mr. kiran\n"
     ]
    }
   ],
   "source": [
    "# class decorator with argument \n",
    "def add_prefix(prefix):\n",
    "    def class_decorator(cls):\n",
    "        # Modify the class by adding a new method with a prefix\n",
    "        def new_method(self):\n",
    "            return f\"{prefix} {self.name}\"\n",
    "        \n",
    "        cls.new_method = new_method\n",
    "        return cls\n",
    "    return class_decorator\n",
    "\n",
    "@add_prefix(\"Mr.\")\n",
    "class Person:\n",
    "    def __init__(self, name):\n",
    "        self.name = name\n",
    "\n",
    "# Create an instance of Person\n",
    "person = Person(\"kiran\")\n",
    "print(person.new_method()) "
   ]
  },
  {
   "cell_type": "code",
   "execution_count": 26,
   "id": "b7cb96e9-fd02-4651-8866-0c3cd14f82e0",
   "metadata": {},
   "outputs": [
    {
     "name": "stdout",
     "output_type": "stream",
     "text": [
      "Hello, Alice!\n",
      "Hello, Alice!\n",
      "Hello, Alice!\n"
     ]
    }
   ],
   "source": [
    "def repeat(times):\n",
    "    def decorator(func):\n",
    "        def wrapper(*args, **kwargs):\n",
    "            for _ in range(times):\n",
    "                func(*args, **kwargs)\n",
    "        return wrapper\n",
    "    return decorator\n",
    "\n",
    "@repeat(3)\n",
    "def greet(name):\n",
    "    print(f\"Hello, {name}!\")\n",
    "\n",
    "greet(\"Alice\")\n"
   ]
  },
  {
   "cell_type": "markdown",
   "id": "cd48c809-e801-4a6c-ba92-b2bec2fdcf5f",
   "metadata": {},
   "source": [
    "### built in decorators "
   ]
  },
  {
   "cell_type": "code",
   "execution_count": 27,
   "id": "47dcec20-88dc-4b88-8542-14857e0b04a1",
   "metadata": {},
   "outputs": [
    {
     "name": "stdout",
     "output_type": "stream",
     "text": [
      "Hello, Alice\n"
     ]
    }
   ],
   "source": [
    "# @staticmethod --- used to define a static method in a class, a static method can be called using class name no need to create instance \n",
    "\n",
    "class MyClass:\n",
    "    @staticmethod\n",
    "    def greet(name):\n",
    "        print(f\"Hello, {name}\")\n",
    "\n",
    "MyClass.greet(\"Alice\")  # No need to instantiate the class\n"
   ]
  },
  {
   "cell_type": "code",
   "execution_count": 28,
   "id": "167bf8c4-2e2f-46fc-b91e-47566e3df717",
   "metadata": {},
   "outputs": [
    {
     "name": "stdout",
     "output_type": "stream",
     "text": [
      "Called from class MyClass\n"
     ]
    }
   ],
   "source": [
    "# @classmethod -----Used to define a class method. A class method takes cls as its first argument, which refers to the class itself, not an instance of the class.\n",
    "\n",
    "class MyClass:\n",
    "    @classmethod\n",
    "    def class_method(cls):\n",
    "        print(f\"Called from class {cls.__name__}\")\n",
    "\n",
    "MyClass.class_method()\n"
   ]
  },
  {
   "cell_type": "code",
   "execution_count": 29,
   "id": "d1a663ce-ff91-44ca-b401-9022f2b4a412",
   "metadata": {},
   "outputs": [
    {
     "name": "stdout",
     "output_type": "stream",
     "text": [
      "50\n",
      "30\n"
     ]
    }
   ],
   "source": [
    "class Rectangle:\n",
    "    def __init__(self, width, height):\n",
    "        self._width = width\n",
    "        self._height = height\n",
    "\n",
    "    @property\n",
    "    def width(self):\n",
    "        return self._width\n",
    "\n",
    "    @width.setter\n",
    "    def width(self, value):\n",
    "        if value <= 0:\n",
    "            raise ValueError(\"Width must be positive\")\n",
    "        self._width = value\n",
    "\n",
    "    @property\n",
    "    def height(self):\n",
    "        return self._height\n",
    "\n",
    "    @height.setter\n",
    "    def height(self, value):\n",
    "        if value <= 0:\n",
    "            raise ValueError(\"Height must be positive\")\n",
    "        self._height = value\n",
    "\n",
    "    @property\n",
    "    def area(self):\n",
    "        return self._width * self._height\n",
    "\n",
    "    @property\n",
    "    def perimeter(self):\n",
    "        return 2 * (self._width + self._height)\n",
    "\n",
    "# Create a Rectangle instance\n",
    "rect = Rectangle(5, 10)\n",
    "\n",
    "# Accessing properties\n",
    "print(rect.area)       # Outputs: 50\n",
    "print(rect.perimeter)  # Outputs: 30\n"
   ]
  },
  {
   "cell_type": "code",
   "execution_count": null,
   "id": "f4294806-c2df-41a6-979d-8dd2ea8f37c6",
   "metadata": {},
   "outputs": [],
   "source": []
  }
 ],
 "metadata": {
  "kernelspec": {
   "display_name": "Python 3 (ipykernel)",
   "language": "python",
   "name": "python3"
  },
  "language_info": {
   "codemirror_mode": {
    "name": "ipython",
    "version": 3
   },
   "file_extension": ".py",
   "mimetype": "text/x-python",
   "name": "python",
   "nbconvert_exporter": "python",
   "pygments_lexer": "ipython3",
   "version": "3.12.6"
  }
 },
 "nbformat": 4,
 "nbformat_minor": 5
}
