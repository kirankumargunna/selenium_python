{
 "cells": [
  {
   "cell_type": "code",
   "execution_count": 1,
   "id": "e4d8d319-b4cb-4c46-a4db-ab68fa5a73a7",
   "metadata": {},
   "outputs": [],
   "source": [
    "import re "
   ]
  },
  {
   "cell_type": "code",
   "execution_count": 41,
   "id": "5e98a5a3-551e-4630-9797-56d0e5ac6680",
   "metadata": {},
   "outputs": [],
   "source": [
    "text=\"The price of PINEAPPLE ICE cream is 20\""
   ]
  },
  {
   "cell_type": "code",
   "execution_count": 29,
   "id": "852beaa9-827f-413e-a75f-91eb19f49efc",
   "metadata": {},
   "outputs": [],
   "source": [
    "result = re.search(r\".+(\\b[A-Z]+\\b).+(\\b\\d+)\", text)\n"
   ]
  },
  {
   "cell_type": "code",
   "execution_count": 30,
   "id": "897a98f6-0613-43a8-a9c5-4131dba2f30f",
   "metadata": {},
   "outputs": [
    {
     "name": "stdout",
     "output_type": "stream",
     "text": [
      "ICE\n"
     ]
    }
   ],
   "source": [
    "print(result.group(1))"
   ]
  },
  {
   "cell_type": "code",
   "execution_count": 31,
   "id": "bcff5e56-cf56-4680-85ee-20541e976272",
   "metadata": {},
   "outputs": [
    {
     "name": "stdout",
     "output_type": "stream",
     "text": [
      "20\n"
     ]
    }
   ],
   "source": [
    "print(result.group(2))"
   ]
  },
  {
   "cell_type": "code",
   "execution_count": 38,
   "id": "26ab33f5-1c14-40f1-89d1-d123aad2c17f",
   "metadata": {},
   "outputs": [],
   "source": [
    "pattern = re.compile(r\"(\\b[A-Z]+\\b).(\\b\\d+\\b)\")\n"
   ]
  },
  {
   "cell_type": "code",
   "execution_count": 43,
   "id": "f2ec8a4f-1c7f-4d4e-a562-71d6e304f097",
   "metadata": {},
   "outputs": [],
   "source": [
    "for match in pattern.finditer(text):\n",
    "    print(match.group(1))\n",
    "    print(match.group(2))"
   ]
  },
  {
   "cell_type": "code",
   "execution_count": 42,
   "id": "387e9e83-f0bc-41db-8c61-a91704572128",
   "metadata": {},
   "outputs": [
    {
     "name": "stdout",
     "output_type": "stream",
     "text": [
      "PINEAPPLE\n",
      "20\n",
      "MANGO\n",
      "30\n",
      "CHOCOLATE\n",
      "40\n"
     ]
    }
   ],
   "source": [
    "target_string = \"The price of ice-creams PINEAPPLE 20 MANGO 30 CHOCOLATE 40\"\n",
    "\n",
    "pattern = re.compile(r\"(\\b[A-Z]+\\b).(\\b\\d+\\b)\")\n",
    "\n",
    "# find all matches to groups\n",
    "for match in pattern.finditer(target_string):\n",
    "    print(match.group(1))\n",
    "    print(match.group(2))"
   ]
  },
  {
   "cell_type": "code",
   "execution_count": 45,
   "id": "1dac8f9f-49db-4d04-b5ff-d6cd7c8f1044",
   "metadata": {},
   "outputs": [
    {
     "name": "stdout",
     "output_type": "stream",
     "text": [
      "[('apple', '123'), ('orange', '456'), ('banana', '789')]\n"
     ]
    }
   ],
   "source": [
    "import re\n",
    "\n",
    "text = \"apple 123, orange 456, banana 789\"\n",
    "\n",
    "pattern = r\"(\\w+)\\s(\\d+)\"\n",
    "\n",
    "# Find all matches\n",
    "matches = re.findall(pattern, text)\n",
    "\n",
    "print(matches)\n"
   ]
  },
  {
   "cell_type": "code",
   "execution_count": 50,
   "id": "0d2f711f-1d06-4018-9ce9-75b299330a6c",
   "metadata": {},
   "outputs": [
    {
     "name": "stdout",
     "output_type": "stream",
     "text": [
      "apple\n",
      "123\n",
      "apple 123\n",
      "orange\n",
      "456\n",
      "orange 456\n",
      "banana\n",
      "789\n",
      "banana 789\n"
     ]
    }
   ],
   "source": [
    "pattern=re.compile(pattern)\n",
    "for i in pattern.finditer(text):\n",
    "    print(i.group(1))\n",
    "    print(i.group(2))\n",
    "    print(i.group())"
   ]
  },
  {
   "cell_type": "code",
   "execution_count": 52,
   "id": "e2d2bc12-1a79-43b8-b94d-95c0c0ea60d5",
   "metadata": {},
   "outputs": [
    {
     "name": "stdout",
     "output_type": "stream",
     "text": [
      "Cannot access private attribute: _Parent__private\n"
     ]
    }
   ],
   "source": [
    "class Parent:\n",
    "    def __init__(self):\n",
    "        self.__private = \"This is private\"\n",
    "    \n",
    "    def __getattribute__(self, name):\n",
    "        if name == \"_Parent__private\":  # Intercept access to the mangled private variable\n",
    "            raise AttributeError(f\"Cannot access private attribute: {name}\")\n",
    "        return super().__getattr__(name)  # Call the next class' __getattr__ method (if any)\n",
    "\n",
    "class Child(Parent):\n",
    "    def __init__(self):\n",
    "        super().__init__()\n",
    "        # Try accessing the private attribute from the parent class\n",
    "        try:\n",
    "            print(self._Parent__private)  # This would normally work, but we restrict it with __getattr__\n",
    "        except AttributeError as e:\n",
    "            print(e)  # Output: Cannot access private attribute: _Parent__private\n",
    "\n",
    "child = Child()\n"
   ]
  },
  {
   "cell_type": "code",
   "execution_count": null,
   "id": "7071fd52-02ef-4472-99f4-5904768c03b7",
   "metadata": {},
   "outputs": [],
   "source": []
  }
 ],
 "metadata": {
  "kernelspec": {
   "display_name": "Python 3 (ipykernel)",
   "language": "python",
   "name": "python3"
  },
  "language_info": {
   "codemirror_mode": {
    "name": "ipython",
    "version": 3
   },
   "file_extension": ".py",
   "mimetype": "text/x-python",
   "name": "python",
   "nbconvert_exporter": "python",
   "pygments_lexer": "ipython3",
   "version": "3.12.6"
  }
 },
 "nbformat": 4,
 "nbformat_minor": 5
}
