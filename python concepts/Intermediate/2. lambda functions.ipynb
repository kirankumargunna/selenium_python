{
 "cells": [
  {
   "cell_type": "code",
   "execution_count": 1,
   "id": "67f5c685-0682-487f-a37e-1b06785a0d51",
   "metadata": {},
   "outputs": [
    {
     "name": "stdout",
     "output_type": "stream",
     "text": [
      "9\n"
     ]
    }
   ],
   "source": [
    "# Basic lambda functions\n",
    "#syntax\n",
    "# lambda arguments:expression \n",
    "add=lambda x,y:x+y\n",
    "print(add(4,5))"
   ]
  },
  {
   "cell_type": "code",
   "execution_count": 9,
   "id": "ea07c828-ab8a-4618-9d7e-d2b25451aaf3",
   "metadata": {},
   "outputs": [
    {
     "name": "stdout",
     "output_type": "stream",
     "text": [
      " kasdjflksdf\n"
     ]
    },
    {
     "name": "stdout",
     "output_type": "stream",
     "text": [
      "hello kasdjflksdf!\n"
     ]
    }
   ],
   "source": [
    "#lambda function with no arguments \n",
    "name=input()\n",
    "wish=lambda:f\"hello {name}!\"\n",
    "print(wish())"
   ]
  },
  {
   "cell_type": "code",
   "execution_count": 12,
   "id": "9d48c049-2e92-46ef-83f9-5af90b8e0f22",
   "metadata": {},
   "outputs": [
    {
     "name": "stdout",
     "output_type": "stream",
     "text": [
      " 45\n"
     ]
    },
    {
     "name": "stdout",
     "output_type": "stream",
     "text": [
      "2025\n"
     ]
    }
   ],
   "source": [
    "#lambda function with one argument\n",
    "number=int(input())\n",
    "square=lambda x:x*x\n",
    "print(square(number))"
   ]
  },
  {
   "cell_type": "code",
   "execution_count": 13,
   "id": "7869ac21-b60c-4661-a71a-3a522d34c5ef",
   "metadata": {},
   "outputs": [
    {
     "name": "stdout",
     "output_type": "stream",
     "text": [
      "20\n"
     ]
    }
   ],
   "source": [
    "#lambda function with multiple arguments \n",
    "max_value = lambda a, b: a if a > b else b\n",
    "print(max_value(10, 20)) "
   ]
  },
  {
   "cell_type": "markdown",
   "id": "157039c4-4a01-4fea-9d2e-75cda3fbd037",
   "metadata": {},
   "source": [
    "###  map function"
   ]
  },
  {
   "cell_type": "code",
   "execution_count": 14,
   "id": "34e84818-2462-40c4-a97c-add93dd36895",
   "metadata": {},
   "outputs": [
    {
     "name": "stdout",
     "output_type": "stream",
     "text": [
      "[1, 4, 9, 16, 25]\n"
     ]
    }
   ],
   "source": [
    "numbers = [1, 2, 3, 4, 5]\n",
    "squares = list(map(lambda x: x ** 2, numbers))\n",
    "print(squares) "
   ]
  },
  {
   "cell_type": "code",
   "execution_count": 30,
   "id": "0e9dd19f-1eaf-4ee0-9503-4a8d553c8aae",
   "metadata": {},
   "outputs": [
    {
     "name": "stdout",
     "output_type": "stream",
     "text": [
      "[2, 4, 6, 8]\n"
     ]
    }
   ],
   "source": [
    "#lambda function with filter \n",
    "number=[1,2,3,4,5,6,7,8,9,10]\n",
    "even=list(filter(lambda x:x%2==0, numbers))\n",
    "print(even)"
   ]
  },
  {
   "cell_type": "code",
   "execution_count": 8,
   "id": "725a4107-6096-47a7-a456-154da0b98b58",
   "metadata": {},
   "outputs": [
    {
     "name": "stdout",
     "output_type": "stream",
     "text": [
      "3628800 \n",
      " 55\n"
     ]
    }
   ],
   "source": [
    "# lambda function with reduce funtion \n",
    "# reduce() applies a rolling computation to sequential elements of a list\n",
    "\n",
    "from functools import reduce\n",
    "\n",
    "number=[1,2,3,4,5,6,7,8,9,10]\n",
    "seq_product=reduce(lambda x,y:x*y, number)\n",
    "seq_sum=reduce(lambda x,y:x+y, number)\n",
    "print(seq_product,'\\n',seq_sum)"
   ]
  },
  {
   "cell_type": "code",
   "execution_count": 9,
   "id": "b2587089-c34b-4fe9-bb4f-09c6f63c9ab9",
   "metadata": {},
   "outputs": [
    {
     "name": "stdout",
     "output_type": "stream",
     "text": [
      "[(2, 'two'), (3, 'three'), (1, 'one'), (4, 'four')]\n"
     ]
    }
   ],
   "source": [
    "# lambda function in sorting \n",
    "pairs = [(1, 'one'), (2, 'two'), (3, 'three'), (4, 'four')]\n",
    "# sort the above list based on the second element in the tuple\n",
    "\n",
    "sorted_pairs = sorted(pairs, key=lambda x: x[1], reverse=True)\n",
    "\n",
    "print(sorted_pairs)"
   ]
  },
  {
   "cell_type": "code",
   "execution_count": 10,
   "id": "6367c948-41c2-4c09-8710-bdbf64a9fc53",
   "metadata": {},
   "outputs": [
    {
     "name": "stdout",
     "output_type": "stream",
     "text": [
      "Help on built-in function sorted in module builtins:\n",
      "\n",
      "sorted(iterable, /, *, key=None, reverse=False)\n",
      "    Return a new list containing all items from the iterable in ascending order.\n",
      "\n",
      "    A custom key function can be supplied to customize the sort order, and the\n",
      "    reverse flag can be set to request the result in descending order.\n",
      "\n"
     ]
    }
   ],
   "source": [
    "help(sorted)"
   ]
  },
  {
   "cell_type": "code",
   "execution_count": 11,
   "id": "a1cc5979-c7ee-4c10-a3ad-4f274e31641c",
   "metadata": {},
   "outputs": [
    {
     "name": "stdout",
     "output_type": "stream",
     "text": [
      "[[1, 'banana'], [2, 'orange'], [3, 'apple']]\n"
     ]
    }
   ],
   "source": [
    "\n",
    "def sort_key(item):\n",
    "    return item[0]  # Sort by the first element of the inner list\n",
    "\n",
    "nested_list = [[3, 'apple'], [1, 'banana'], [2, 'orange']]\n",
    "\n",
    "# Using the sort() method with the custom sort key\n",
    "nested_list.sort(key=sort_key)\n",
    "\n",
    "print(nested_list)\n"
   ]
  },
  {
   "cell_type": "code",
   "execution_count": 12,
   "id": "a0a10f4a-65fc-4c42-8ba3-49273491f967",
   "metadata": {},
   "outputs": [
    {
     "name": "stdout",
     "output_type": "stream",
     "text": [
      "2\n"
     ]
    }
   ],
   "source": [
    "# lambda function in min and max\n",
    "# pick the number which is largest remider if divided by 3 \n",
    "numbers = [1, 2, 3, 4, 5]\n",
    "max_value = max(numbers, key=lambda x: x % 3)\n",
    "print(max_value) "
   ]
  },
  {
   "cell_type": "code",
   "execution_count": 13,
   "id": "e90837be-43ce-40a6-b3b1-6de4b82e471f",
   "metadata": {},
   "outputs": [],
   "source": [
    "###  Convert the following list of Celsius temperatures to Fahrenheit and sort them:"
   ]
  },
  {
   "cell_type": "code",
   "execution_count": 14,
   "id": "0deaa45e-12be-4b00-910a-1005d9722d44",
   "metadata": {},
   "outputs": [
    {
     "name": "stdout",
     "output_type": "stream",
     "text": [
      "[32.0, 50.0, 68.0, 86.0, 104.0]\n",
      "[104.0, 86.0, 68.0, 50.0, 32.0]\n"
     ]
    }
   ],
   "source": [
    "celsius = [0, 10, 20, 30, 40]\n",
    "fahrenheit = list(map(lambda x: (x * 9/5) + 32, celsius))\n",
    "print(fahrenheit) \n",
    "\n",
    "sorted_list=sorted(fahrenheit, reverse=True)\n",
    "print(sorted_list )"
   ]
  },
  {
   "cell_type": "code",
   "execution_count": 15,
   "id": "5647d9bd-25c3-47d7-8314-d9abfb73f933",
   "metadata": {},
   "outputs": [],
   "source": [
    "### Given a list of words, return a list of their lengths:"
   ]
  },
  {
   "cell_type": "code",
   "execution_count": 16,
   "id": "e9c77839-313c-4532-8dfa-e6da912c08c5",
   "metadata": {},
   "outputs": [
    {
     "name": "stdout",
     "output_type": "stream",
     "text": [
      "None\n"
     ]
    }
   ],
   "source": [
    "words = ['apple', 'banana', 'cherry', 'date']\n",
    "lengthofwords=list(map(lambda x : (x,str(len(x))), words))\n",
    "print(lengthofwords.sort(key=lambda x : (x[1],x[0])))"
   ]
  },
  {
   "cell_type": "code",
   "execution_count": 17,
   "id": "40d0db29-e24b-4896-ae06-32b3ed633c40",
   "metadata": {},
   "outputs": [
    {
     "data": {
      "text/plain": [
       "[('date', '4'), ('apple', '5'), ('banana', '6'), ('cherry', '6')]"
      ]
     },
     "execution_count": 17,
     "metadata": {},
     "output_type": "execute_result"
    }
   ],
   "source": [
    "lengthofwords"
   ]
  },
  {
   "cell_type": "code",
   "execution_count": 18,
   "id": "99060168-b1e0-4514-8398-d2f3bc952633",
   "metadata": {},
   "outputs": [],
   "source": [
    "###  add corresponding elements from the two lists:"
   ]
  },
  {
   "cell_type": "code",
   "execution_count": 19,
   "id": "fa0308ba-b1b6-41cc-9113-816acbbbd877",
   "metadata": {},
   "outputs": [
    {
     "name": "stdout",
     "output_type": "stream",
     "text": [
      "[5, 7, 9]\n"
     ]
    }
   ],
   "source": [
    "list1 = [1, 2, 3]\n",
    "list2 = [4, 5, 6]\n",
    "sum_list = list(map(lambda x, y: x + y, list1, list2))\n",
    "print(sum_list)"
   ]
  },
  {
   "cell_type": "code",
   "execution_count": 20,
   "id": "2f5ef312-734f-483d-b438-eb7ed1b24a3c",
   "metadata": {},
   "outputs": [
    {
     "name": "stdout",
     "output_type": "stream",
     "text": [
      "[1, 3, 5, 7]\n"
     ]
    }
   ],
   "source": [
    "# filter odd numbers from a list \n",
    "numbers = [1, 2, 3, 4, 5, 6, 7, 8]\n",
    "odds= list(filter(lambda x:x%2> 0,numbers))\n",
    "print(odds)"
   ]
  },
  {
   "cell_type": "code",
   "execution_count": null,
   "id": "6fb54c35-e59e-4cb6-97af-0b99bcee9b0e",
   "metadata": {},
   "outputs": [],
   "source": []
  }
 ],
 "metadata": {
  "kernelspec": {
   "display_name": "Python 3",
   "language": "python",
   "name": "python3"
  },
  "language_info": {
   "codemirror_mode": {
    "name": "ipython",
    "version": 3
   },
   "file_extension": ".py",
   "mimetype": "text/x-python",
   "name": "python",
   "nbconvert_exporter": "python",
   "pygments_lexer": "ipython3",
   "version": "3.13.0"
  }
 },
 "nbformat": 4,
 "nbformat_minor": 5
}
