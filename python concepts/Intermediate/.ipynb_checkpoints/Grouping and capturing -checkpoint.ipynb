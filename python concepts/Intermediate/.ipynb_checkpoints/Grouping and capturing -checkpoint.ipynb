{
 "cells": [
  {
   "cell_type": "code",
   "execution_count": 1,
   "id": "e4d8d319-b4cb-4c46-a4db-ab68fa5a73a7",
   "metadata": {},
   "outputs": [],
   "source": [
    "import re "
   ]
  },
  {
   "cell_type": "code",
   "execution_count": 41,
   "id": "5e98a5a3-551e-4630-9797-56d0e5ac6680",
   "metadata": {},
   "outputs": [],
   "source": [
    "text=\"The price of PINEAPPLE ICE cream is 20\""
   ]
  },
  {
   "cell_type": "code",
   "execution_count": 29,
   "id": "852beaa9-827f-413e-a75f-91eb19f49efc",
   "metadata": {},
   "outputs": [],
   "source": [
    "result = re.search(r\".+(\\b[A-Z]+\\b).+(\\b\\d+)\", text)\n"
   ]
  },
  {
   "cell_type": "code",
   "execution_count": 30,
   "id": "897a98f6-0613-43a8-a9c5-4131dba2f30f",
   "metadata": {},
   "outputs": [
    {
     "name": "stdout",
     "output_type": "stream",
     "text": [
      "ICE\n"
     ]
    }
   ],
   "source": [
    "print(result.group(1))"
   ]
  },
  {
   "cell_type": "code",
   "execution_count": 31,
   "id": "bcff5e56-cf56-4680-85ee-20541e976272",
   "metadata": {},
   "outputs": [
    {
     "name": "stdout",
     "output_type": "stream",
     "text": [
      "20\n"
     ]
    }
   ],
   "source": [
    "print(result.group(2))"
   ]
  },
  {
   "cell_type": "code",
   "execution_count": 38,
   "id": "26ab33f5-1c14-40f1-89d1-d123aad2c17f",
   "metadata": {},
   "outputs": [],
   "source": [
    "pattern = re.compile(r\"(\\b[A-Z]+\\b).(\\b\\d+\\b)\")\n"
   ]
  },
  {
   "cell_type": "code",
   "execution_count": 40,
   "id": "f2ec8a4f-1c7f-4d4e-a562-71d6e304f097",
   "metadata": {},
   "outputs": [
    {
     "name": "stdout",
     "output_type": "stream",
     "text": [
      "PINEAPPLE\n",
      "20\n",
      "MANGO\n",
      "30\n",
      "CHOCOLATE\n",
      "40\n"
     ]
    }
   ],
   "source": [
    "for match in pattern.finditer(target_string):\n",
    "    print(match.group(1))\n",
    "    print(match.group(2))"
   ]
  },
  {
   "cell_type": "code",
   "execution_count": 36,
   "id": "387e9e83-f0bc-41db-8c61-a91704572128",
   "metadata": {},
   "outputs": [
    {
     "name": "stdout",
     "output_type": "stream",
     "text": [
      "PINEAPPLE\n",
      "20\n",
      "MANGO\n",
      "30\n",
      "CHOCOLATE\n",
      "40\n"
     ]
    }
   ],
   "source": [
    "target_string = \"The price of ice-creams PINEAPPLE 20 MANGO 30 CHOCOLATE 40\"\n",
    "\n",
    "pattern = re.compile(r\"(\\b[A-Z]+\\b).(\\b\\d+\\b)\")\n",
    "\n",
    "# find all matches to groups\n",
    "for match in pattern.finditer(target_string):\n",
    "    print(match.group(1))\n",
    "    print(match.group(2))"
   ]
  },
  {
   "cell_type": "code",
   "execution_count": null,
   "id": "1dac8f9f-49db-4d04-b5ff-d6cd7c8f1044",
   "metadata": {},
   "outputs": [],
   "source": []
  }
 ],
 "metadata": {
  "kernelspec": {
   "display_name": "Python 3 (ipykernel)",
   "language": "python",
   "name": "python3"
  },
  "language_info": {
   "codemirror_mode": {
    "name": "ipython",
    "version": 3
   },
   "file_extension": ".py",
   "mimetype": "text/x-python",
   "name": "python",
   "nbconvert_exporter": "python",
   "pygments_lexer": "ipython3",
   "version": "3.12.6"
  }
 },
 "nbformat": 4,
 "nbformat_minor": 5
}
