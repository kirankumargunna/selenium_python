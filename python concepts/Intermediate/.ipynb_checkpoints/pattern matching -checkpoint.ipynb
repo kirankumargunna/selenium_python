{
 "cells": [
  {
   "cell_type": "code",
   "execution_count": 1,
   "id": "3662bcd4-09ec-4a35-bea4-7e2c1e522981",
   "metadata": {},
   "outputs": [
    {
     "name": "stdout",
     "output_type": "stream",
     "text": [
      "Words ending with 'ain': ['rain', 'Spain', 'plain']\n"
     ]
    }
   ],
   "source": [
    "import re\n",
    "\n",
    "# Sample text\n",
    "text = \"The rain in Spain falls mainly in the plain.\"\n",
    "\n",
    "# Match all words ending with 'ain'\n",
    "pattern = r'\\b\\w*ain\\b' # regular expression \n",
    "\n",
    "matches = re.findall(pattern, text)  # finnd all the patterns in the given text \n",
    "print(\"Words ending with 'ain':\", matches)\n"
   ]
  },
  {
   "cell_type": "code",
   "execution_count": 2,
   "id": "0bb9caf7-b4c9-430c-ad4b-7f32d33b06df",
   "metadata": {},
   "outputs": [
    {
     "name": "stdout",
     "output_type": "stream",
     "text": [
      "Found email addresses: ['support@cognine.com', 'sales@cognine.com', 'info@cognine.com']\n"
     ]
    }
   ],
   "source": [
    "# finding email address\n",
    "import re\n",
    "\n",
    "# Sample text that contain email address with email addresses\n",
    "text = \"\"\"\n",
    "Contact us at support@cognine.com or sales@cognine.com.\n",
    "For inquiries, reach out to info@cognine.com\n",
    "\"\"\"\n",
    "# Regex to match email addresses\n",
    "email_pattern = r'[a-zA-Z0-9._%+-]+@[a-zA-Z0-9.-]+\\.[a-zA-Z]{2,}'\n",
    "\n",
    "emails = re.findall(email_pattern, text)\n",
    "print(\"Found email addresses:\", emails)\n"
   ]
  },
  {
   "cell_type": "code",
   "execution_count": 4,
   "id": "b24a68fe-1709-4f90-8a11-0b4fde0878b9",
   "metadata": {},
   "outputs": [
    {
     "name": "stdout",
     "output_type": "stream",
     "text": [
      "'World' found in text!\n",
      "Index of 'World': 7\n",
      "Updated text: Hello, Python!\n"
     ]
    }
   ],
   "source": [
    "text = \"Hello, World!\"\n",
    "\n",
    "# Check if a substring exists\n",
    "substring = \"World\"\n",
    "if substring in text:\n",
    "    print(f\"'{substring}' found in text!\")\n",
    "\n",
    "# Find the index of a substring\n",
    "index = text.find(substring)\n",
    "print(f\"Index of '{substring}':\", index)\n",
    "\n",
    "# Replace a substring\n",
    "new_text = text.replace(\"World\", \"Python\")\n",
    "print(\"Updated text:\", new_text)\n"
   ]
  },
  {
   "cell_type": "code",
   "execution_count": 5,
   "id": "dc5ceb4f-15e0-4ac7-8e81-a93aede09114",
   "metadata": {},
   "outputs": [
    {
     "name": "stdout",
     "output_type": "stream",
     "text": [
      "+1-800-555-0199: Valid\n",
      "(123) 456-7890: Invalid\n",
      "1234567890: Valid\n",
      "invalid_number: Invalid\n"
     ]
    }
   ],
   "source": [
    "# validate a phone number\n",
    "import re\n",
    "\n",
    "# Function to validate phone number\n",
    "def validate_phone_number(phone):\n",
    "    pattern = r'^\\+?\\d{1,3}?[-.\\s]?\\(?\\d{1,4}?\\)?[-.\\s]?\\d{1,4}[-.\\s]?\\d{1,9}$'\n",
    "    return re.match(pattern, phone) is not None\n",
    "\n",
    "# Test the function\n",
    "test_numbers = [\"+1-800-555-0199\", \"(123) 456-7890\", \"1234567890\", \"invalid_number\"]\n",
    "for number in test_numbers:\n",
    "    print(f\"{number}: {'Valid' if validate_phone_number(number) else 'Invalid'}\")\n"
   ]
  },
  {
   "cell_type": "code",
   "execution_count": null,
   "id": "25855f8a-669f-4f67-9a93-3b64cfbebf61",
   "metadata": {},
   "outputs": [],
   "source": []
  }
 ],
 "metadata": {
  "kernelspec": {
   "display_name": "Python 3 (ipykernel)",
   "language": "python",
   "name": "python3"
  },
  "language_info": {
   "codemirror_mode": {
    "name": "ipython",
    "version": 3
   },
   "file_extension": ".py",
   "mimetype": "text/x-python",
   "name": "python",
   "nbconvert_exporter": "python",
   "pygments_lexer": "ipython3",
   "version": "3.13.0"
  }
 },
 "nbformat": 4,
 "nbformat_minor": 5
}
