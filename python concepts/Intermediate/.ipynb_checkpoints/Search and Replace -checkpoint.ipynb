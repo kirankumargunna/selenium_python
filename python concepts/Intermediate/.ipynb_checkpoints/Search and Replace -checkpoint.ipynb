{
 "cells": [
  {
   "cell_type": "markdown",
   "id": "539cc322-91e0-44a5-804d-ce0dbfedd962",
   "metadata": {},
   "source": [
    "### replace function\n",
    "`replace()` method returns a new string with all occurrences of a specified substring replaced with another substring"
   ]
  },
  {
   "cell_type": "code",
   "execution_count": 1,
   "id": "8467b6a5-ab8d-4de3-b2fe-73f790f4bdb3",
   "metadata": {},
   "outputs": [
    {
     "name": "stdout",
     "output_type": "stream",
     "text": [
      "Hi, world! Hi again!\n"
     ]
    }
   ],
   "source": [
    "text = \"Hello, world! Hello again!\"\n",
    "new_text = text.replace(\"Hello\", \"Hi\")\n",
    "print(new_text) "
   ]
  },
  {
   "cell_type": "markdown",
   "id": "6e4ac085-cc0e-40f2-a570-6e9326b89ca6",
   "metadata": {},
   "source": [
    "\n",
    "`re.sub()` to replace occurrences of a pattern."
   ]
  },
  {
   "cell_type": "code",
   "execution_count": 2,
   "id": "6b48e1c7-016f-4b1a-98c5-bb8a4d569d18",
   "metadata": {},
   "outputs": [
    {
     "name": "stdout",
     "output_type": "stream",
     "text": [
      "Hi, world! Hi again!\n"
     ]
    }
   ],
   "source": [
    "import re\n",
    "\n",
    "text = \"Hello, world! Hello again!\"\n",
    "new_text = re.sub(r\"Hello\", \"Hi\", text)\n",
    "print(new_text) \n"
   ]
  },
  {
   "cell_type": "markdown",
   "id": "340aa6b5-733a-4e22-b04b-3779d8b2be3d",
   "metadata": {},
   "source": [
    "For replacing multiple characters at once, you can use `str.translate()` in conjunction with `str.maketrans()`."
   ]
  },
  {
   "cell_type": "code",
   "execution_count": 3,
   "id": "18649fc2-3558-4611-8011-a179c109e80a",
   "metadata": {},
   "outputs": [
    {
     "name": "stdout",
     "output_type": "stream",
     "text": [
      "Hebbc, wcrbd!\n"
     ]
    }
   ],
   "source": [
    "text = \"Hello, world!\"\n",
    "trans = str.maketrans(\"hlo\", \"abc\")  # Replace 'H' with 'J', 'e' with 'y', etc.\n",
    "new_text = text.translate(trans)\n",
    "print(new_text)  \n"
   ]
  },
  {
   "cell_type": "code",
   "execution_count": 6,
   "id": "d8394f26-cb32-4057-84cc-4851dffdb2a9",
   "metadata": {},
   "outputs": [
    {
     "name": "stdout",
     "output_type": "stream",
     "text": [
      "Hi world!\n"
     ]
    }
   ],
   "source": [
    "#using list Comprehensions \n",
    "text = \"Hello, world!\"\n",
    "new_text = ''.join(['Hi' if word == 'Hello' else word for word in text.split(\",\")])\n",
    "print(new_text)  "
   ]
  },
  {
   "cell_type": "code",
   "execution_count": 7,
   "id": "683b1f81-21db-457c-b718-507590f04254",
   "metadata": {},
   "outputs": [
    {
     "name": "stdout",
     "output_type": "stream",
     "text": [
      "Java is great. Java is versatile.\n"
     ]
    }
   ],
   "source": [
    "original_text = \"Python is great. Python is versatile.\"\n",
    "replaced_text = original_text.replace(\"Python\", \"Java\")\n",
    "print(replaced_text)"
   ]
  },
  {
   "cell_type": "code",
   "execution_count": 9,
   "id": "a6dca1d4-96c6-448a-944f-3b5e3e7f802c",
   "metadata": {},
   "outputs": [
    {
     "name": "stdout",
     "output_type": "stream",
     "text": [
      "Java is fun. Java is powerful.\n"
     ]
    }
   ],
   "source": [
    "# Case-insensitive replacement\n",
    "text = \"Python is fun. python is powerful.\"\n",
    "new_text = re.sub(\"python\", \"Java\", text, flags=re.IGNORECASE)\n",
    "print(new_text)"
   ]
  },
  {
   "cell_type": "code",
   "execution_count": 12,
   "id": "6f80f7e8-b36f-43d3-ac5a-b49fe1d7b97c",
   "metadata": {},
   "outputs": [
    {
     "name": "stdout",
     "output_type": "stream",
     "text": [
      "The sky is Colourful. The grass is Colourful.\n"
     ]
    }
   ],
   "source": [
    "#replace multiple patterns\n",
    "text=\"The sky is blue. The grass is green.\"\n",
    "New_Text=re.sub(r\"Blue|Green\",\"Colourful\",text,flags=re.IGNORECASE)\n",
    "print(New_Text)"
   ]
  },
  {
   "cell_type": "code",
   "execution_count": 13,
   "id": "7602ecbe-f322-4455-8ac1-ef8eef00bac3",
   "metadata": {},
   "outputs": [
    {
     "name": "stdout",
     "output_type": "stream",
     "text": [
      "Hello How are you \n"
     ]
    }
   ],
   "source": [
    "# Replace non-alphanumeric characters with spaces\n",
    "text = \"Hello! How are you?\"\n",
    "cleaned_text = re.sub(r'\\W+', ' ', text)\n",
    "print(cleaned_text)"
   ]
  },
  {
   "cell_type": "code",
   "execution_count": 15,
   "id": "28d40640-60f0-4117-b527-e36180fbd551",
   "metadata": {},
   "outputs": [
    {
     "name": "stdout",
     "output_type": "stream",
     "text": [
      "This_is_a_test_string.\n"
     ]
    }
   ],
   "source": [
    "#replace spaces with underscore\n",
    "text = \"This is a test string.\"\n",
    "New_Text=text.replace(\" \",\"_\")\n",
    "print(New_Text)"
   ]
  },
  {
   "cell_type": "code",
   "execution_count": 16,
   "id": "3f0be6a9-5699-4388-b44f-a4622a97fd63",
   "metadata": {},
   "outputs": [
    {
     "name": "stdin",
     "output_type": "stream",
     "text": [
      "Enter the word to replace:  replace\n",
      "Enter the replacement word:  replaced\n"
     ]
    },
    {
     "name": "stdout",
     "output_type": "stream",
     "text": [
      "Please replaced the word in this text.\n"
     ]
    }
   ],
   "source": [
    "# Interactive search and replace\n",
    "text = \"Please replace the word in this text.\"\n",
    "word_to_replace = input(\"Enter the word to replace: \")\n",
    "replacement_word = input(\"Enter the replacement word: \")\n",
    "new_text = text.replace(word_to_replace, replacement_word)\n",
    "print(new_text)"
   ]
  },
  {
   "cell_type": "code",
   "execution_count": null,
   "id": "9fff86ec-4417-44b7-a8b0-8c8ad10dad08",
   "metadata": {},
   "outputs": [],
   "source": []
  }
 ],
 "metadata": {
  "kernelspec": {
   "display_name": "Python 3 (ipykernel)",
   "language": "python",
   "name": "python3"
  },
  "language_info": {
   "codemirror_mode": {
    "name": "ipython",
    "version": 3
   },
   "file_extension": ".py",
   "mimetype": "text/x-python",
   "name": "python",
   "nbconvert_exporter": "python",
   "pygments_lexer": "ipython3",
   "version": "3.13.0"
  }
 },
 "nbformat": 4,
 "nbformat_minor": 5
}
