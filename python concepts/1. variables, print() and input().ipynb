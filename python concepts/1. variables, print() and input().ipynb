{
 "cells": [
  {
   "cell_type": "markdown",
   "id": "c579b7a2-f412-4ab1-9d3c-fb87b5968b81",
   "metadata": {},
   "source": [
    "## variables "
   ]
  },
  {
   "cell_type": "code",
   "execution_count": 10,
   "id": "06e30f7c-d41a-4cc8-9755-f12d3b32447e",
   "metadata": {},
   "outputs": [],
   "source": [
    "# Assigning values to variables\n",
    "name = \"Kiran\"     # String\n",
    "age = 30           # Integer\n",
    "height = 5.9       # Float\n",
    "is_student = False # Boolean\n",
    "skills = [\"Python\", \"SQL\", \"Azure\"]  # List\n",
    "profile = {\"name\": \"Kiran\", \"age\": 30, \"height\": 5.9}  # Dictionary\n",
    "unique_ids = {101, 102, 103}  # Set\n"
   ]
  },
  {
   "cell_type": "markdown",
   "id": "8e43d328-2e13-4a79-8bb8-8b09fe18a2e2",
   "metadata": {},
   "source": [
    "### printing variables"
   ]
  },
  {
   "cell_type": "code",
   "execution_count": 15,
   "id": "d5cf96b3-1383-4769-98f5-d4ce36a418f0",
   "metadata": {},
   "outputs": [
    {
     "name": "stdout",
     "output_type": "stream",
     "text": [
      "Name: Kiran\n",
      "Age after 5 years: 30\n",
      "Double Height: 5.9\n",
      "Greeting: Hello, Kiran!\n",
      "Has Access: True\n",
      "Updated Skills: ['Python', 'SQL', 'Azure']\n",
      "Profile Name: Kiran\n",
      "Unique IDs: {101, 102, 103}\n"
     ]
    }
   ],
   "source": [
    "# Printing the outputs to demonstrate the results\n",
    "print(\"Name:\", name)  # Output: Kiran\n",
    "print(\"Age after 5 years:\", age)  # Output: 35\n",
    "print(\"Double Height:\", height)  # Output: 11.8\n",
    "\n",
    "greeting = \"Hello, \" + name + \"!\"  \n",
    "print(\"Greeting:\", greeting)  # Output: Hello, Kiran!\n",
    "\n",
    "can_access = is_student or age > 25\n",
    "print(\"Has Access:\", can_access)  # Output: True\n",
    "\n",
    "print(\"Updated Skills:\", skills)  # Output: ['Python', 'SQL', 'Azure', 'Jenkins']\n",
    "print(\"Profile Name:\", profile[\"name\"])  # Output: Kiran\n",
    "print(\"Unique IDs:\", unique_ids)  # Output: {101, 102, 103, 104}\n"
   ]
  },
  {
   "cell_type": "markdown",
   "id": "493b9bd3-281b-404f-aec9-c200cca6182b",
   "metadata": {},
   "source": [
    "##"
   ]
  },
  {
   "cell_type": "markdown",
   "id": "b4a1e846-d2ff-4cdb-8bfe-7dc81f26ce27",
   "metadata": {},
   "source": [
    "## print() and input() \n",
    "The print() function is used to display information to the console. You can print strings, numbers, and other data types. \n",
    "The input() function allows you to capture user input from the console. It returns the input as a string. Here’s how you can use it:"
   ]
  },
  {
   "cell_type": "code",
   "execution_count": 1,
   "id": "f286130e-e6dc-434e-bc05-023c8417cef9",
   "metadata": {},
   "outputs": [
    {
     "name": "stdout",
     "output_type": "stream",
     "text": [
      "Hello, world!\n",
      "Name: Alice Age: 30\n",
      "Alice is 30 years old.\n"
     ]
    }
   ],
   "source": [
    "# Printing a string\n",
    "print(\"Hello, world!\")\n",
    "\n",
    "# Printing multiple items\n",
    "name = \"Alice\"\n",
    "age = 30\n",
    "print(\"Name:\", name, \"Age:\", age)\n",
    "\n",
    "# Formatting output\n",
    "print(f\"{name} is {age} years old.\")\n"
   ]
  },
  {
   "cell_type": "code",
   "execution_count": 2,
   "id": "2b7d955d-1b39-4b54-a273-797e58dcdf6b",
   "metadata": {},
   "outputs": [
    {
     "name": "stdin",
     "output_type": "stream",
     "text": [
      "Enter your name:  kiran\n"
     ]
    },
    {
     "name": "stdout",
     "output_type": "stream",
     "text": [
      "Hello, kiran\n"
     ]
    },
    {
     "name": "stdin",
     "output_type": "stream",
     "text": [
      "Enter your age:  25\n"
     ]
    },
    {
     "name": "stdout",
     "output_type": "stream",
     "text": [
      "You are 25 years old.\n"
     ]
    }
   ],
   "source": [
    "# Prompting for user input\n",
    "user_name = input(\"Enter your name: \")\n",
    "print(\"Hello,\", user_name)\n",
    "\n",
    "# Getting numerical input and converting it to an integer\n",
    "user_age = input(\"Enter your age: \")\n",
    "user_age = int(user_age)  # Convert the input to an integer\n",
    "print(\"You are\", user_age, \"years old.\")\n"
   ]
  },
  {
   "cell_type": "code",
   "execution_count": 4,
   "id": "8c31f255-abbe-4cdf-8a9f-8c25b7e0fbe1",
   "metadata": {},
   "outputs": [
    {
     "name": "stdin",
     "output_type": "stream",
     "text": [
      "What is your name?  kiran\n",
      "How old are you?  25\n"
     ]
    },
    {
     "name": "stdout",
     "output_type": "stream",
     "text": [
      "kiran, you are 25 years old right!\n"
     ]
    }
   ],
   "source": [
    "# Ask for user information\n",
    "name = input(\"What is your name? \")\n",
    "age = input(\"How old are you? \")\n",
    "\n",
    "# Output the information\n",
    "print(f\"{name}, you are {age} years old right!\")\n"
   ]
  },
  {
   "cell_type": "markdown",
   "id": "2e1214a7-1dfb-4e5d-954b-368a8397156a",
   "metadata": {},
   "source": [
    "### customizing out put with sep and end "
   ]
  },
  {
   "cell_type": "code",
   "execution_count": 5,
   "id": "3e27c1cc-7031-4f8a-aa76-359401bb5a98",
   "metadata": {},
   "outputs": [
    {
     "name": "stdout",
     "output_type": "stream",
     "text": [
      "Python-is-fun!\n"
     ]
    }
   ],
   "source": [
    "print(\"Python\", \"is\", \"fun\", sep=\"-\", end=\"!\\n\")\n"
   ]
  },
  {
   "cell_type": "code",
   "execution_count": null,
   "id": "dd35ed4a-390c-47af-8926-5ba2018c2c0f",
   "metadata": {},
   "outputs": [],
   "source": []
  }
 ],
 "metadata": {
  "kernelspec": {
   "display_name": "Python 3 (ipykernel)",
   "language": "python",
   "name": "python3"
  },
  "language_info": {
   "codemirror_mode": {
    "name": "ipython",
    "version": 3
   },
   "file_extension": ".py",
   "mimetype": "text/x-python",
   "name": "python",
   "nbconvert_exporter": "python",
   "pygments_lexer": "ipython3",
   "version": "3.12.4"
  }
 },
 "nbformat": 4,
 "nbformat_minor": 5
}
