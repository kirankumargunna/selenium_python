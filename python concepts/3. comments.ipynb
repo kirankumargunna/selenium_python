{
 "cells": [
  {
   "cell_type": "markdown",
   "id": "ec3eb801-a78a-4e9d-a407-8226de4ac64a",
   "metadata": {},
   "source": [
    "## comments\n",
    "### Block comment"
   ]
  },
  {
   "cell_type": "code",
   "execution_count": 12,
   "id": "cdd460d0-ea23-441d-a159-cd5379626208",
   "metadata": {},
   "outputs": [
    {
     "name": "stdout",
     "output_type": "stream",
     "text": [
      "105\n"
     ]
    }
   ],
   "source": [
    "# increase price by 5%\n",
    "price=100\n",
    "price = price * 1.05\n",
    "print(int(price))"
   ]
  },
  {
   "cell_type": "markdown",
   "id": "0db00b55-39e4-4c46-8b3a-9efd66a60bf0",
   "metadata": {},
   "source": [
    "### inline comment "
   ]
  },
  {
   "cell_type": "code",
   "execution_count": 11,
   "id": "25828686-fb1c-4762-8bc4-6d8041b208b2",
   "metadata": {},
   "outputs": [
    {
     "name": "stdout",
     "output_type": "stream",
     "text": [
      "10200\n"
     ]
    }
   ],
   "source": [
    "# when you place comment in the same line \n",
    "salary = 10000\n",
    "salary = salary * 1.02   # increase salary by 2%\n",
    "print(int(salary))"
   ]
  },
  {
   "cell_type": "markdown",
   "id": "6accfd07-6f6f-4faf-a058-9362b28d4dd9",
   "metadata": {},
   "source": [
    "### multiline comment "
   ]
  },
  {
   "cell_type": "code",
   "execution_count": 24,
   "id": "68658400-b273-413d-a9dd-c953c7d36982",
   "metadata": {},
   "outputs": [
    {
     "data": {
      "text/plain": [
       "'\\nasdfsa\\nafdsdf\\nasdf\\nfjsdjflksdaf\\n'"
      ]
     },
     "execution_count": 24,
     "metadata": {},
     "output_type": "execute_result"
    }
   ],
   "source": [
    "\"\"\"\n",
    "asdfsa\n",
    "afdsdf\n",
    "asdf\n",
    "fjsdjflksdaf\n",
    "\"\"\"\"\"\n"
   ]
  },
  {
   "cell_type": "markdown",
   "id": "da72ee55-0f09-4f0f-b427-11fac743b72e",
   "metadata": {},
   "source": [
    "## Python docstrings\n",
    "Unlike a regular comment, a documentation string can be accessed at run-time using  obj.__doc__ attribute where obj is the name of the function.\n",
    "Typically, you use a documentation string to automatically generate the code documentation.\n",
    "\n",
    "### one line docstring"
   ]
  },
  {
   "cell_type": "code",
   "execution_count": 28,
   "id": "29b3daa7-304b-480c-98a0-60bb3dbcfe9d",
   "metadata": {},
   "outputs": [],
   "source": [
    "def quicksort():\n",
    "    \"\"\" sort the list using quicksort algorithm \"\"\"\n",
    "    print(\"this function has one line doc string\")\n"
   ]
  },
  {
   "cell_type": "code",
   "execution_count": 30,
   "id": "e840a9f5-e2fe-4156-8c4c-b44f37d6e019",
   "metadata": {},
   "outputs": [
    {
     "name": "stdout",
     "output_type": "stream",
     "text": [
      "this function has one line doc string\n",
      "Help on function quicksort in module __main__:\n",
      "\n",
      "quicksort()\n",
      "    sort the list using quicksort algorithm\n",
      "\n"
     ]
    }
   ],
   "source": [
    "quicksort()\n",
    "help(quicksort)"
   ]
  },
  {
   "cell_type": "markdown",
   "id": "65502316-d166-4f30-a686-e4432292b726",
   "metadata": {},
   "source": [
    "### multiline docstring"
   ]
  },
  {
   "cell_type": "code",
   "execution_count": 33,
   "id": "7b40447c-efd8-48b9-a8a4-515032188d53",
   "metadata": {},
   "outputs": [],
   "source": [
    "def increase(salary, percentage, rating):\n",
    "    \"\"\" increase salary base on rating and percentage\n",
    "    rating 1 - 2 no increase\n",
    "    rating 3 - 4 increase 5%\n",
    "    rating 4 - 6 increase 10%\n",
    "    \"\"\"\n",
    "    print(\"this function has multi line docstring\")"
   ]
  },
  {
   "cell_type": "code",
   "execution_count": 36,
   "id": "05b40a5b-532d-442c-b5dd-a40a875d3197",
   "metadata": {},
   "outputs": [
    {
     "name": "stdout",
     "output_type": "stream",
     "text": [
      "this function has multi line docstring\n",
      "Help on function increase in module __main__:\n",
      "\n",
      "increase(salary, percentage, rating)\n",
      "    increase salary base on rating and percentage\n",
      "    rating 1 - 2 no increase\n",
      "    rating 3 - 4 increase 5%\n",
      "    rating 4 - 6 increase 10%\n",
      "\n"
     ]
    }
   ],
   "source": [
    "increase(1,1,1)\n",
    "\n",
    "help(increase)"
   ]
  },
  {
   "cell_type": "code",
   "execution_count": null,
   "id": "8958917f-22c5-4626-b491-e17c85119709",
   "metadata": {},
   "outputs": [],
   "source": []
  }
 ],
 "metadata": {
  "kernelspec": {
   "display_name": "Python 3 (ipykernel)",
   "language": "python",
   "name": "python3"
  },
  "language_info": {
   "codemirror_mode": {
    "name": "ipython",
    "version": 3
   },
   "file_extension": ".py",
   "mimetype": "text/x-python",
   "name": "python",
   "nbconvert_exporter": "python",
   "pygments_lexer": "ipython3",
   "version": "3.12.4"
  }
 },
 "nbformat": 4,
 "nbformat_minor": 5
}
