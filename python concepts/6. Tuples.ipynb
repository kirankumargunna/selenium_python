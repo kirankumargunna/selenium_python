{
 "cells": [
  {
   "cell_type": "markdown",
   "id": "0550d2c3-9730-48cd-aea5-aca5fde55a32",
   "metadata": {},
   "source": [
    "### Key Features of Tuples:\n",
    "**Immutable**: Once created, you cannot change or modify the elements of a tuple.  \n",
    "**Ordered**: The elements in a tuple have a defined order.  \n",
    "**Heterogeneous**: A tuple can contain elements of different data types (integers, strings, floats, etc.).  \n",
    "**Indexing**: You can access elements using an index, similar to lists.  "
   ]
  },
  {
   "cell_type": "code",
   "execution_count": 1,
   "id": "4f7a361e-7f87-485b-a621-9311ebd7d6bd",
   "metadata": {},
   "outputs": [],
   "source": [
    "# Empty tuple\n",
    "my_tuple = ()\n",
    "\n",
    "# Tuple with values\n",
    "my_tuple = (1, 2, 3, 4)\n",
    "\n",
    "# Mixed data types\n",
    "mixed_tuple = (1, \"hello\", 3.14, True)\n",
    "\n"
   ]
  },
  {
   "cell_type": "code",
   "execution_count": 2,
   "id": "78032aa2-814f-4620-b7eb-b894a54d5f89",
   "metadata": {},
   "outputs": [
    {
     "name": "stdout",
     "output_type": "stream",
     "text": [
      "1\n",
      "3\n",
      "4\n",
      "2\n"
     ]
    }
   ],
   "source": [
    "# Access by index\n",
    "print(my_tuple[0])   \n",
    "print(my_tuple[2])   \n",
    "\n",
    "# Negative indexing\n",
    "print(my_tuple[-1])  \n",
    "print(my_tuple[-3])  \n"
   ]
  },
  {
   "cell_type": "markdown",
   "id": "e75c51e1-b1e3-4e73-b087-a41daab29814",
   "metadata": {},
   "source": [
    "### Tuple methods"
   ]
  },
  {
   "cell_type": "code",
   "execution_count": 7,
   "id": "4b952d92-d7f8-47d3-9f9e-b672156c2e32",
   "metadata": {},
   "outputs": [
    {
     "name": "stdout",
     "output_type": "stream",
     "text": [
      "3\n",
      "2\n"
     ]
    }
   ],
   "source": [
    "#count()\n",
    "\n",
    "my_tuple = (1, 2, 3, 2, 2)\n",
    "my_tuple1=('ss','fsds','ss')\n",
    "print(my_tuple.count(2)) \n",
    "print(my_tuple1.count('ss')) \n"
   ]
  },
  {
   "cell_type": "code",
   "execution_count": 8,
   "id": "7e589f50-68db-4783-b42a-16b61d7c33de",
   "metadata": {},
   "outputs": [
    {
     "name": "stdout",
     "output_type": "stream",
     "text": [
      "2\n"
     ]
    }
   ],
   "source": [
    "# index \n",
    "print(my_tuple.index(3)) \n"
   ]
  },
  {
   "cell_type": "code",
   "execution_count": 9,
   "id": "166443d2-e7bc-4c37-a43f-369427371d49",
   "metadata": {},
   "outputs": [
    {
     "name": "stdout",
     "output_type": "stream",
     "text": [
      "(2, 3, 4)\n"
     ]
    }
   ],
   "source": [
    "my_tuple = (1, 2, 3, 4, 5)\n",
    "print(my_tuple[1:4])  \n"
   ]
  },
  {
   "cell_type": "code",
   "execution_count": 10,
   "id": "bf29ef8d-105a-4599-96eb-99914b2037e0",
   "metadata": {},
   "outputs": [],
   "source": [
    "# since tuple are immutable we do not have any methods to add or remove elements from  tuple "
   ]
  },
  {
   "cell_type": "code",
   "execution_count": 1,
   "id": "16345ca2-4737-4284-9549-08a33b81a825",
   "metadata": {},
   "outputs": [],
   "source": [
    "### exercise\n"
   ]
  },
  {
   "cell_type": "code",
   "execution_count": 2,
   "id": "f6239b3b-2239-4ecf-bc56-693f35164eab",
   "metadata": {},
   "outputs": [
    {
     "name": "stdout",
     "output_type": "stream",
     "text": [
      "(10, 200, 4, 55, 402)\n",
      "<class 'tuple'>\n"
     ]
    }
   ],
   "source": [
    "#1.Write a Python program to create a tuple\n",
    "t = (10,200,4,55,402)\n",
    "print(t)\n",
    "print(type(t))\n",
    "\n"
   ]
  },
  {
   "cell_type": "code",
   "execution_count": 3,
   "id": "1b9a35d4-2111-430d-bf93-68d7519b517e",
   "metadata": {},
   "outputs": [
    {
     "name": "stdout",
     "output_type": "stream",
     "text": [
      "('kiran', [4, 2, 3], 'T', 2)\n"
     ]
    }
   ],
   "source": [
    "#2.Write a Python program to create a tuple with different data types\n",
    "\n",
    "a = (\"kiran\",[4, 2, 3],'T',2)\n",
    "print(a)\n"
   ]
  },
  {
   "cell_type": "code",
   "execution_count": 4,
   "id": "658a8d41-ca5f-4862-93e2-41db1233be82",
   "metadata": {},
   "outputs": [
    {
     "name": "stdout",
     "output_type": "stream",
     "text": [
      "(1, 2, 3, 4, 5, 6, 7, 8)\n",
      "<class 'tuple'>\n"
     ]
    },
    {
     "data": {
      "text/plain": [
       "3"
      ]
     },
     "execution_count": 4,
     "metadata": {},
     "output_type": "execute_result"
    }
   ],
   "source": [
    "#3.Write a Python program to create a tuple with numbers and print one item\n",
    "s = (1,2,3,4,5,6,7,8)\n",
    "print(s)\n",
    "print(type(s))\n",
    "s[2]"
   ]
  },
  {
   "cell_type": "code",
   "execution_count": 6,
   "id": "462ebb2e-0612-406c-8ee4-b304f07968de",
   "metadata": {},
   "outputs": [
    {
     "name": "stdout",
     "output_type": "stream",
     "text": [
      "neha\n",
      "avinash\n",
      "swapnali\n",
      "nikita\n"
     ]
    }
   ],
   "source": [
    "#4.Write a Python program to unpack a tuple in several variables\n",
    "names = (\"neha\", \"avinash\", \"swapnali\",\"nikita\")\n",
    "name1,name2,name3,name4 = names\n",
    "print(name1)\n",
    "print(name2) \n",
    "print(name3)\n",
    "print(name4)"
   ]
  },
  {
   "cell_type": "code",
   "execution_count": 7,
   "id": "cb4ec4ab-5eb5-4b3a-a559-0cab33604314",
   "metadata": {},
   "outputs": [
    {
     "name": "stdout",
     "output_type": "stream",
     "text": [
      "('rahul', 'neha', 'avinash', 'swapnali', 'kiran')\n"
     ]
    }
   ],
   "source": [
    "#5.Write a Python program to add an item in a tuple\n",
    "names = (\"neha\", \"avinash\", \"swapnali\",\"kiran\")\n",
    "new_names = (\"rahul\",) + names\n",
    "print(new_names)"
   ]
  },
  {
   "cell_type": "code",
   "execution_count": 8,
   "id": "af0a9475-69e9-489a-b3b1-4158b65961e0",
   "metadata": {},
   "outputs": [
    {
     "name": "stdout",
     "output_type": "stream",
     "text": [
      "neha, avinash, swapnali, kiran\n"
     ]
    }
   ],
   "source": [
    "#6.Write a Python program to convert a tuple to a string\n",
    "new_names = \", \".join(names)\n",
    "print(new_names)"
   ]
  },
  {
   "cell_type": "code",
   "execution_count": 11,
   "id": "50b2a04b-3ee9-4a76-a722-eb75eaca99b2",
   "metadata": {},
   "outputs": [
    {
     "ename": "TypeError",
     "evalue": "can only concatenate tuple (not \"str\") to tuple",
     "output_type": "error",
     "traceback": [
      "\u001b[1;31m---------------------------------------------------------------------------\u001b[0m",
      "\u001b[1;31mTypeError\u001b[0m                                 Traceback (most recent call last)",
      "Cell \u001b[1;32mIn[11], line 1\u001b[0m\n\u001b[1;32m----> 1\u001b[0m \u001b[43mnames\u001b[49m\u001b[38;5;241;43m+\u001b[39;49m\u001b[43m(\u001b[49m\u001b[38;5;124;43m'\u001b[39;49m\u001b[38;5;124;43msdf\u001b[39;49m\u001b[38;5;124;43m'\u001b[39;49m\u001b[43m)\u001b[49m\n",
      "\u001b[1;31mTypeError\u001b[0m: can only concatenate tuple (not \"str\") to tuple"
     ]
    }
   ],
   "source": [
    "names+('sdf')"
   ]
  },
  {
   "cell_type": "code",
   "execution_count": 12,
   "id": "c372fd1a-8518-4e56-9a4d-907f593cc70c",
   "metadata": {},
   "outputs": [
    {
     "name": "stdout",
     "output_type": "stream",
     "text": [
      "The 4th element is: 5\n",
      "The 4th element from last is: 3\n"
     ]
    }
   ],
   "source": [
    "#7.Write a Python program to get the 4th element and 4th element from last of a tuple\n",
    "# Create a tuple\n",
    "s = (1, 2, 3, 4, 5, 6)\n",
    "\n",
    "# Access the 4th element\n",
    "fourth_element = s[4]\n",
    "print(\"The 4th element is:\", fourth_element)\n",
    "\n",
    "# Access the 4th element from the last\n",
    "last_fourth_element = s[-4]\n",
    "print(\"The 4th element from last is:\", last_fourth_element)\n"
   ]
  },
  {
   "cell_type": "code",
   "execution_count": 14,
   "id": "59ef7826-faa0-409b-83df-235054bdd1ec",
   "metadata": {},
   "outputs": [
    {
     "name": "stdout",
     "output_type": "stream",
     "text": [
      "Repeated items = 4\n"
     ]
    }
   ],
   "source": [
    "#9.Write a Python program to find the repeated items of a tuple\n",
    "def repeated_items(a, item):\n",
    "    count = a.count(item)\n",
    "    return count\n",
    "a = (6, 39, 55, 2, 1, 6, 8, 6, 78, 34, 6)\n",
    "item = 6\n",
    "count = repeated_items(a, item)\n",
    "print(\"Repeated items =\",count)\n",
    "\n"
   ]
  },
  {
   "cell_type": "code",
   "execution_count": null,
   "id": "050e6715-f34c-4c72-8c04-c9a2fbf577b3",
   "metadata": {},
   "outputs": [],
   "source": []
  }
 ],
 "metadata": {
  "kernelspec": {
   "display_name": "Python 3 (ipykernel)",
   "language": "python",
   "name": "python3"
  },
  "language_info": {
   "codemirror_mode": {
    "name": "ipython",
    "version": 3
   },
   "file_extension": ".py",
   "mimetype": "text/x-python",
   "name": "python",
   "nbconvert_exporter": "python",
   "pygments_lexer": "ipython3",
   "version": "3.12.6"
  }
 },
 "nbformat": 4,
 "nbformat_minor": 5
}
