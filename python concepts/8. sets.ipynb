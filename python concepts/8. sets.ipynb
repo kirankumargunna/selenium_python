{
 "cells": [
  {
   "cell_type": "markdown",
   "id": "af044aea-8f32-4584-9b1d-3664f060b5f1",
   "metadata": {},
   "source": [
    "A set is a unique collection of objects in Python. You can denote a set with a pair of curly brackets {}. Python will automatically remove duplicate items:"
   ]
  },
  {
   "cell_type": "code",
   "execution_count": 1,
   "id": "2b649faa-7061-4e77-9881-2a5af15aed64",
   "metadata": {},
   "outputs": [
    {
     "data": {
      "text/plain": [
       "{'R&B', 'disco', 'hard rock', 'pop', 'rock', 'soul'}"
      ]
     },
     "execution_count": 1,
     "metadata": {},
     "output_type": "execute_result"
    }
   ],
   "source": [
    "# Create a set\n",
    "\n",
    "set1 = {\"pop\", \"rock\", \"soul\", \"hard rock\", \"rock\", \"R&B\", \"rock\", \"disco\"}\n",
    "set1"
   ]
  },
  {
   "cell_type": "code",
   "execution_count": 2,
   "id": "4d926838-1f1a-4d7e-ab5d-0ba6a42478f4",
   "metadata": {},
   "outputs": [
    {
     "data": {
      "text/plain": [
       "{10.0,\n",
       " '12:45',\n",
       " 1982,\n",
       " '30-Nov-82',\n",
       " 46.0,\n",
       " 65,\n",
       " None,\n",
       " True,\n",
       " 'dinesh ',\n",
       " 'kiran',\n",
       " 'rock, paper, scissor'}"
      ]
     },
     "execution_count": 2,
     "metadata": {},
     "output_type": "execute_result"
    }
   ],
   "source": [
    "# Convert list to set\n",
    "\n",
    "album_list = [ \"kiran\", \"dinesh \", 1982, \"12:45\", \\\n",
    "              \"rock, paper, scissor\", 46.0, 65, \"30-Nov-82\", None, 10.0,True]\n",
    "album_set = set(album_list)             \n",
    "album_set"
   ]
  },
  {
   "cell_type": "markdown",
   "id": "aa60a6e8-8c67-4b88-a74e-3478fda0382c",
   "metadata": {},
   "source": [
    "### Set Operations\n"
   ]
  },
  {
   "cell_type": "code",
   "execution_count": 3,
   "id": "2d81df3a-7b05-4de3-903a-89812321e1e7",
   "metadata": {},
   "outputs": [
    {
     "data": {
      "text/plain": [
       "{'ajit', 'kiran', 'raju'}"
      ]
     },
     "execution_count": 3,
     "metadata": {},
     "output_type": "execute_result"
    }
   ],
   "source": [
    "A = set([\"kiran\", \"ajit\", \"raju\"])\n",
    "A"
   ]
  },
  {
   "cell_type": "code",
   "execution_count": 4,
   "id": "46b0f555-87e8-4766-8b1e-c1dc1a821984",
   "metadata": {},
   "outputs": [
    {
     "data": {
      "text/plain": [
       "{'ajit', 'kiran', 'priya', 'raju'}"
      ]
     },
     "execution_count": 4,
     "metadata": {},
     "output_type": "execute_result"
    }
   ],
   "source": [
    "# Add element to set\n",
    "\n",
    "A.add(\"priya\")\n",
    "A"
   ]
  },
  {
   "cell_type": "code",
   "execution_count": 7,
   "id": "f9679bd2-e9e2-49b7-add9-1b974a9cfcf3",
   "metadata": {},
   "outputs": [
    {
     "data": {
      "text/plain": [
       "{'ajit', 'kiran', 'priya', 'raju'}"
      ]
     },
     "execution_count": 7,
     "metadata": {},
     "output_type": "execute_result"
    }
   ],
   "source": [
    "# add duplicate element to the set\n",
    "\n",
    "A.add(\"priya\")\n",
    "A"
   ]
  },
  {
   "cell_type": "code",
   "execution_count": 9,
   "id": "42803da9-cc91-436c-91f8-15e4b57a4daa",
   "metadata": {},
   "outputs": [
    {
     "data": {
      "text/plain": [
       "{'ajit', 'kiran', 'raju'}"
      ]
     },
     "execution_count": 9,
     "metadata": {},
     "output_type": "execute_result"
    }
   ],
   "source": [
    "# Remove the element from set\n",
    "\n",
    "A.remove(\"priya\")\n",
    "A"
   ]
  },
  {
   "cell_type": "code",
   "execution_count": 10,
   "id": "70c15929-ec79-404d-b659-34a33bf8ecf9",
   "metadata": {},
   "outputs": [
    {
     "data": {
      "text/plain": [
       "True"
      ]
     },
     "execution_count": 10,
     "metadata": {},
     "output_type": "execute_result"
    }
   ],
   "source": [
    "# Verify if the element is in the set\n",
    "\n",
    "\"kiran\" in A"
   ]
  },
  {
   "cell_type": "markdown",
   "id": "4b91a95f-9d22-4ecd-8d39-bb5259dd257e",
   "metadata": {},
   "source": [
    "### Sets Logic Operations\n",
    "Remember that with sets you can check the difference between sets, as well as the symmetric difference, intersection, and union:  \n",
    "\n",
    "Union (set1 | set2): Combines all unique elements from both sets.  \n",
    "Intersection (set1 & set2): Gets common elements from both sets.  \n",
    "Difference (set1 - set2): Elements in set1 but not in set2.  \n",
    "Symmetric Difference (set1 ^ set2): Elements in either set1 or set2, but not in both.  "
   ]
  },
  {
   "cell_type": "code",
   "execution_count": 25,
   "id": "2b1caf46-5ca9-404a-9aaf-4b0020f25b90",
   "metadata": {},
   "outputs": [],
   "source": [
    "numbers_set1=set([1,2,3,4,5,6,7,8,9,10,11])\n",
    "numbers_set2=set([2,4,6,8,10,12,14,16])"
   ]
  },
  {
   "cell_type": "code",
   "execution_count": 26,
   "id": "9f101637-a1dd-4eb2-9a56-e3dfb6a73d77",
   "metadata": {},
   "outputs": [
    {
     "data": {
      "text/plain": [
       "{2, 4, 6, 8, 10}"
      ]
     },
     "execution_count": 26,
     "metadata": {},
     "output_type": "execute_result"
    }
   ],
   "source": [
    "# Find the intersections\n",
    "\n",
    "intersection = numbers_set1 & numbers_set2\n",
    "intersection"
   ]
  },
  {
   "cell_type": "code",
   "execution_count": 27,
   "id": "9f81753b-c877-4668-95cc-bc666bf56bbc",
   "metadata": {},
   "outputs": [
    {
     "data": {
      "text/plain": [
       "{1, 3, 5, 7, 9, 11}"
      ]
     },
     "execution_count": 27,
     "metadata": {},
     "output_type": "execute_result"
    }
   ],
   "source": [
    "# Find the difference in set1 but not set2\n",
    "\n",
    "numbers_set1.difference(numbers_set2)"
   ]
  },
  {
   "cell_type": "code",
   "execution_count": 28,
   "id": "8bfb28ea-503b-4272-bb92-8435859de249",
   "metadata": {},
   "outputs": [
    {
     "data": {
      "text/plain": [
       "{2, 4, 6, 8, 10}"
      ]
     },
     "execution_count": 28,
     "metadata": {},
     "output_type": "execute_result"
    }
   ],
   "source": [
    "numbers_set2.intersection(numbers_set1)"
   ]
  },
  {
   "cell_type": "code",
   "execution_count": 29,
   "id": "2bc85db7-f97e-4454-a9db-51185e27d6d0",
   "metadata": {},
   "outputs": [
    {
     "data": {
      "text/plain": [
       "{1, 2, 3, 4, 5, 6, 7, 8, 9, 10, 11, 12, 14, 16}"
      ]
     },
     "execution_count": 29,
     "metadata": {},
     "output_type": "execute_result"
    }
   ],
   "source": [
    "# union of two sets \n",
    "numbers_set1.union(numbers_set2)\n"
   ]
  },
  {
   "cell_type": "code",
   "execution_count": 33,
   "id": "0b061a77-6143-4acb-9b6f-71b37a1f02e4",
   "metadata": {},
   "outputs": [
    {
     "data": {
      "text/plain": [
       "False"
      ]
     },
     "execution_count": 33,
     "metadata": {},
     "output_type": "execute_result"
    }
   ],
   "source": [
    "# Check if superset\n",
    "\n",
    "numbers_set1.issuperset(numbers_set2)   "
   ]
  },
  {
   "cell_type": "code",
   "execution_count": 34,
   "id": "542556c9-efcf-4d1a-95e3-857ebab63e4e",
   "metadata": {},
   "outputs": [
    {
     "data": {
      "text/plain": [
       "False"
      ]
     },
     "execution_count": 34,
     "metadata": {},
     "output_type": "execute_result"
    }
   ],
   "source": [
    "numbers_set1.issubset(numbers_set2)   "
   ]
  },
  {
   "cell_type": "code",
   "execution_count": null,
   "id": "4c538079-ee1b-4be1-9cda-13aca0052e3a",
   "metadata": {},
   "outputs": [],
   "source": []
  }
 ],
 "metadata": {
  "kernelspec": {
   "display_name": "Python 3 (ipykernel)",
   "language": "python",
   "name": "python3"
  },
  "language_info": {
   "codemirror_mode": {
    "name": "ipython",
    "version": 3
   },
   "file_extension": ".py",
   "mimetype": "text/x-python",
   "name": "python",
   "nbconvert_exporter": "python",
   "pygments_lexer": "ipython3",
   "version": "3.12.6"
  }
 },
 "nbformat": 4,
 "nbformat_minor": 5
}
