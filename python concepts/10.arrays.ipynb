{
 "cells": [
  {
   "cell_type": "code",
   "execution_count": 4,
   "id": "0f4d7ca2-05ad-4037-9b94-98ddb0c34189",
   "metadata": {},
   "outputs": [],
   "source": [
    "import array"
   ]
  },
  {
   "cell_type": "code",
   "execution_count": 2,
   "id": "d6f9490d-8e98-4940-8b8f-6220ccac333d",
   "metadata": {},
   "outputs": [
    {
     "name": "stdout",
     "output_type": "stream",
     "text": [
      "2\n",
      "array('i', [1, 2, 10, 4, 5])\n"
     ]
    }
   ],
   "source": [
    "import array\n",
    "\n",
    "# Creating an array of signed integers\n",
    "int_array = array.array('i', [1, 2, 3, 4, 5])\n",
    "\n",
    "# Creating an array of floating-point numbers\n",
    "float_array = array.array('f', [1.5, 2.6, 3.7])\n",
    "\n",
    "# Accessing elements\n",
    "print(int_array[1])\n",
    "\n",
    "# Modifying an element\n",
    "int_array[2] = 10\n",
    "print(int_array)\n"
   ]
  },
  {
   "cell_type": "code",
   "execution_count": 3,
   "id": "b3cd3823-6876-4e16-b710-3c4acab3e72f",
   "metadata": {},
   "outputs": [
    {
     "name": "stdout",
     "output_type": "stream",
     "text": [
      "array('i', [1, 2, 10, 4, 5, 6])\n",
      "array('i', [1, 2, 10, 4, 5, 6, 7, 8, 9])\n",
      "array('i', [1, 0, 2, 10, 4, 5, 6, 7, 8, 9])\n",
      "array('i', [1, 0, 2, 4, 5, 6, 7, 8, 9])\n",
      "array('i', [0, 2, 4, 5])\n"
     ]
    }
   ],
   "source": [
    "# Appending elements\n",
    "int_array.append(6)\n",
    "print(int_array)\n",
    "\n",
    "# Extending the array with multiple elements\n",
    "int_array.extend([7, 8, 9])\n",
    "print(int_array)\n",
    "\n",
    "# Inserting an element at a specific position\n",
    "int_array.insert(1, 0)\n",
    "print(int_array)\n",
    "\n",
    "# Removing an element by value\n",
    "int_array.remove(10)\n",
    "print(int_array)\n",
    "\n",
    "# Slicing the array\n",
    "sliced_array = int_array[1:5]\n",
    "print(sliced_array)\n"
   ]
  },
  {
   "cell_type": "code",
   "execution_count": 4,
   "id": "0fdb5e19",
   "metadata": {},
   "outputs": [
    {
     "name": "stdout",
     "output_type": "stream",
     "text": [
      "array('i', [1, 0, 4, 5, 6, 7, 8, 9])\n",
      "8\n",
      "array('i', [9, 8, 7, 6, 5, 4, 0, 1])\n",
      "[9, 8, 7, 6, 5, 4, 0, 1]\n",
      "(2280563137456, 8)\n",
      "Sum of array elements: 15\n"
     ]
    }
   ],
   "source": [
    "# Removing an element by index\n",
    "int_array.pop(2)\n",
    "print(int_array)\n",
    "\n",
    "# Getting the length of the array\n",
    "print(len(int_array))\n",
    "\n",
    "# Reversing the array\n",
    "int_array.reverse()\n",
    "print(int_array)\n",
    "\n",
    "# Converting the array to a list\n",
    "int_list = int_array.tolist()\n",
    "print(int_list)\n",
    "\n",
    "# Getting buffer information\n",
    "print(int_array.buffer_info())\n",
    "\n",
    "# Sum of array elements\n",
    "arr = array.array('i', [1, 2, 3, 4, 5])\n",
    "total = sum(arr)\n",
    "print(\"Sum of array elements:\", total)\n"
   ]
  },
  {
   "cell_type": "code",
   "execution_count": 6,
   "id": "30719a45",
   "metadata": {},
   "outputs": [
    {
     "name": "stdout",
     "output_type": "stream",
     "text": [
      "Index of 4: 5\n",
      "Occurrences of 1: 1\n",
      "Copied array: array('i', [9, 8, 7, 6, 5, 4, 0, 1])\n",
      "Array with elements multiplied by 2: array('i', [18, 16, 14, 12, 10, 8, 0, 2])\n",
      "Iterating over the array:\n",
      "9\n",
      "8\n",
      "7\n",
      "6\n",
      "5\n",
      "4\n",
      "0\n",
      "1\n"
     ]
    }
   ],
   "source": [
    "# Searching for the index of a specific value\n",
    "index_of_4 = int_array.index(4)\n",
    "print(\"Index of 4:\", index_of_4)\n",
    "\n",
    "# Counting occurrences of a value in the array\n",
    "occurrences_of_1 = int_array.count(1)\n",
    "print(\"Occurrences of 1:\", occurrences_of_1)\n",
    "\n",
    "# Copying the array to a new array\n",
    "copied_array = array.array(int_array.typecode, int_array)\n",
    "print(\"Copied array:\", copied_array)\n",
    "\n",
    "# Multiplying each element by 2 (list comprehension for element-wise operation)\n",
    "multiplied_array = array.array(int_array.typecode, (a * 2 for a in int_array))\n",
    "print(\"Array with elements multiplied by 2:\", multiplied_array)\n",
    "\n",
    "# Iterating over the array\n",
    "print(\"Iterating over the array:\")\n",
    "for element in int_array:\n",
    "    print(element)\n",
    "\n",
    "\n"
   ]
  },
  {
   "cell_type": "code",
   "execution_count": null,
   "id": "833f64d8",
   "metadata": {},
   "outputs": [],
   "source": []
  }
 ],
 "metadata": {
  "kernelspec": {
   "display_name": "Python 3",
   "language": "python",
   "name": "python3"
  },
  "language_info": {
   "codemirror_mode": {
    "name": "ipython",
    "version": 3
   },
   "file_extension": ".py",
   "mimetype": "text/x-python",
   "name": "python",
   "nbconvert_exporter": "python",
   "pygments_lexer": "ipython3",
   "version": "3.12.6"
  }
 },
 "nbformat": 4,
 "nbformat_minor": 5
}
