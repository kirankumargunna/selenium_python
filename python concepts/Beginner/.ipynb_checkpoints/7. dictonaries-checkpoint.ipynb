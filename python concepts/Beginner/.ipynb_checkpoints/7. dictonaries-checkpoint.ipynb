{
 "cells": [
  {
   "cell_type": "markdown",
   "id": "b4335e2d-4b18-431c-a160-4d310fbdae10",
   "metadata": {},
   "source": [
    "Dictionaries in Python  \n",
    "A dictionary in Python is a collection of key-value pairs. Each key is unique, and keys are used to retrieve values. It's an unordered and mutable data   structure, making it efficient for lookups based on keys.  "
   ]
  },
  {
   "cell_type": "code",
   "execution_count": 1,
   "id": "21466e01-fc6d-4bd3-b594-6c9fcefc5d28",
   "metadata": {},
   "outputs": [],
   "source": [
    "employees = {\n",
    "   \"101\": {\"name\": \"Alice\", \"age\": 29, \"department\": \"IT\"},\n",
    "   \"102\": {\"name\": \"Bob\", \"age\": 35, \"department\": \"Finance\"},\n",
    "   \"103\": {\"name\": \"Charlie\", \"age\": 42, \"department\": \"Marketing\"}\n",
    "}\n"
   ]
  },
  {
   "cell_type": "code",
   "execution_count": 5,
   "id": "86d73bd3-4f71-4515-89a7-fba4b412a4b6",
   "metadata": {},
   "outputs": [
    {
     "name": "stdout",
     "output_type": "stream",
     "text": [
      "Finance\n",
      "{'name': 'Bob', 'age': 35, 'department': 'Finance'}\n"
     ]
    }
   ],
   "source": [
    "print(employees[\"102\"][\"department\"])\n",
    "print(employees[\"102\"])"
   ]
  },
  {
   "cell_type": "code",
   "execution_count": 8,
   "id": "5798d97b-bb26-4043-86e2-4c6ff71dec1c",
   "metadata": {},
   "outputs": [],
   "source": [
    "# NESTED DICTIONARY:\n",
    " \n",
    "students = {\n",
    "   \"John\": {\n",
    "      \"age\": 20,\n",
    "      \"courses\": [\"Math\", \"Science\"],\n",
    "      \"grade\": \"A\"\n",
    "   },\n",
    "   \"Jane\": {\n",
    "      \"age\": 22,\n",
    "      \"courses\": [\"History\", \"English\"],\n",
    "      \"grade\": \"B\"\n",
    "   }\n",
    "}"
   ]
  },
  {
   "cell_type": "code",
   "execution_count": 9,
   "id": "8adcbc77-1d5a-43d8-a03c-0ece3bbe4e7b",
   "metadata": {},
   "outputs": [
    {
     "name": "stdout",
     "output_type": "stream",
     "text": [
      "['Math', 'Science']\n"
     ]
    }
   ],
   "source": [
    "print(students[\"John\"][\"courses\"]) "
   ]
  },
  {
   "cell_type": "code",
   "execution_count": 10,
   "id": "34802261-603f-4e97-9cbd-16d19f3cd5bc",
   "metadata": {},
   "outputs": [
    {
     "name": "stdout",
     "output_type": "stream",
     "text": [
      "A\n"
     ]
    }
   ],
   "source": [
    "print(students[\"John\"][\"grade\"])"
   ]
  },
  {
   "cell_type": "code",
   "execution_count": 11,
   "id": "9d927453-22bc-4d66-96e6-c29160b21ccf",
   "metadata": {},
   "outputs": [
    {
     "name": "stdout",
     "output_type": "stream",
     "text": [
      "22\n"
     ]
    }
   ],
   "source": [
    "print(students[\"Jane\"][\"age\"])"
   ]
  },
  {
   "cell_type": "code",
   "execution_count": 12,
   "id": "716bf6af-e6bd-4802-9685-6596509b574e",
   "metadata": {},
   "outputs": [
    {
     "name": "stdout",
     "output_type": "stream",
     "text": [
      "['Math', 'Science', 'Art']\n"
     ]
    }
   ],
   "source": [
    "# Add a new course to John's courses\n",
    "students[\"John\"][\"courses\"].append(\"Art\")\n",
    "print(students[\"John\"][\"courses\"])"
   ]
  },
  {
   "cell_type": "code",
   "execution_count": 13,
   "id": "09a0db98-2401-4593-98bd-427e86e23560",
   "metadata": {},
   "outputs": [
    {
     "name": "stdout",
     "output_type": "stream",
     "text": [
      "A\n"
     ]
    }
   ],
   "source": [
    "# Change Jane's grade\n",
    "students[\"Jane\"][\"grade\"] = \"A\"\n",
    "print(students[\"Jane\"][\"grade\"])"
   ]
  },
  {
   "cell_type": "code",
   "execution_count": 15,
   "id": "2491dacb-3ae5-4fa7-ab6d-c511fb94cd59",
   "metadata": {},
   "outputs": [
    {
     "name": "stdout",
     "output_type": "stream",
     "text": [
      "Student: John\n",
      "  age: 20\n",
      "  courses: ['Math', 'Science', 'Art']\n",
      "  grade: A\n",
      "Student: Jane\n",
      "  age: 22\n",
      "  courses: ['History', 'English']\n",
      "  grade: A\n"
     ]
    }
   ],
   "source": [
    "for student, details in students.items():\n",
    "    print(f\"Student: {student}\")\n",
    "    for key, value in details.items():\n",
    "        print(f\"  {key}: {value}\")"
   ]
  },
  {
   "cell_type": "code",
   "execution_count": 16,
   "id": "7495ccc5-840a-4222-81e6-d496a705839d",
   "metadata": {},
   "outputs": [],
   "source": [
    "inventory = {\n",
    "    \"Laptop\": {\n",
    "        \"price\": 1000,\n",
    "        \"quantity\": 50,\n",
    "        \"category\": \"Electronics\"\n",
    "    },\n",
    "    \"Chair\": {\n",
    "        \"price\": 150,\n",
    "        \"quantity\": 300,\n",
    "        \"category\": \"Furniture\"\n",
    "    },\n",
    "    \"Pen\": {\n",
    "        \"price\": 2,\n",
    "        \"quantity\": 5000,\n",
    "        \"category\": \"Stationery\"\n",
    "    }\n",
    "}\n",
    " \n"
   ]
  },
  {
   "cell_type": "code",
   "execution_count": 17,
   "id": "7bec73d3-5c6d-4e9d-9d6f-0741ff2729a9",
   "metadata": {},
   "outputs": [
    {
     "name": "stdout",
     "output_type": "stream",
     "text": [
      "1000\n",
      "350\n"
     ]
    }
   ],
   "source": [
    "# Access price of Laptop\n",
    "print(inventory[\"Laptop\"][\"price\"])  \n",
    " \n",
    "# Increase the quantity of Chairs\n",
    "inventory[\"Chair\"][\"quantity\"] += 50\n",
    "print(inventory[\"Chair\"][\"quantity\"])  "
   ]
  },
  {
   "cell_type": "code",
   "execution_count": null,
   "id": "4cfb87d4-4f68-4e33-9ddb-c56fa7a5b8ca",
   "metadata": {},
   "outputs": [],
   "source": []
  }
 ],
 "metadata": {
  "kernelspec": {
   "display_name": "Python 3 (ipykernel)",
   "language": "python",
   "name": "python3"
  },
  "language_info": {
   "codemirror_mode": {
    "name": "ipython",
    "version": 3
   },
   "file_extension": ".py",
   "mimetype": "text/x-python",
   "name": "python",
   "nbconvert_exporter": "python",
   "pygments_lexer": "ipython3",
   "version": "3.12.6"
  }
 },
 "nbformat": 4,
 "nbformat_minor": 5
}
