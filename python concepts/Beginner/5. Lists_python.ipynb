{
 "cells": [
  {
   "cell_type": "markdown",
   "id": "7c4b046d-1c02-4e7d-8745-1bf0337fc44d",
   "metadata": {},
   "source": [
    "### Key Features of Lists:\n",
    "__Mutable__: You can modify a list (e.g., add, remove, or change items).  \n",
    "__Ordered__: Elements in a list have a specific order.  \n",
    "__Indexing__: Elements are accessible using indexes, with the first item at index 0.  \n",
    "__Mixed Data Types__: A list can contain elements of different types, such as integers, strings, floats, etc.  \n",
    "\n",
    "#### creating a list\n"
   ]
  },
  {
   "cell_type": "code",
   "execution_count": 1,
   "id": "f8b158b1-67ff-44b1-a19b-4f7dc6e83cf3",
   "metadata": {},
   "outputs": [],
   "source": [
    "\n",
    "# Empty list\n",
    "my_list = []\n",
    "\n",
    "# List with values\n",
    "numbers = [1, 2, 3, 4, 5]\n",
    "mixed_list = [1, \"hello\", 3.14, True]\n"
   ]
  },
  {
   "cell_type": "markdown",
   "id": "2b24b3d4-fda8-464a-a361-d8486c9d7550",
   "metadata": {},
   "source": [
    "#### accessing elements in a list"
   ]
  },
  {
   "cell_type": "code",
   "execution_count": 3,
   "id": "0158edc6-7781-4837-9502-e5d863226d65",
   "metadata": {},
   "outputs": [
    {
     "name": "stdout",
     "output_type": "stream",
     "text": [
      "1\n",
      "4\n",
      "5\n",
      "3\n"
     ]
    }
   ],
   "source": [
    "# Accessing by index\n",
    "print(numbers[0])  \n",
    "print(numbers[3]) \n",
    "\n",
    "# Negative indexing\n",
    "print(numbers[-1])  \n",
    "print(numbers[-3]) \n"
   ]
  },
  {
   "cell_type": "code",
   "execution_count": 4,
   "id": "fbcd9f54-ee51-416a-93af-980deb9a292b",
   "metadata": {},
   "outputs": [
    {
     "name": "stdout",
     "output_type": "stream",
     "text": [
      "[1, 1000, 3, 4, 5]\n"
     ]
    }
   ],
   "source": [
    "# changing elements in list\n",
    "numbers[1]=1000\n",
    "print(numbers)"
   ]
  },
  {
   "cell_type": "markdown",
   "id": "8d85d726-b69c-47da-82d4-64cb960137e1",
   "metadata": {},
   "source": [
    "#### adding an element to list \n",
    "\n",
    "__using `append()`__ "
   ]
  },
  {
   "cell_type": "code",
   "execution_count": 15,
   "id": "603517d2-6249-45da-8402-db5b2546c9f9",
   "metadata": {},
   "outputs": [
    {
     "name": "stdout",
     "output_type": "stream",
     "text": [
      "[1, 1000, 3, 4, 5, 6, 65]\n"
     ]
    }
   ],
   "source": [
    "numbers.append(65)\n",
    "print(numbers)  "
   ]
  },
  {
   "cell_type": "markdown",
   "id": "3f46d360-2d7d-4cdb-ac47-050a71a65e37",
   "metadata": {},
   "source": [
    "__using `insert()`__ "
   ]
  },
  {
   "cell_type": "code",
   "execution_count": 16,
   "id": "cb6f8e40-c0a3-4c2f-ac2f-6337f85710ca",
   "metadata": {},
   "outputs": [
    {
     "name": "stdout",
     "output_type": "stream",
     "text": [
      "[1, 1000, 7, 3, 4, 5, 6, 65]\n"
     ]
    }
   ],
   "source": [
    "numbers.insert(2, 7) \n",
    "print(numbers)"
   ]
  },
  {
   "cell_type": "code",
   "execution_count": 17,
   "id": "fbb12249-4c9a-48cb-afed-fd772d0f780f",
   "metadata": {},
   "outputs": [],
   "source": []
  },
  {
   "cell_type": "code",
   "execution_count": 21,
   "id": "1f41fea7-91ba-4504-8552-59355739c062",
   "metadata": {},
   "outputs": [
    {
     "name": "stdout",
     "output_type": "stream",
     "text": [
      "[]\n",
      "[]\n",
      "[1, 2, 3]\n",
      "[1, 2, 3]\n",
      "[(1, 2), (2, 4), (3, 6)]\n",
      "[[1, 2], [2, 4], [3, 6]]\n",
      "[1, 'hey', [1, 2]]\n",
      "3\n"
     ]
    }
   ],
   "source": [
    "# Create an empty list using square brackets.\n",
    "numbers = []\n",
    "print(numbers) \n",
    "\n",
    "# Create an empty list using list().\n",
    "numbers = list()\n",
    "print(numbers) \n",
    "\n",
    "# Create a list of numbers.\n",
    "numbers = [1, 2, 3]\n",
    "print(numbers) \n",
    "\n",
    "# Create a list of numbers in a range.\n",
    "numbers = list(range(1, 4))\n",
    "print(numbers) \n",
    "\n",
    "# Create a list of tuples.\n",
    "tuples_list = [(1, 2), (2, 4), (3, 6)]\n",
    "print(tuples_list) \n",
    "\n",
    "# Create a list of lists.\n",
    "list_of_lists = [[1, 2], [2, 4], [3, 6]]\n",
    "print(list_of_lists) \n",
    "\n",
    "# Create a list with items of different data types.\n",
    "random_list = [1, \"hey\", [1, 2]]\n",
    "print(random_list) \n",
    "\n",
    "# Get length of list by using len() method.\n",
    "numbers = [5, 8, 8]\n",
    "print(len(numbers)) \n",
    "\n",
    "\n"
   ]
  },
  {
   "cell_type": "code",
   "execution_count": 19,
   "id": "f421f150-3145-4517-a7be-e5fb5a333eaf",
   "metadata": {},
   "outputs": [
    {
     "name": "stdout",
     "output_type": "stream",
     "text": [
      "hey\n",
      "you?\n",
      "you?\n",
      "['how', 'are', 'you?']\n",
      "['hey', 'there!']\n",
      "['how', 'are', 'you?']\n",
      "['hey', 'there!']\n",
      "['there!', 'how', 'are']\n",
      "['hey', 'there!', 'how', 'are', 'you?']\n"
     ]
    }
   ],
   "source": [
    "# Access elements of a list by indexing.\n",
    "str_list = [\"hey\", \"there!\", \"how\", \"are\", \"you?\"]\n",
    "print(str_list[0]) \n",
    "print(str_list[len(str_list) - 1]) \n",
    "print(str_list[-1]) \n",
    "\n",
    "# Slicing a list.\n",
    "str_list = [\"hey\", \"there!\", \"how\", \"are\", \"you?\"]\n",
    "print(str_list[2:]) \n",
    "print(str_list[:2]) \n",
    "print(str_list[-3:]) \n",
    "print(str_list[:-3]) \n",
    "print(str_list[1:4]) \n",
    "# Get a copy of list by slicing.\n",
    "print(str_list[:]) \n"
   ]
  },
  {
   "cell_type": "code",
   "execution_count": 20,
   "id": "6bbccd5d-eef5-4d41-8a4c-500f04774ecf",
   "metadata": {},
   "outputs": [
    {
     "name": "stdout",
     "output_type": "stream",
     "text": [
      "[1, 2]\n",
      "[1, 2, 3]\n",
      "[1, 2, 'Hey', 'there']\n",
      "[100, 2, 3]\n",
      "[300, 400, 3]\n",
      "[300]\n",
      "[]\n",
      "['how', 'are', 'you?']\n"
     ]
    }
   ],
   "source": [
    "# Append to a list.\n",
    "numbers = [1, 2]\n",
    "print(numbers) \n",
    "numbers.append(3)\n",
    "print(numbers) \n",
    "\n",
    "# Concatenate lists.\n",
    "numbers = [1, 2]\n",
    "strings = [\"Hey\", \"there\"]\n",
    "print(numbers + strings) \n",
    "\n",
    "# Mutate a list, that is, change its contents.\n",
    "numbers = [1, 2, 3]\n",
    "numbers[0] = 100\n",
    "print(numbers) \n",
    "numbers[0:2] = [300, 400]\n",
    "print(numbers) \n",
    "numbers[1:3] = []\n",
    "print(numbers) \n",
    "numbers[:] = []\n",
    "print(numbers) \n",
    "\n",
    "# Insert item to a list.\n",
    "greeting = [\"how\", \"you?\"]\n",
    "greeting.insert(1, \"are\")\n",
    "print(greeting) "
   ]
  },
  {
   "cell_type": "markdown",
   "id": "3619ef4d-b73f-46a2-a720-8b19444f4c4f",
   "metadata": {},
   "source": [
    "### String operations"
   ]
  },
  {
   "cell_type": "code",
   "execution_count": 6,
   "id": "e610fa96-cb43-41eb-9456-437157f58422",
   "metadata": {},
   "outputs": [
    {
     "name": "stdout",
     "output_type": "stream",
     "text": [
      "6\n",
      "P\n",
      "n\n",
      "yth\n",
      "HELLO\n",
      "hello\n",
      "Hello Python\n",
      "['Hello', 'World']\n",
      "Hello World\n",
      "Python\n"
     ]
    },
    {
     "data": {
      "text/plain": [
       "'Python version 3.9'"
      ]
     },
     "execution_count": 6,
     "metadata": {},
     "output_type": "execute_result"
    }
   ],
   "source": [
    "# String Creation\n",
    "s1 = 'Hello'\n",
    "s2 = \"World\"\n",
    "s3 = '''Python Strings'''\n",
    "\n",
    "# String Concatenation\n",
    "s = \"Hello\" + \" \" + \"World\"\n",
    "s\n",
    "# String Repetition\n",
    "s = \"Hi! \" * 3\n",
    "s\n",
    "\n",
    "# String Length\n",
    "length = len(\"Python\")\n",
    "print(length)\n",
    "\n",
    "# Accessing Characters\n",
    "s = \"Python\"\n",
    "first_char = s[0]\n",
    "last_char = s[-1]\n",
    "print(first_char)\n",
    "print(last_char)\n",
    "\n",
    "# Slicing Strings\n",
    "sub = s[1:4]\n",
    "print(sub)\n",
    "\n",
    "# Converting to Uppercase/Lowercase\n",
    "s = \"hello\"\n",
    "upper_s = s.upper()\n",
    "lower_s = s.lower()\n",
    "print(upper_s)\n",
    "print(lower_s)\n",
    "\n",
    "# String Replacement\n",
    "s = \"Hello World\"\n",
    "new_s = s.replace(\"World\", \"Python\")\n",
    "print(new_s)\n",
    "\n",
    "# String Splitting\n",
    "s = \"Hello World\"\n",
    "words = s.split()\n",
    "print(words)\n",
    "\n",
    "# Joining Strings\n",
    "words = ['Hello', 'World']\n",
    "s = \" \".join(words)\n",
    "print(s)\n",
    "\n",
    "# String Strip\n",
    "s = \"  Python  \"\n",
    "stripped_s = s.strip()\n",
    "print(stripped_s)\n",
    "\n",
    "# Check Substring\n",
    "s = \"Hello World\"\n",
    "result = \"World\" in s\n",
    "result\n",
    "\n",
    "# String Formatting\n",
    "name = \"Python\"\n",
    "version = 3.9\n",
    "s = f\"{name} version {version}\"\n",
    "s"
   ]
  },
  {
   "cell_type": "code",
   "execution_count": null,
   "id": "adec5872-d022-4206-9653-cbd170c7e7f1",
   "metadata": {},
   "outputs": [],
   "source": []
  }
 ],
 "metadata": {
  "kernelspec": {
   "display_name": "Python 3 (ipykernel)",
   "language": "python",
   "name": "python3"
  },
  "language_info": {
   "codemirror_mode": {
    "name": "ipython",
    "version": 3
   },
   "file_extension": ".py",
   "mimetype": "text/x-python",
   "name": "python",
   "nbconvert_exporter": "python",
   "pygments_lexer": "ipython3",
   "version": "3.12.6"
  }
 },
 "nbformat": 4,
 "nbformat_minor": 5
}
