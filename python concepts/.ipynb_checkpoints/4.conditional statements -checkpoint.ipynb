{
 "cells": [
  {
   "cell_type": "markdown",
   "id": "5c3be8a8-3cca-4a3c-a98a-e03ab845d51f",
   "metadata": {},
   "source": [
    "## 1\n",
    "Write a Python program that accepts a student's score as input and assigns a grade based on the following conditions:  \n",
    "If the score is greater than or equal to 90, assign an \"A\".  \n",
    "If the score is between 80 and 89, assign a \"B\".  \n",
    "If the score is between 70 and 79, assign a \"C\".  \n",
    "If the score is between 60 and 69, assign a \"D\".  \n",
    "If the score is less than 60, assign an \"F\".  \n",
    "If the score is outside the range 0-100, print an error message.  \n"
   ]
  },
  {
   "cell_type": "code",
   "execution_count": 7,
   "id": "e497af60-de99-4378-a4c9-b7f0167e6e36",
   "metadata": {},
   "outputs": [
    {
     "name": "stdin",
     "output_type": "stream",
     "text": [
      "Enter your score (0-100):  99.9999\n"
     ]
    },
    {
     "name": "stdout",
     "output_type": "stream",
     "text": [
      "Grade: A\n"
     ]
    }
   ],
   "source": [
    "# Get score input from the user\n",
    "score = float(input(\"Enter your score (0-100): \"))\n",
    "\n",
    "if 90<= score <= 100:\n",
    "    print('Grade: A')\n",
    "elif score >= 80 and score < 90:\n",
    "    print('Grade: B')\n",
    "elif score >= 70 and score < 80:\n",
    "    print('Grade: C')\n",
    "elif score >= 60 and score < 70:\n",
    "    print('Grade: D')\n",
    "elif score < 60 and score >= 0:\n",
    "    print('Grade: F')\n",
    "else:\n",
    "    print(\"Enter a valid score (0-100).\")\n"
   ]
  },
  {
   "cell_type": "markdown",
   "id": "c2764818-e382-466f-beab-65d2551bcbca",
   "metadata": {},
   "source": [
    "## 2\n",
    "Write a Python program that accepts three numbers as input, representing the lengths of the sides of a triangle. The program should determine and print the type of triangle:\n",
    "\n",
    "Equilateral: All sides are equal.  \n",
    "Isosceles: Two sides are equal.  \n",
    "Scalene: All sides are different.  \n",
    "Not a triangle: If the sum of any two sides is less than or equal to the third side, it’s not a valid triangle."
   ]
  },
  {
   "cell_type": "code",
   "execution_count": 23,
   "id": "cabe6c23-2c05-4ae0-bdac-827e7c6c8b31",
   "metadata": {},
   "outputs": [
    {
     "name": "stdin",
     "output_type": "stream",
     "text": [
      "enter the 3 sides length  1 1 2\n"
     ]
    },
    {
     "name": "stdout",
     "output_type": "stream",
     "text": [
      "Not a triangle\n"
     ]
    }
   ],
   "source": [
    "sides_length=input('enter the 3 sides length ')\n",
    "triangle_type = [\n",
    "    'Not a triangle' if a+b<=c or b+c<=a or a+c<=b\n",
    "    else 'Equilateral' if a == b == c \n",
    "    else 'Isosceles' if a == b or b == c or a == c \n",
    "    else 'Scalene'\n",
    "    for a, b, c in [map(int, sides_length.split())]\n",
    "]\n",
    "print(triangle_type[0])"
   ]
  },
  {
   "cell_type": "markdown",
   "id": "aa441068-e364-4fea-881d-dc2783de847b",
   "metadata": {},
   "source": [
    "## 3\n",
    "Write a program that simulates an ATM withdrawal system. The program should prompt the user to enter:\n",
    "\n",
    "Their available balance.  \n",
    "The amount they want to withdraw.  \n",
    "The conditions are:  \n",
    "\n",
    "If the withdrawal amount is greater than the balance, print \"Insufficient funds\".  \n",
    "If the withdrawal amount is a multiple of 5, deduct \\\\$1.50 for transaction fees.  \r\n",
    "Otherwise, print \"Invalid withdrawal amount\".  \n",
    "Challenge: Add an extra check where the user can only withdraw in multiples of $5 (e.g., 10, 15, 20, etc.).  "
   ]
  },
  {
   "cell_type": "code",
   "execution_count": 30,
   "id": "91687839-57bb-408a-ae63-c2eb39d66997",
   "metadata": {},
   "outputs": [
    {
     "name": "stdout",
     "output_type": "stream",
     "text": [
      "Your random available balance is: $1670.08\n"
     ]
    },
    {
     "name": "stdin",
     "output_type": "stream",
     "text": [
      "Enter the amount you want to withdraw: $ 1500\n"
     ]
    },
    {
     "name": "stdout",
     "output_type": "stream",
     "text": [
      "Withdrawal successful! Your new balance is: $168.58\n"
     ]
    }
   ],
   "source": [
    "import random\n",
    "\n",
    "# Generate a random balance between 0 and 1000\n",
    "balance = round(random.uniform(1000, 10000), 2)\n",
    "print(f\"Your random available balance is: ${balance}\")\n",
    "\n",
    "# Get user input for withdrawal amount\n",
    "withdrawal_amount = float(input(\"Enter the amount you want to withdraw: $\"))\n",
    "\n",
    "# Check if the withdrawal amount is greater than the balance\n",
    "if withdrawal_amount > balance:\n",
    "    print(\"Insufficient funds.\")\n",
    "elif withdrawal_amount % 5 != 0:\n",
    "    print(\"Invalid withdrawal amount. Please enter an amount that is a multiple of $5.\")\n",
    "elif withdrawal_amount + 1.50 > balance:\n",
    "    print(\"Insufficient funds to cover transaction fee.\")\n",
    "else:\n",
    "    # Deduct the withdrawal amount and transaction fee\n",
    "    balance -= (withdrawal_amount + 1.50)\n",
    "    print(f\"Withdrawal successful! Your new balance is: ${balance:.2f}\")\n"
   ]
  },
  {
   "cell_type": "markdown",
   "id": "13b3c607-3f6b-4487-b47b-3a3411364161",
   "metadata": {},
   "source": [
    "## 4\n",
    "Write a program that calculates the electricity bill based on the number of units consumed. The bill should be calculated according to the following tariff structure:\n",
    "\n",
    "For the first 100 units: \\\\$0.50 per unit.  \n",
    "For the next 100 units: \\\\$0.75 per unit.  \n",
    "For above 200 units: $1.20 per unit.  \n",
    "If the total consumption exceeds 300 units, a surcharge of 15% is applied to the total bill.  \n",
    "Input: Total number of units consumed. Output: Total electricity bill, including the surcharge if applicable."
   ]
  },
  {
   "cell_type": "code",
   "execution_count": 47,
   "id": "03bccad0-0253-422a-93ab-a8855a2b152c",
   "metadata": {},
   "outputs": [
    {
     "name": "stdout",
     "output_type": "stream",
     "text": [
      "previous_units:  525.1597004992923\n",
      "current_units:  947.2855124573671\n",
      "391.56\n"
     ]
    }
   ],
   "source": [
    "import random\n",
    "previous_units= random.uniform(10,700)\n",
    "print(\"previous_units: \", previous_units)\n",
    "\n",
    "current_units=random.uniform(previous_units, 1000)\n",
    "print(\"current_units: \", current_units)\n",
    "\n",
    "units_consumed=float(f\"{current_units-previous_units:.2f}\")\n",
    "Bill=0\n",
    "if units_consumed >= 100 :\n",
    "    Bill+=100*0.50\n",
    "    if units_consumed >=200 :\n",
    "        Bill+=100*0.75\n",
    "        Bill+= (units_consumed-200)*1.20\n",
    "    else: Bill+= (units_consumed-100)*0.75\n",
    "elif Bill>= 300: \n",
    "    Bill += Bill*0.15\n",
    "else: Bill += units_consumed *0.50\n",
    "print(f\"{Bill:.2f}\")"
   ]
  },
  {
   "cell_type": "code",
   "execution_count": null,
   "id": "35951d3d-a64d-4bba-b878-33e7aa9a9803",
   "metadata": {},
   "outputs": [],
   "source": []
  },
  {
   "cell_type": "code",
   "execution_count": null,
   "id": "ae9b21af-2acd-47ce-becb-24c76c435574",
   "metadata": {},
   "outputs": [],
   "source": []
  }
 ],
 "metadata": {
  "kernelspec": {
   "display_name": "Python 3 (ipykernel)",
   "language": "python",
   "name": "python3"
  },
  "language_info": {
   "codemirror_mode": {
    "name": "ipython",
    "version": 3
   },
   "file_extension": ".py",
   "mimetype": "text/x-python",
   "name": "python",
   "nbconvert_exporter": "python",
   "pygments_lexer": "ipython3",
   "version": "3.12.4"
  }
 },
 "nbformat": 4,
 "nbformat_minor": 5
}
